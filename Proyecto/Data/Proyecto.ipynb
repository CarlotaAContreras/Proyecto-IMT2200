{
 "cells": [
  {
   "cell_type": "markdown",
   "metadata": {},
   "source": [
    "<img src= \"https://i.pinimg.com/564x/76/91/87/76918797dfea93abead3144fb6b2ce7d.jpg\" style=\"width:1200px;height:700px;padding-left:180px\"/>"
   ]
  },
  {
   "cell_type": "markdown",
   "metadata": {},
   "source": [
    "# Si la Tierra está cambiando, ¿por qué nosotros no?\n",
    "### Analisis del Cambio Climatico"
   ]
  },
  {
   "cell_type": "markdown",
   "metadata": {},
   "source": [
    "El cambio climático es un dilema que la sociedad viene arrastrando hace décadas. Si bien es una situación que se tenía conocimiento desde numerosos años, no es hace mucho cuando la conciencia y las medidas se pusieron sobre la palestra. Es una problemática que atormenta gravemente en su paulatino aumento a las futuras generaciones. Los niveles de dióxido de carbono (CO2) y de otros gases de efecto invernadero en la atmósfera aumentaron, cada vez alcanzan nuevos niveles más altos. A inicios de 2021, el IPCC –Panel Intergubernamental de Expertos en el Cambio Climático (órgano de las Naciones Unidas para la evaluación de la ciencia relacionada con este último)-publicó su último reporte de casi cuatro mil páginas que dejo claro la emergencia\n",
    "meteorológica en la cual nos vemos envueltos. Este expresa duramente que si no se hace un severo cambio de aquí a 20 años más llegaremos al punto de no-retorno. Nosotros queremos generar conciencia con datos para que esta emergencia climática que vivimos en la actualidad sea percibida con más peso. Sabemos que los grandes cambios comienzan de cambios pequeños, por esta razón, nuestro proyecto está dirigido informar y concientizar, demostrando lo rápido que se ha deteriorado el estado de la tierra en la última década. Luego hacer la relación, con dos temas importantes que afectan en mayor parte a la problemática medioambiental: la emision de gases a niveles exuberantes.\n"
   ]
  },
  {
   "cell_type": "markdown",
   "metadata": {},
   "source": [
    "A lo largo del trabajo queremos responder las siguientes preguntas: \n",
    "\n",
    "1. ¿Aproximadamente cuál será la cantidad de CO2 emitido en el 2030, si seguimos en las\n",
    "condiciones que estamos?\n",
    "2. ¿Aproximadamente cuál será la cantidad de gas metano emitido en el 2030, si seguimos en las\n",
    "condiciones que estamos?\n",
    "3. ¿Cuál es el país que emite más dióxido de carbono a la atmosfera la última década (2010-2020)?\n",
    "4. ¿Cuál es el país que emite más metano a la atmosfera la última década (2010-2020)?"
   ]
  },
  {
   "cell_type": "markdown",
   "metadata": {},
   "source": [
    "### Datos utilizados"
   ]
  },
  {
   "cell_type": "markdown",
   "metadata": {},
   "source": [
    "Data Emisiones de CO2: Distribuido por Our World In Data(OWID) que brinda datos sobre la emisión de CO2 por diferentes países a lo largo de los años.\n",
    "Methane Emission per Country: Este dataset también lo obtuvimos de OWID y contiene información de la emisión de metano. \n",
    "Ambos dataset son utilizados para analizar la contaminación.\n",
    "Cattle livestock count-heads: Obtenido de OWID, aquí encontramos registros de la cantidad de ganado de varios países durante años que utilizaremos para establecer una relación entre la contaminación y la industria ganadera. \n",
    "GlobalLandTemperaturesByCountry |: Información de los promedios de temperatura de distintos países que consideramos desde el año 2000."
   ]
  },
  {
   "cell_type": "code",
   "execution_count": 1,
   "metadata": {
    "colab": {
     "base_uri": "https://localhost:8080/"
    },
    "id": "6icQmaE2j8dN",
    "outputId": "bb41826c-ec6f-4ed2-d38d-59dce0fba6cc"
   },
   "outputs": [
    {
     "name": "stdout",
     "output_type": "stream",
     "text": [
      "Requirement already satisfied: geopandas in c:\\users\\carlota\\anaconda3\\envs\\progra\\lib\\site-packages (0.9.0+71.g9f5413f)\n",
      "Requirement already satisfied: shapely>=1.6 in c:\\users\\carlota\\anaconda3\\envs\\progra\\lib\\site-packages (from geopandas) (1.7.1)\n",
      "Requirement already satisfied: pandas>=0.25.0 in c:\\users\\carlota\\anaconda3\\envs\\progra\\lib\\site-packages (from geopandas) (1.3.2)\n",
      "Requirement already satisfied: fiona>=1.8 in c:\\users\\carlota\\anaconda3\\envs\\progra\\lib\\site-packages (from geopandas) (1.8.13.post1)\n",
      "Requirement already satisfied: pyproj>=2.2.0 in c:\\users\\carlota\\anaconda3\\envs\\progra\\lib\\site-packages (from geopandas) (2.6.1.post1)\n",
      "Requirement already satisfied: attrs>=17 in c:\\users\\carlota\\anaconda3\\envs\\progra\\lib\\site-packages (from fiona>=1.8->geopandas) (21.2.0)\n",
      "Requirement already satisfied: click<8,>=4.0 in c:\\users\\carlota\\anaconda3\\envs\\progra\\lib\\site-packages (from fiona>=1.8->geopandas) (7.1.2)\n",
      "Requirement already satisfied: cligj>=0.5 in c:\\users\\carlota\\anaconda3\\envs\\progra\\lib\\site-packages (from fiona>=1.8->geopandas) (0.7.2)\n",
      "Requirement already satisfied: click-plugins>=1.0 in c:\\users\\carlota\\anaconda3\\envs\\progra\\lib\\site-packages (from fiona>=1.8->geopandas) (1.1.1)\n",
      "Requirement already satisfied: six>=1.7 in c:\\users\\carlota\\anaconda3\\envs\\progra\\lib\\site-packages (from fiona>=1.8->geopandas) (1.15.0)\n",
      "Requirement already satisfied: munch in c:\\users\\carlota\\anaconda3\\envs\\progra\\lib\\site-packages (from fiona>=1.8->geopandas) (2.5.0)\n",
      "Requirement already satisfied: python-dateutil>=2.7.3 in c:\\users\\carlota\\anaconda3\\envs\\progra\\lib\\site-packages (from pandas>=0.25.0->geopandas) (2.8.2)\n",
      "Requirement already satisfied: numpy>=1.17.3 in c:\\users\\carlota\\anaconda3\\envs\\progra\\lib\\site-packages (from pandas>=0.25.0->geopandas) (1.20.3)\n",
      "Requirement already satisfied: pytz>=2017.3 in c:\\users\\carlota\\anaconda3\\envs\\progra\\lib\\site-packages (from pandas>=0.25.0->geopandas) (2021.1)\n"
     ]
    }
   ],
   "source": [
    "!pip install geopandas"
   ]
  },
  {
   "cell_type": "code",
   "execution_count": 2,
   "metadata": {
    "id": "HP0FLmxme3jL"
   },
   "outputs": [],
   "source": [
    "#Importacion de modulos importantes para la Investigacion\n",
    "import pandas as pd\n",
    "import geopandas as gpd\n",
    "import matplotlib.pyplot as plt\n",
    "import numpy as np"
   ]
  },
  {
   "cell_type": "markdown",
   "metadata": {},
   "source": [
    "# ANALISIS EXPLORATORIO\n"
   ]
  },
  {
   "cell_type": "markdown",
   "metadata": {},
   "source": [
    "1. Dioxido de Carbono"
   ]
  },
  {
   "cell_type": "markdown",
   "metadata": {},
   "source": [
    "· Primero, comenzaremos abriendo la data de emisiones de dioxido de carbono en la atmosfera. "
   ]
  },
  {
   "cell_type": "code",
   "execution_count": 3,
   "metadata": {
    "colab": {
     "base_uri": "https://localhost:8080/",
     "height": 444
    },
    "id": "ZRHQ94V9gJjN",
    "outputId": "f0cc81d7-27eb-4f09-fb42-bada338371f2"
   },
   "outputs": [
    {
     "data": {
      "text/html": [
       "<div>\n",
       "<style scoped>\n",
       "    .dataframe tbody tr th:only-of-type {\n",
       "        vertical-align: middle;\n",
       "    }\n",
       "\n",
       "    .dataframe tbody tr th {\n",
       "        vertical-align: top;\n",
       "    }\n",
       "\n",
       "    .dataframe thead th {\n",
       "        text-align: right;\n",
       "    }\n",
       "</style>\n",
       "<table border=\"1\" class=\"dataframe\">\n",
       "  <thead>\n",
       "    <tr style=\"text-align: right;\">\n",
       "      <th></th>\n",
       "      <th>iso_code</th>\n",
       "      <th>country</th>\n",
       "      <th>year</th>\n",
       "      <th>co2</th>\n",
       "      <th>consumption_co2</th>\n",
       "      <th>co2_growth_prct</th>\n",
       "      <th>co2_growth_abs</th>\n",
       "      <th>trade_co2</th>\n",
       "      <th>co2_per_capita</th>\n",
       "      <th>consumption_co2_per_capita</th>\n",
       "      <th>...</th>\n",
       "      <th>ghg_per_capita</th>\n",
       "      <th>methane</th>\n",
       "      <th>methane_per_capita</th>\n",
       "      <th>nitrous_oxide</th>\n",
       "      <th>nitrous_oxide_per_capita</th>\n",
       "      <th>population</th>\n",
       "      <th>gdp</th>\n",
       "      <th>primary_energy_consumption</th>\n",
       "      <th>energy_per_capita</th>\n",
       "      <th>energy_per_gdp</th>\n",
       "    </tr>\n",
       "  </thead>\n",
       "  <tbody>\n",
       "    <tr>\n",
       "      <th>0</th>\n",
       "      <td>AFG</td>\n",
       "      <td>Afghanistan</td>\n",
       "      <td>1949</td>\n",
       "      <td>0.015</td>\n",
       "      <td>NaN</td>\n",
       "      <td>NaN</td>\n",
       "      <td>NaN</td>\n",
       "      <td>NaN</td>\n",
       "      <td>0.002</td>\n",
       "      <td>NaN</td>\n",
       "      <td>...</td>\n",
       "      <td>NaN</td>\n",
       "      <td>NaN</td>\n",
       "      <td>NaN</td>\n",
       "      <td>NaN</td>\n",
       "      <td>NaN</td>\n",
       "      <td>7624058.0</td>\n",
       "      <td>NaN</td>\n",
       "      <td>NaN</td>\n",
       "      <td>NaN</td>\n",
       "      <td>NaN</td>\n",
       "    </tr>\n",
       "    <tr>\n",
       "      <th>1</th>\n",
       "      <td>AFG</td>\n",
       "      <td>Afghanistan</td>\n",
       "      <td>1950</td>\n",
       "      <td>0.084</td>\n",
       "      <td>NaN</td>\n",
       "      <td>475.00</td>\n",
       "      <td>0.070</td>\n",
       "      <td>NaN</td>\n",
       "      <td>0.011</td>\n",
       "      <td>NaN</td>\n",
       "      <td>...</td>\n",
       "      <td>NaN</td>\n",
       "      <td>NaN</td>\n",
       "      <td>NaN</td>\n",
       "      <td>NaN</td>\n",
       "      <td>NaN</td>\n",
       "      <td>7752117.0</td>\n",
       "      <td>9.421400e+09</td>\n",
       "      <td>NaN</td>\n",
       "      <td>NaN</td>\n",
       "      <td>NaN</td>\n",
       "    </tr>\n",
       "    <tr>\n",
       "      <th>2</th>\n",
       "      <td>AFG</td>\n",
       "      <td>Afghanistan</td>\n",
       "      <td>1951</td>\n",
       "      <td>0.092</td>\n",
       "      <td>NaN</td>\n",
       "      <td>8.70</td>\n",
       "      <td>0.007</td>\n",
       "      <td>NaN</td>\n",
       "      <td>0.012</td>\n",
       "      <td>NaN</td>\n",
       "      <td>...</td>\n",
       "      <td>NaN</td>\n",
       "      <td>NaN</td>\n",
       "      <td>NaN</td>\n",
       "      <td>NaN</td>\n",
       "      <td>NaN</td>\n",
       "      <td>7840151.0</td>\n",
       "      <td>9.692280e+09</td>\n",
       "      <td>NaN</td>\n",
       "      <td>NaN</td>\n",
       "      <td>NaN</td>\n",
       "    </tr>\n",
       "    <tr>\n",
       "      <th>3</th>\n",
       "      <td>AFG</td>\n",
       "      <td>Afghanistan</td>\n",
       "      <td>1952</td>\n",
       "      <td>0.092</td>\n",
       "      <td>NaN</td>\n",
       "      <td>0.00</td>\n",
       "      <td>0.000</td>\n",
       "      <td>NaN</td>\n",
       "      <td>0.012</td>\n",
       "      <td>NaN</td>\n",
       "      <td>...</td>\n",
       "      <td>NaN</td>\n",
       "      <td>NaN</td>\n",
       "      <td>NaN</td>\n",
       "      <td>NaN</td>\n",
       "      <td>NaN</td>\n",
       "      <td>7935996.0</td>\n",
       "      <td>1.001732e+10</td>\n",
       "      <td>NaN</td>\n",
       "      <td>NaN</td>\n",
       "      <td>NaN</td>\n",
       "    </tr>\n",
       "    <tr>\n",
       "      <th>4</th>\n",
       "      <td>AFG</td>\n",
       "      <td>Afghanistan</td>\n",
       "      <td>1953</td>\n",
       "      <td>0.106</td>\n",
       "      <td>NaN</td>\n",
       "      <td>16.00</td>\n",
       "      <td>0.015</td>\n",
       "      <td>NaN</td>\n",
       "      <td>0.013</td>\n",
       "      <td>NaN</td>\n",
       "      <td>...</td>\n",
       "      <td>NaN</td>\n",
       "      <td>NaN</td>\n",
       "      <td>NaN</td>\n",
       "      <td>NaN</td>\n",
       "      <td>NaN</td>\n",
       "      <td>8039684.0</td>\n",
       "      <td>1.063052e+10</td>\n",
       "      <td>NaN</td>\n",
       "      <td>NaN</td>\n",
       "      <td>NaN</td>\n",
       "    </tr>\n",
       "    <tr>\n",
       "      <th>...</th>\n",
       "      <td>...</td>\n",
       "      <td>...</td>\n",
       "      <td>...</td>\n",
       "      <td>...</td>\n",
       "      <td>...</td>\n",
       "      <td>...</td>\n",
       "      <td>...</td>\n",
       "      <td>...</td>\n",
       "      <td>...</td>\n",
       "      <td>...</td>\n",
       "      <td>...</td>\n",
       "      <td>...</td>\n",
       "      <td>...</td>\n",
       "      <td>...</td>\n",
       "      <td>...</td>\n",
       "      <td>...</td>\n",
       "      <td>...</td>\n",
       "      <td>...</td>\n",
       "      <td>...</td>\n",
       "      <td>...</td>\n",
       "      <td>...</td>\n",
       "    </tr>\n",
       "    <tr>\n",
       "      <th>24646</th>\n",
       "      <td>ZWE</td>\n",
       "      <td>Zimbabwe</td>\n",
       "      <td>2015</td>\n",
       "      <td>12.170</td>\n",
       "      <td>13.308</td>\n",
       "      <td>1.65</td>\n",
       "      <td>0.198</td>\n",
       "      <td>1.138</td>\n",
       "      <td>0.881</td>\n",
       "      <td>0.963</td>\n",
       "      <td>...</td>\n",
       "      <td>4.885</td>\n",
       "      <td>11.87</td>\n",
       "      <td>0.859</td>\n",
       "      <td>6.68</td>\n",
       "      <td>0.484</td>\n",
       "      <td>13814642.0</td>\n",
       "      <td>2.102746e+10</td>\n",
       "      <td>55.642</td>\n",
       "      <td>4027.628</td>\n",
       "      <td>2.223</td>\n",
       "    </tr>\n",
       "    <tr>\n",
       "      <th>24647</th>\n",
       "      <td>ZWE</td>\n",
       "      <td>Zimbabwe</td>\n",
       "      <td>2016</td>\n",
       "      <td>10.815</td>\n",
       "      <td>12.171</td>\n",
       "      <td>-11.14</td>\n",
       "      <td>-1.356</td>\n",
       "      <td>1.356</td>\n",
       "      <td>0.771</td>\n",
       "      <td>0.868</td>\n",
       "      <td>...</td>\n",
       "      <td>4.703</td>\n",
       "      <td>11.92</td>\n",
       "      <td>0.850</td>\n",
       "      <td>6.55</td>\n",
       "      <td>0.467</td>\n",
       "      <td>14030338.0</td>\n",
       "      <td>2.096179e+10</td>\n",
       "      <td>47.500</td>\n",
       "      <td>3385.574</td>\n",
       "      <td>1.889</td>\n",
       "    </tr>\n",
       "    <tr>\n",
       "      <th>24648</th>\n",
       "      <td>ZWE</td>\n",
       "      <td>Zimbabwe</td>\n",
       "      <td>2017</td>\n",
       "      <td>10.247</td>\n",
       "      <td>11.774</td>\n",
       "      <td>-5.25</td>\n",
       "      <td>-0.568</td>\n",
       "      <td>1.527</td>\n",
       "      <td>0.720</td>\n",
       "      <td>0.827</td>\n",
       "      <td>...</td>\n",
       "      <td>NaN</td>\n",
       "      <td>NaN</td>\n",
       "      <td>NaN</td>\n",
       "      <td>NaN</td>\n",
       "      <td>NaN</td>\n",
       "      <td>14236599.0</td>\n",
       "      <td>2.194784e+10</td>\n",
       "      <td>NaN</td>\n",
       "      <td>NaN</td>\n",
       "      <td>NaN</td>\n",
       "    </tr>\n",
       "    <tr>\n",
       "      <th>24649</th>\n",
       "      <td>ZWE</td>\n",
       "      <td>Zimbabwe</td>\n",
       "      <td>2018</td>\n",
       "      <td>11.341</td>\n",
       "      <td>12.815</td>\n",
       "      <td>10.67</td>\n",
       "      <td>1.094</td>\n",
       "      <td>1.475</td>\n",
       "      <td>0.785</td>\n",
       "      <td>0.888</td>\n",
       "      <td>...</td>\n",
       "      <td>NaN</td>\n",
       "      <td>NaN</td>\n",
       "      <td>NaN</td>\n",
       "      <td>NaN</td>\n",
       "      <td>NaN</td>\n",
       "      <td>14438812.0</td>\n",
       "      <td>2.271535e+10</td>\n",
       "      <td>NaN</td>\n",
       "      <td>NaN</td>\n",
       "      <td>NaN</td>\n",
       "    </tr>\n",
       "    <tr>\n",
       "      <th>24650</th>\n",
       "      <td>ZWE</td>\n",
       "      <td>Zimbabwe</td>\n",
       "      <td>2019</td>\n",
       "      <td>10.374</td>\n",
       "      <td>NaN</td>\n",
       "      <td>-8.52</td>\n",
       "      <td>-0.966</td>\n",
       "      <td>NaN</td>\n",
       "      <td>0.708</td>\n",
       "      <td>NaN</td>\n",
       "      <td>...</td>\n",
       "      <td>NaN</td>\n",
       "      <td>NaN</td>\n",
       "      <td>NaN</td>\n",
       "      <td>NaN</td>\n",
       "      <td>NaN</td>\n",
       "      <td>14645473.0</td>\n",
       "      <td>NaN</td>\n",
       "      <td>NaN</td>\n",
       "      <td>NaN</td>\n",
       "      <td>NaN</td>\n",
       "    </tr>\n",
       "  </tbody>\n",
       "</table>\n",
       "<p>24651 rows × 58 columns</p>\n",
       "</div>"
      ],
      "text/plain": [
       "      iso_code      country  year     co2  consumption_co2  co2_growth_prct  \\\n",
       "0          AFG  Afghanistan  1949   0.015              NaN              NaN   \n",
       "1          AFG  Afghanistan  1950   0.084              NaN           475.00   \n",
       "2          AFG  Afghanistan  1951   0.092              NaN             8.70   \n",
       "3          AFG  Afghanistan  1952   0.092              NaN             0.00   \n",
       "4          AFG  Afghanistan  1953   0.106              NaN            16.00   \n",
       "...        ...          ...   ...     ...              ...              ...   \n",
       "24646      ZWE     Zimbabwe  2015  12.170           13.308             1.65   \n",
       "24647      ZWE     Zimbabwe  2016  10.815           12.171           -11.14   \n",
       "24648      ZWE     Zimbabwe  2017  10.247           11.774            -5.25   \n",
       "24649      ZWE     Zimbabwe  2018  11.341           12.815            10.67   \n",
       "24650      ZWE     Zimbabwe  2019  10.374              NaN            -8.52   \n",
       "\n",
       "       co2_growth_abs  trade_co2  co2_per_capita  consumption_co2_per_capita  \\\n",
       "0                 NaN        NaN           0.002                         NaN   \n",
       "1               0.070        NaN           0.011                         NaN   \n",
       "2               0.007        NaN           0.012                         NaN   \n",
       "3               0.000        NaN           0.012                         NaN   \n",
       "4               0.015        NaN           0.013                         NaN   \n",
       "...               ...        ...             ...                         ...   \n",
       "24646           0.198      1.138           0.881                       0.963   \n",
       "24647          -1.356      1.356           0.771                       0.868   \n",
       "24648          -0.568      1.527           0.720                       0.827   \n",
       "24649           1.094      1.475           0.785                       0.888   \n",
       "24650          -0.966        NaN           0.708                         NaN   \n",
       "\n",
       "       ...  ghg_per_capita  methane  methane_per_capita  nitrous_oxide  \\\n",
       "0      ...             NaN      NaN                 NaN            NaN   \n",
       "1      ...             NaN      NaN                 NaN            NaN   \n",
       "2      ...             NaN      NaN                 NaN            NaN   \n",
       "3      ...             NaN      NaN                 NaN            NaN   \n",
       "4      ...             NaN      NaN                 NaN            NaN   \n",
       "...    ...             ...      ...                 ...            ...   \n",
       "24646  ...           4.885    11.87               0.859           6.68   \n",
       "24647  ...           4.703    11.92               0.850           6.55   \n",
       "24648  ...             NaN      NaN                 NaN            NaN   \n",
       "24649  ...             NaN      NaN                 NaN            NaN   \n",
       "24650  ...             NaN      NaN                 NaN            NaN   \n",
       "\n",
       "       nitrous_oxide_per_capita  population           gdp  \\\n",
       "0                           NaN   7624058.0           NaN   \n",
       "1                           NaN   7752117.0  9.421400e+09   \n",
       "2                           NaN   7840151.0  9.692280e+09   \n",
       "3                           NaN   7935996.0  1.001732e+10   \n",
       "4                           NaN   8039684.0  1.063052e+10   \n",
       "...                         ...         ...           ...   \n",
       "24646                     0.484  13814642.0  2.102746e+10   \n",
       "24647                     0.467  14030338.0  2.096179e+10   \n",
       "24648                       NaN  14236599.0  2.194784e+10   \n",
       "24649                       NaN  14438812.0  2.271535e+10   \n",
       "24650                       NaN  14645473.0           NaN   \n",
       "\n",
       "       primary_energy_consumption  energy_per_capita  energy_per_gdp  \n",
       "0                             NaN                NaN             NaN  \n",
       "1                             NaN                NaN             NaN  \n",
       "2                             NaN                NaN             NaN  \n",
       "3                             NaN                NaN             NaN  \n",
       "4                             NaN                NaN             NaN  \n",
       "...                           ...                ...             ...  \n",
       "24646                      55.642           4027.628           2.223  \n",
       "24647                      47.500           3385.574           1.889  \n",
       "24648                         NaN                NaN             NaN  \n",
       "24649                         NaN                NaN             NaN  \n",
       "24650                         NaN                NaN             NaN  \n",
       "\n",
       "[24651 rows x 58 columns]"
      ]
     },
     "execution_count": 3,
     "metadata": {},
     "output_type": "execute_result"
    }
   ],
   "source": [
    "df_co2_emissions = pd.read_csv('Data Emisiones de CO2.csv')\n",
    "df_co2_emissions"
   ]
  },
  {
   "cell_type": "code",
   "execution_count": 4,
   "metadata": {},
   "outputs": [
    {
     "name": "stdout",
     "output_type": "stream",
     "text": [
      "<class 'pandas.core.frame.DataFrame'>\n",
      "RangeIndex: 24651 entries, 0 to 24650\n",
      "Data columns (total 58 columns):\n",
      " #   Column                               Non-Null Count  Dtype  \n",
      "---  ------                               --------------  -----  \n",
      " 0   iso_code                             21489 non-null  object \n",
      " 1   country                              24651 non-null  object \n",
      " 2   year                                 24651 non-null  int64  \n",
      " 3   co2                                  23403 non-null  float64\n",
      " 4   consumption_co2                      3815 non-null   float64\n",
      " 5   co2_growth_prct                      24383 non-null  float64\n",
      " 6   co2_growth_abs                       23042 non-null  float64\n",
      " 7   trade_co2                            3815 non-null   float64\n",
      " 8   co2_per_capita                       22735 non-null  float64\n",
      " 9   consumption_co2_per_capita           3815 non-null   float64\n",
      " 10  share_global_co2                     23403 non-null  float64\n",
      " 11  cumulative_co2                       23403 non-null  float64\n",
      " 12  share_global_cumulative_co2          23403 non-null  float64\n",
      " 13  co2_per_gdp                          15386 non-null  float64\n",
      " 14  consumption_co2_per_gdp              3732 non-null   float64\n",
      " 15  co2_per_unit_energy                  8993 non-null   float64\n",
      " 16  coal_co2                             16987 non-null  float64\n",
      " 17  cement_co2                           12179 non-null  float64\n",
      " 18  flaring_co2                          4299 non-null   float64\n",
      " 19  gas_co2                              8699 non-null   float64\n",
      " 20  oil_co2                              19995 non-null  float64\n",
      " 21  other_industry_co2                   1560 non-null   float64\n",
      " 22  cement_co2_per_capita                12150 non-null  float64\n",
      " 23  coal_co2_per_capita                  16633 non-null  float64\n",
      " 24  flaring_co2_per_capita               4298 non-null   float64\n",
      " 25  gas_co2_per_capita                   8689 non-null   float64\n",
      " 26  oil_co2_per_capita                   19638 non-null  float64\n",
      " 27  other_co2_per_capita                 1560 non-null   float64\n",
      " 28  trade_co2_share                      3815 non-null   float64\n",
      " 29  share_global_cement_co2              12179 non-null  float64\n",
      " 30  share_global_coal_co2                16987 non-null  float64\n",
      " 31  share_global_flaring_co2             4299 non-null   float64\n",
      " 32  share_global_gas_co2                 8699 non-null   float64\n",
      " 33  share_global_oil_co2                 19995 non-null  float64\n",
      " 34  share_global_other_co2               1560 non-null   float64\n",
      " 35  cumulative_cement_co2                12179 non-null  float64\n",
      " 36  cumulative_coal_co2                  16987 non-null  float64\n",
      " 37  cumulative_flaring_co2               4299 non-null   float64\n",
      " 38  cumulative_gas_co2                   8699 non-null   float64\n",
      " 39  cumulative_oil_co2                   19995 non-null  float64\n",
      " 40  cumulative_other_co2                 1560 non-null   float64\n",
      " 41  share_global_cumulative_cement_co2   12179 non-null  float64\n",
      " 42  share_global_cumulative_coal_co2     16987 non-null  float64\n",
      " 43  share_global_cumulative_flaring_co2  4299 non-null   float64\n",
      " 44  share_global_cumulative_gas_co2      8699 non-null   float64\n",
      " 45  share_global_cumulative_oil_co2      19995 non-null  float64\n",
      " 46  share_global_cumulative_other_co2    1560 non-null   float64\n",
      " 47  total_ghg                            5208 non-null   float64\n",
      " 48  ghg_per_capita                       5155 non-null   float64\n",
      " 49  methane                              5211 non-null   float64\n",
      " 50  methane_per_capita                   5157 non-null   float64\n",
      " 51  nitrous_oxide                        5211 non-null   float64\n",
      " 52  nitrous_oxide_per_capita             5157 non-null   float64\n",
      " 53  population                           22327 non-null  float64\n",
      " 54  gdp                                  13538 non-null  float64\n",
      " 55  primary_energy_consumption           8542 non-null   float64\n",
      " 56  energy_per_capita                    8533 non-null   float64\n",
      " 57  energy_per_gdp                       6803 non-null   float64\n",
      "dtypes: float64(55), int64(1), object(2)\n",
      "memory usage: 10.9+ MB\n"
     ]
    }
   ],
   "source": [
    "df_co2_emissions.info()"
   ]
  },
  {
   "cell_type": "markdown",
   "metadata": {},
   "source": [
    "Nos vamos a quedar solo con las columnas relevantes para nuestra investigacion."
   ]
  },
  {
   "cell_type": "code",
   "execution_count": 5,
   "metadata": {
    "colab": {
     "base_uri": "https://localhost:8080/",
     "height": 424
    },
    "id": "NZJ_AbGfg_F7",
    "outputId": "5490674f-5939-497f-d74b-6fdee82a6810"
   },
   "outputs": [
    {
     "data": {
      "text/html": [
       "<div>\n",
       "<style scoped>\n",
       "    .dataframe tbody tr th:only-of-type {\n",
       "        vertical-align: middle;\n",
       "    }\n",
       "\n",
       "    .dataframe tbody tr th {\n",
       "        vertical-align: top;\n",
       "    }\n",
       "\n",
       "    .dataframe thead th {\n",
       "        text-align: right;\n",
       "    }\n",
       "</style>\n",
       "<table border=\"1\" class=\"dataframe\">\n",
       "  <thead>\n",
       "    <tr style=\"text-align: right;\">\n",
       "      <th></th>\n",
       "      <th>iso_code</th>\n",
       "      <th>country</th>\n",
       "      <th>year</th>\n",
       "      <th>co2</th>\n",
       "      <th>population</th>\n",
       "    </tr>\n",
       "  </thead>\n",
       "  <tbody>\n",
       "    <tr>\n",
       "      <th>0</th>\n",
       "      <td>AFG</td>\n",
       "      <td>Afghanistan</td>\n",
       "      <td>1949</td>\n",
       "      <td>0.015</td>\n",
       "      <td>7624058.0</td>\n",
       "    </tr>\n",
       "    <tr>\n",
       "      <th>1</th>\n",
       "      <td>AFG</td>\n",
       "      <td>Afghanistan</td>\n",
       "      <td>1950</td>\n",
       "      <td>0.084</td>\n",
       "      <td>7752117.0</td>\n",
       "    </tr>\n",
       "    <tr>\n",
       "      <th>2</th>\n",
       "      <td>AFG</td>\n",
       "      <td>Afghanistan</td>\n",
       "      <td>1951</td>\n",
       "      <td>0.092</td>\n",
       "      <td>7840151.0</td>\n",
       "    </tr>\n",
       "    <tr>\n",
       "      <th>3</th>\n",
       "      <td>AFG</td>\n",
       "      <td>Afghanistan</td>\n",
       "      <td>1952</td>\n",
       "      <td>0.092</td>\n",
       "      <td>7935996.0</td>\n",
       "    </tr>\n",
       "    <tr>\n",
       "      <th>4</th>\n",
       "      <td>AFG</td>\n",
       "      <td>Afghanistan</td>\n",
       "      <td>1953</td>\n",
       "      <td>0.106</td>\n",
       "      <td>8039684.0</td>\n",
       "    </tr>\n",
       "    <tr>\n",
       "      <th>...</th>\n",
       "      <td>...</td>\n",
       "      <td>...</td>\n",
       "      <td>...</td>\n",
       "      <td>...</td>\n",
       "      <td>...</td>\n",
       "    </tr>\n",
       "    <tr>\n",
       "      <th>24646</th>\n",
       "      <td>ZWE</td>\n",
       "      <td>Zimbabwe</td>\n",
       "      <td>2015</td>\n",
       "      <td>12.170</td>\n",
       "      <td>13814642.0</td>\n",
       "    </tr>\n",
       "    <tr>\n",
       "      <th>24647</th>\n",
       "      <td>ZWE</td>\n",
       "      <td>Zimbabwe</td>\n",
       "      <td>2016</td>\n",
       "      <td>10.815</td>\n",
       "      <td>14030338.0</td>\n",
       "    </tr>\n",
       "    <tr>\n",
       "      <th>24648</th>\n",
       "      <td>ZWE</td>\n",
       "      <td>Zimbabwe</td>\n",
       "      <td>2017</td>\n",
       "      <td>10.247</td>\n",
       "      <td>14236599.0</td>\n",
       "    </tr>\n",
       "    <tr>\n",
       "      <th>24649</th>\n",
       "      <td>ZWE</td>\n",
       "      <td>Zimbabwe</td>\n",
       "      <td>2018</td>\n",
       "      <td>11.341</td>\n",
       "      <td>14438812.0</td>\n",
       "    </tr>\n",
       "    <tr>\n",
       "      <th>24650</th>\n",
       "      <td>ZWE</td>\n",
       "      <td>Zimbabwe</td>\n",
       "      <td>2019</td>\n",
       "      <td>10.374</td>\n",
       "      <td>14645473.0</td>\n",
       "    </tr>\n",
       "  </tbody>\n",
       "</table>\n",
       "<p>20170 rows × 5 columns</p>\n",
       "</div>"
      ],
      "text/plain": [
       "      iso_code      country  year     co2  population\n",
       "0          AFG  Afghanistan  1949   0.015   7624058.0\n",
       "1          AFG  Afghanistan  1950   0.084   7752117.0\n",
       "2          AFG  Afghanistan  1951   0.092   7840151.0\n",
       "3          AFG  Afghanistan  1952   0.092   7935996.0\n",
       "4          AFG  Afghanistan  1953   0.106   8039684.0\n",
       "...        ...          ...   ...     ...         ...\n",
       "24646      ZWE     Zimbabwe  2015  12.170  13814642.0\n",
       "24647      ZWE     Zimbabwe  2016  10.815  14030338.0\n",
       "24648      ZWE     Zimbabwe  2017  10.247  14236599.0\n",
       "24649      ZWE     Zimbabwe  2018  11.341  14438812.0\n",
       "24650      ZWE     Zimbabwe  2019  10.374  14645473.0\n",
       "\n",
       "[20170 rows x 5 columns]"
      ]
     },
     "execution_count": 5,
     "metadata": {},
     "output_type": "execute_result"
    }
   ],
   "source": [
    "keep_cols = ['iso_code', 'country', 'year', 'co2', 'population' ]\n",
    "df_co2_emissions = df_co2_emissions[keep_cols]\n",
    "filtro = df_co2_emissions['iso_code'] != \"OWID_WRL\"\n",
    "df_co2_emissions = df_co2_emissions[filtro]\n",
    "df_co2_emissions = df_co2_emissions.dropna()\n",
    "df_co2_emissions"
   ]
  },
  {
   "cell_type": "code",
   "execution_count": 6,
   "metadata": {},
   "outputs": [
    {
     "data": {
      "text/html": [
       "<div>\n",
       "<style scoped>\n",
       "    .dataframe tbody tr th:only-of-type {\n",
       "        vertical-align: middle;\n",
       "    }\n",
       "\n",
       "    .dataframe tbody tr th {\n",
       "        vertical-align: top;\n",
       "    }\n",
       "\n",
       "    .dataframe thead th {\n",
       "        text-align: right;\n",
       "    }\n",
       "</style>\n",
       "<table border=\"1\" class=\"dataframe\">\n",
       "  <thead>\n",
       "    <tr style=\"text-align: right;\">\n",
       "      <th></th>\n",
       "      <th>iso_code</th>\n",
       "      <th>country</th>\n",
       "      <th>year</th>\n",
       "      <th>co2</th>\n",
       "      <th>population</th>\n",
       "    </tr>\n",
       "  </thead>\n",
       "  <tbody>\n",
       "    <tr>\n",
       "      <th>0</th>\n",
       "      <td>AFG</td>\n",
       "      <td>Afghanistan</td>\n",
       "      <td>1949</td>\n",
       "      <td>0.015</td>\n",
       "      <td>7624058.0</td>\n",
       "    </tr>\n",
       "    <tr>\n",
       "      <th>1</th>\n",
       "      <td>AFG</td>\n",
       "      <td>Afghanistan</td>\n",
       "      <td>1950</td>\n",
       "      <td>0.084</td>\n",
       "      <td>7752117.0</td>\n",
       "    </tr>\n",
       "    <tr>\n",
       "      <th>2</th>\n",
       "      <td>AFG</td>\n",
       "      <td>Afghanistan</td>\n",
       "      <td>1951</td>\n",
       "      <td>0.092</td>\n",
       "      <td>7840151.0</td>\n",
       "    </tr>\n",
       "    <tr>\n",
       "      <th>3</th>\n",
       "      <td>AFG</td>\n",
       "      <td>Afghanistan</td>\n",
       "      <td>1952</td>\n",
       "      <td>0.092</td>\n",
       "      <td>7935996.0</td>\n",
       "    </tr>\n",
       "    <tr>\n",
       "      <th>4</th>\n",
       "      <td>AFG</td>\n",
       "      <td>Afghanistan</td>\n",
       "      <td>1953</td>\n",
       "      <td>0.106</td>\n",
       "      <td>8039684.0</td>\n",
       "    </tr>\n",
       "  </tbody>\n",
       "</table>\n",
       "</div>"
      ],
      "text/plain": [
       "  iso_code      country  year    co2  population\n",
       "0      AFG  Afghanistan  1949  0.015   7624058.0\n",
       "1      AFG  Afghanistan  1950  0.084   7752117.0\n",
       "2      AFG  Afghanistan  1951  0.092   7840151.0\n",
       "3      AFG  Afghanistan  1952  0.092   7935996.0\n",
       "4      AFG  Afghanistan  1953  0.106   8039684.0"
      ]
     },
     "execution_count": 6,
     "metadata": {},
     "output_type": "execute_result"
    }
   ],
   "source": [
    "df_co2_emissions.head()\n"
   ]
  },
  {
   "cell_type": "code",
   "execution_count": 7,
   "metadata": {},
   "outputs": [
    {
     "data": {
      "text/html": [
       "<div>\n",
       "<style scoped>\n",
       "    .dataframe tbody tr th:only-of-type {\n",
       "        vertical-align: middle;\n",
       "    }\n",
       "\n",
       "    .dataframe tbody tr th {\n",
       "        vertical-align: top;\n",
       "    }\n",
       "\n",
       "    .dataframe thead th {\n",
       "        text-align: right;\n",
       "    }\n",
       "</style>\n",
       "<table border=\"1\" class=\"dataframe\">\n",
       "  <thead>\n",
       "    <tr style=\"text-align: right;\">\n",
       "      <th></th>\n",
       "      <th>iso_code</th>\n",
       "      <th>country</th>\n",
       "      <th>year</th>\n",
       "      <th>co2</th>\n",
       "      <th>population</th>\n",
       "    </tr>\n",
       "  </thead>\n",
       "  <tbody>\n",
       "    <tr>\n",
       "      <th>24646</th>\n",
       "      <td>ZWE</td>\n",
       "      <td>Zimbabwe</td>\n",
       "      <td>2015</td>\n",
       "      <td>12.170</td>\n",
       "      <td>13814642.0</td>\n",
       "    </tr>\n",
       "    <tr>\n",
       "      <th>24647</th>\n",
       "      <td>ZWE</td>\n",
       "      <td>Zimbabwe</td>\n",
       "      <td>2016</td>\n",
       "      <td>10.815</td>\n",
       "      <td>14030338.0</td>\n",
       "    </tr>\n",
       "    <tr>\n",
       "      <th>24648</th>\n",
       "      <td>ZWE</td>\n",
       "      <td>Zimbabwe</td>\n",
       "      <td>2017</td>\n",
       "      <td>10.247</td>\n",
       "      <td>14236599.0</td>\n",
       "    </tr>\n",
       "    <tr>\n",
       "      <th>24649</th>\n",
       "      <td>ZWE</td>\n",
       "      <td>Zimbabwe</td>\n",
       "      <td>2018</td>\n",
       "      <td>11.341</td>\n",
       "      <td>14438812.0</td>\n",
       "    </tr>\n",
       "    <tr>\n",
       "      <th>24650</th>\n",
       "      <td>ZWE</td>\n",
       "      <td>Zimbabwe</td>\n",
       "      <td>2019</td>\n",
       "      <td>10.374</td>\n",
       "      <td>14645473.0</td>\n",
       "    </tr>\n",
       "  </tbody>\n",
       "</table>\n",
       "</div>"
      ],
      "text/plain": [
       "      iso_code   country  year     co2  population\n",
       "24646      ZWE  Zimbabwe  2015  12.170  13814642.0\n",
       "24647      ZWE  Zimbabwe  2016  10.815  14030338.0\n",
       "24648      ZWE  Zimbabwe  2017  10.247  14236599.0\n",
       "24649      ZWE  Zimbabwe  2018  11.341  14438812.0\n",
       "24650      ZWE  Zimbabwe  2019  10.374  14645473.0"
      ]
     },
     "execution_count": 7,
     "metadata": {},
     "output_type": "execute_result"
    }
   ],
   "source": [
    "df_co2_emissions.tail()\n",
    "\n"
   ]
  },
  {
   "cell_type": "code",
   "execution_count": 8,
   "metadata": {},
   "outputs": [
    {
     "data": {
      "text/html": [
       "<div>\n",
       "<style scoped>\n",
       "    .dataframe tbody tr th:only-of-type {\n",
       "        vertical-align: middle;\n",
       "    }\n",
       "\n",
       "    .dataframe tbody tr th {\n",
       "        vertical-align: top;\n",
       "    }\n",
       "\n",
       "    .dataframe thead th {\n",
       "        text-align: right;\n",
       "    }\n",
       "</style>\n",
       "<table border=\"1\" class=\"dataframe\">\n",
       "  <thead>\n",
       "    <tr style=\"text-align: right;\">\n",
       "      <th></th>\n",
       "      <th>year</th>\n",
       "      <th>co2</th>\n",
       "      <th>population</th>\n",
       "    </tr>\n",
       "  </thead>\n",
       "  <tbody>\n",
       "    <tr>\n",
       "      <th>count</th>\n",
       "      <td>20170.000000</td>\n",
       "      <td>20170.000000</td>\n",
       "      <td>2.017000e+04</td>\n",
       "    </tr>\n",
       "    <tr>\n",
       "      <th>mean</th>\n",
       "      <td>1960.150570</td>\n",
       "      <td>79.833800</td>\n",
       "      <td>2.321883e+07</td>\n",
       "    </tr>\n",
       "    <tr>\n",
       "      <th>std</th>\n",
       "      <td>45.438192</td>\n",
       "      <td>418.145651</td>\n",
       "      <td>9.004343e+07</td>\n",
       "    </tr>\n",
       "    <tr>\n",
       "      <th>min</th>\n",
       "      <td>1800.000000</td>\n",
       "      <td>0.000000</td>\n",
       "      <td>1.490000e+03</td>\n",
       "    </tr>\n",
       "    <tr>\n",
       "      <th>25%</th>\n",
       "      <td>1936.000000</td>\n",
       "      <td>0.469000</td>\n",
       "      <td>1.354680e+06</td>\n",
       "    </tr>\n",
       "    <tr>\n",
       "      <th>50%</th>\n",
       "      <td>1970.000000</td>\n",
       "      <td>3.682500</td>\n",
       "      <td>4.729523e+06</td>\n",
       "    </tr>\n",
       "    <tr>\n",
       "      <th>75%</th>\n",
       "      <td>1995.000000</td>\n",
       "      <td>27.147000</td>\n",
       "      <td>1.450665e+07</td>\n",
       "    </tr>\n",
       "    <tr>\n",
       "      <th>max</th>\n",
       "      <td>2019.000000</td>\n",
       "      <td>10174.681000</td>\n",
       "      <td>1.433784e+09</td>\n",
       "    </tr>\n",
       "  </tbody>\n",
       "</table>\n",
       "</div>"
      ],
      "text/plain": [
       "               year           co2    population\n",
       "count  20170.000000  20170.000000  2.017000e+04\n",
       "mean    1960.150570     79.833800  2.321883e+07\n",
       "std       45.438192    418.145651  9.004343e+07\n",
       "min     1800.000000      0.000000  1.490000e+03\n",
       "25%     1936.000000      0.469000  1.354680e+06\n",
       "50%     1970.000000      3.682500  4.729523e+06\n",
       "75%     1995.000000     27.147000  1.450665e+07\n",
       "max     2019.000000  10174.681000  1.433784e+09"
      ]
     },
     "execution_count": 8,
     "metadata": {},
     "output_type": "execute_result"
    }
   ],
   "source": [
    "df_co2_emissions.describe()"
   ]
  },
  {
   "cell_type": "markdown",
   "metadata": {},
   "source": [
    "Ahora empezaré a analizar estos datos. Primero quiero saber como ha evolucionado la emision de CO2 con el pasar de las decadas "
   ]
  },
  {
   "cell_type": "code",
   "execution_count": 9,
   "metadata": {},
   "outputs": [],
   "source": [
    "def obtener_totalco2_x_ano(ano):\n",
    "    filtro = df_co2_emissions['year'] == ano\n",
    "    df_co2_emissions_nuevo = df_co2_emissions[filtro]\n",
    "    print(f\"\\n\\nCO2 EMITIDO EN {ano}:{df_co2_emissions_nuevo['co2'].sum()}\")\n",
    "    return df_co2_emissions_nuevo['co2'].sum()\n",
    "    "
   ]
  },
  {
   "cell_type": "code",
   "execution_count": 10,
   "metadata": {},
   "outputs": [],
   "source": [
    "def promedio_co2_decada(lista):\n",
    "    divisor = len(lista)\n",
    "    suma = sum(lista)\n",
    "    resultado = suma / divisor \n",
    "    return resultado\n"
   ]
  },
  {
   "cell_type": "code",
   "execution_count": 11,
   "metadata": {},
   "outputs": [
    {
     "name": "stdout",
     "output_type": "stream",
     "text": [
      "\n",
      "\n",
      "CO2 EMITIDO EN 1980:18921.724\n",
      "\n",
      "\n",
      "CO2 EMITIDO EN 1981:18427.853\n",
      "\n",
      "\n",
      "CO2 EMITIDO EN 1982:18326.259\n",
      "\n",
      "\n",
      "CO2 EMITIDO EN 1983:18516.631999999998\n",
      "\n",
      "\n",
      "CO2 EMITIDO EN 1984:19065.359\n",
      "\n",
      "\n",
      "CO2 EMITIDO EN 1985:19747.987999999998\n",
      "\n",
      "\n",
      "CO2 EMITIDO EN 1986:20006.817999999996\n",
      "\n",
      "\n",
      "CO2 EMITIDO EN 1987:20531.554000000004\n",
      "\n",
      "\n",
      "CO2 EMITIDO EN 1988:21317.072\n",
      "\n",
      "\n",
      "CO2 EMITIDO EN 1989:21626.943999999996\n"
     ]
    }
   ],
   "source": [
    "lista_decada_1980 = []\n",
    "for a in range(1980,1990):\n",
    "    lista_decada_1980.append(obtener_totalco2_x_ano(a))"
   ]
  },
  {
   "cell_type": "markdown",
   "metadata": {},
   "source": [
    "Entre 1980 a 1989, los valores de las emisiones de dioxioxido de carbono parten a iniciios de decada con 76563.972 y termina con 86013.824. En un solo ano el valor aumento mas de un 10% \n",
    "\n"
   ]
  },
  {
   "cell_type": "code",
   "execution_count": 12,
   "metadata": {},
   "outputs": [
    {
     "name": "stdout",
     "output_type": "stream",
     "text": [
      "Promedio desde 1980 a 1989: 19648.820299999996\n"
     ]
    }
   ],
   "source": [
    "print(f\"Promedio desde 1980 a 1989: {promedio_co2_decada(lista_decada_1980)}\")"
   ]
  },
  {
   "cell_type": "code",
   "execution_count": 13,
   "metadata": {},
   "outputs": [
    {
     "name": "stdout",
     "output_type": "stream",
     "text": [
      "\n",
      "\n",
      "CO2 EMITIDO EN 1990:22134.184\n",
      "\n",
      "\n",
      "CO2 EMITIDO EN 1991:22143.910000000003\n",
      "\n",
      "\n",
      "CO2 EMITIDO EN 1992:21887.506\n",
      "\n",
      "\n",
      "CO2 EMITIDO EN 1993:22122.93\n",
      "\n",
      "\n",
      "CO2 EMITIDO EN 1994:22259.984\n",
      "\n",
      "\n",
      "CO2 EMITIDO EN 1995:22715.849000000002\n",
      "\n",
      "\n",
      "CO2 EMITIDO EN 1996:23380.743000000002\n",
      "\n",
      "\n",
      "CO2 EMITIDO EN 1997:23485.612999999998\n",
      "\n",
      "\n",
      "CO2 EMITIDO EN 1998:23363.968\n",
      "\n",
      "\n",
      "CO2 EMITIDO EN 1999:23658.618\n"
     ]
    }
   ],
   "source": [
    "lista_decada_1990 = []\n",
    "for a in range(1990,2000):\n",
    "    lista_decada_1990.append(obtener_totalco2_x_ano(a))"
   ]
  },
  {
   "cell_type": "code",
   "execution_count": 14,
   "metadata": {},
   "outputs": [
    {
     "name": "stdout",
     "output_type": "stream",
     "text": [
      "Promedio desde 1980 a 1989: 22715.330500000004\n"
     ]
    }
   ],
   "source": [
    "print(f\"Promedio desde 1980 a 1989: {promedio_co2_decada(lista_decada_1990)}\")"
   ]
  },
  {
   "cell_type": "code",
   "execution_count": 15,
   "metadata": {},
   "outputs": [
    {
     "name": "stdout",
     "output_type": "stream",
     "text": [
      "\n",
      "\n",
      "CO2 EMITIDO EN 2000:24336.621\n",
      "\n",
      "\n",
      "CO2 EMITIDO EN 2001:24553.436999999998\n",
      "\n",
      "\n",
      "CO2 EMITIDO EN 2002:25114.493000000002\n",
      "\n",
      "\n",
      "CO2 EMITIDO EN 2003:26344.638999999996\n",
      "\n",
      "\n",
      "CO2 EMITIDO EN 2004:27567.201\n",
      "\n",
      "\n",
      "CO2 EMITIDO EN 2005:28470.705\n",
      "\n",
      "\n",
      "CO2 EMITIDO EN 2006:29382.238000000005\n",
      "\n",
      "\n",
      "CO2 EMITIDO EN 2007:30243.581\n",
      "\n",
      "\n",
      "CO2 EMITIDO EN 2008:30873.876000000004\n",
      "\n",
      "\n",
      "CO2 EMITIDO EN 2009:30435.804\n"
     ]
    }
   ],
   "source": [
    "lista_decada_2000 = []\n",
    "for a in range(2000,2010):\n",
    "    lista_decada_2000.append(obtener_totalco2_x_ano(a))"
   ]
  },
  {
   "cell_type": "code",
   "execution_count": 16,
   "metadata": {},
   "outputs": [
    {
     "name": "stdout",
     "output_type": "stream",
     "text": [
      "Promedio desde 1980 a 1989: 27732.259500000004\n"
     ]
    }
   ],
   "source": [
    "print(f\"Promedio desde 1980 a 1989: {promedio_co2_decada(lista_decada_2000)}\")"
   ]
  },
  {
   "cell_type": "code",
   "execution_count": 17,
   "metadata": {},
   "outputs": [
    {
     "name": "stdout",
     "output_type": "stream",
     "text": [
      "\n",
      "\n",
      "CO2 EMITIDO EN 2010:32041.289\n",
      "\n",
      "\n",
      "CO2 EMITIDO EN 2011:33090.153\n",
      "\n",
      "\n",
      "CO2 EMITIDO EN 2012:33649.688\n",
      "\n",
      "\n",
      "CO2 EMITIDO EN 2013:33860.449\n",
      "\n",
      "\n",
      "CO2 EMITIDO EN 2014:34108.775\n",
      "\n",
      "\n",
      "CO2 EMITIDO EN 2015:34032.836\n",
      "\n",
      "\n",
      "CO2 EMITIDO EN 2016:34023.512\n",
      "\n",
      "\n",
      "CO2 EMITIDO EN 2017:34437.342\n",
      "\n",
      "\n",
      "CO2 EMITIDO EN 2018:35141.43\n",
      "\n",
      "\n",
      "CO2 EMITIDO EN 2019:35161.702\n"
     ]
    }
   ],
   "source": [
    "lista_decada_2010 = []\n",
    "for a in range(2010,2020):\n",
    "    lista_decada_2010.append(obtener_totalco2_x_ano(a))"
   ]
  },
  {
   "cell_type": "code",
   "execution_count": 18,
   "metadata": {},
   "outputs": [
    {
     "name": "stdout",
     "output_type": "stream",
     "text": [
      "Promedio desde 1980 a 1989: 33954.717599999996\n"
     ]
    }
   ],
   "source": [
    "print(f\"Promedio desde 1980 a 1989: {promedio_co2_decada(lista_decada_2010)}\")"
   ]
  },
  {
   "cell_type": "code",
   "execution_count": 19,
   "metadata": {},
   "outputs": [
    {
     "data": {
      "text/html": [
       "<div>\n",
       "<style scoped>\n",
       "    .dataframe tbody tr th:only-of-type {\n",
       "        vertical-align: middle;\n",
       "    }\n",
       "\n",
       "    .dataframe tbody tr th {\n",
       "        vertical-align: top;\n",
       "    }\n",
       "\n",
       "    .dataframe thead th {\n",
       "        text-align: right;\n",
       "    }\n",
       "</style>\n",
       "<table border=\"1\" class=\"dataframe\">\n",
       "  <thead>\n",
       "    <tr style=\"text-align: right;\">\n",
       "      <th></th>\n",
       "      <th>1980-1989</th>\n",
       "      <th>1990-1999</th>\n",
       "      <th>2000-2009</th>\n",
       "      <th>2010-2019</th>\n",
       "    </tr>\n",
       "  </thead>\n",
       "  <tbody>\n",
       "    <tr>\n",
       "      <th>0</th>\n",
       "      <td>18921.724</td>\n",
       "      <td>22134.184</td>\n",
       "      <td>24336.621</td>\n",
       "      <td>32041.289</td>\n",
       "    </tr>\n",
       "    <tr>\n",
       "      <th>1</th>\n",
       "      <td>18427.853</td>\n",
       "      <td>22143.910</td>\n",
       "      <td>24553.437</td>\n",
       "      <td>33090.153</td>\n",
       "    </tr>\n",
       "    <tr>\n",
       "      <th>2</th>\n",
       "      <td>18326.259</td>\n",
       "      <td>21887.506</td>\n",
       "      <td>25114.493</td>\n",
       "      <td>33649.688</td>\n",
       "    </tr>\n",
       "    <tr>\n",
       "      <th>3</th>\n",
       "      <td>18516.632</td>\n",
       "      <td>22122.930</td>\n",
       "      <td>26344.639</td>\n",
       "      <td>33860.449</td>\n",
       "    </tr>\n",
       "    <tr>\n",
       "      <th>4</th>\n",
       "      <td>19065.359</td>\n",
       "      <td>22259.984</td>\n",
       "      <td>27567.201</td>\n",
       "      <td>34108.775</td>\n",
       "    </tr>\n",
       "    <tr>\n",
       "      <th>5</th>\n",
       "      <td>19747.988</td>\n",
       "      <td>22715.849</td>\n",
       "      <td>28470.705</td>\n",
       "      <td>34032.836</td>\n",
       "    </tr>\n",
       "    <tr>\n",
       "      <th>6</th>\n",
       "      <td>20006.818</td>\n",
       "      <td>23380.743</td>\n",
       "      <td>29382.238</td>\n",
       "      <td>34023.512</td>\n",
       "    </tr>\n",
       "    <tr>\n",
       "      <th>7</th>\n",
       "      <td>20531.554</td>\n",
       "      <td>23485.613</td>\n",
       "      <td>30243.581</td>\n",
       "      <td>34437.342</td>\n",
       "    </tr>\n",
       "    <tr>\n",
       "      <th>8</th>\n",
       "      <td>21317.072</td>\n",
       "      <td>23363.968</td>\n",
       "      <td>30873.876</td>\n",
       "      <td>35141.430</td>\n",
       "    </tr>\n",
       "    <tr>\n",
       "      <th>9</th>\n",
       "      <td>21626.944</td>\n",
       "      <td>23658.618</td>\n",
       "      <td>30435.804</td>\n",
       "      <td>35161.702</td>\n",
       "    </tr>\n",
       "  </tbody>\n",
       "</table>\n",
       "</div>"
      ],
      "text/plain": [
       "   1980-1989  1990-1999  2000-2009  2010-2019\n",
       "0  18921.724  22134.184  24336.621  32041.289\n",
       "1  18427.853  22143.910  24553.437  33090.153\n",
       "2  18326.259  21887.506  25114.493  33649.688\n",
       "3  18516.632  22122.930  26344.639  33860.449\n",
       "4  19065.359  22259.984  27567.201  34108.775\n",
       "5  19747.988  22715.849  28470.705  34032.836\n",
       "6  20006.818  23380.743  29382.238  34023.512\n",
       "7  20531.554  23485.613  30243.581  34437.342\n",
       "8  21317.072  23363.968  30873.876  35141.430\n",
       "9  21626.944  23658.618  30435.804  35161.702"
      ]
     },
     "execution_count": 19,
     "metadata": {},
     "output_type": "execute_result"
    }
   ],
   "source": [
    "df_co2_barras = pd.DataFrame()\n",
    "df_co2_barras['1980-1989'] = lista_decada_1980\n",
    "df_co2_barras['1990-1999'] = lista_decada_1990\n",
    "df_co2_barras['2000-2009'] = lista_decada_2000\n",
    "df_co2_barras['2010-2019'] = lista_decada_2010\n",
    "df_co2_barras\n"
   ]
  },
  {
   "cell_type": "code",
   "execution_count": 20,
   "metadata": {
    "colab": {
     "base_uri": "https://localhost:8080/"
    },
    "id": "m-76_jwYxqKJ",
    "outputId": "1edfda74-e58b-4455-8c93-3769796f40c6"
   },
   "outputs": [
    {
     "data": {
      "text/plain": [
       "<AxesSubplot:>"
      ]
     },
     "execution_count": 20,
     "metadata": {},
     "output_type": "execute_result"
    },
    {
     "data": {
      "image/png": "[encoded data removed]",
      "text/plain": [
       "<Figure size 432x288 with 1 Axes>"
      ]
     },
     "metadata": {
      "needs_background": "light"
     },
     "output_type": "display_data"
    }
   ],
   "source": [
    "df_co2_barras.plot()"
   ]
  },
  {
   "cell_type": "markdown",
   "metadata": {},
   "source": [
    "En el grafico podemos ver la variacion de emisiones totales de diaxido de carbono expulsadas en una decada, tambien podemos hacer la comparacion en cuanto a sus magnitudes."
   ]
  },
  {
   "cell_type": "markdown",
   "metadata": {},
   "source": [
    "Para terminar de analizar este dataset, me gustaria saber cuales son los paises que mas co2 emiten durante el ultimo ano.(en la actualidad)"
   ]
  },
  {
   "cell_type": "code",
   "execution_count": 108,
   "metadata": {},
   "outputs": [],
   "source": [
    "def obtener_pais(ano):\n",
    "    filtro = df_co2_emissions['year'] == ano \n",
    "    df_co2_emissions_nuevo = df_co2_emissions[filtro]\n",
    "    maximo = max(df_co2_emissions_nuevo['co2'])\n",
    "    filtro = df_co2_emissions_nuevo['co2'] == maximo\n",
    "    df_co2_emissions_nuevo = df_co2_emissions_nuevo[filtro]\n",
    "    pais = df_co2_emissions_nuevo['country']\n",
    "    pais = list(pais)[0]\n",
    "    print(f'{ano}: {pais} ')\n",
    "    "
   ]
  },
  {
   "cell_type": "code",
   "execution_count": 109,
   "metadata": {},
   "outputs": [
    {
     "name": "stdout",
     "output_type": "stream",
     "text": [
      "2010: China \n",
      "2011: China \n",
      "2012: China \n",
      "2013: China \n",
      "2014: China \n",
      "2015: China \n",
      "2016: China \n",
      "2017: China \n",
      "2018: China \n",
      "2019: China \n"
     ]
    }
   ],
   "source": [
    "for i in range(2010,2020):\n",
    "    obtener_pais(i)"
   ]
  },
  {
   "cell_type": "markdown",
   "metadata": {},
   "source": [
    "Se responde la pregunta del principio. El pais que mas dioxi "
   ]
  },
  {
   "cell_type": "markdown",
   "metadata": {},
   "source": [
    "Mi ultimo analisis respecto a las emisiones de dioxido de carbono. Es representar mediante choropleth maps, la diferencia de entre decadas."
   ]
  },
  {
   "cell_type": "code",
   "execution_count": 23,
   "metadata": {
    "colab": {
     "base_uri": "https://localhost:8080/",
     "height": 424
    },
    "id": "o74fnmiZka7H",
    "outputId": "9687f42e-bc37-4eb7-c861-45e022b03536"
   },
   "outputs": [
    {
     "data": {
      "text/html": [
       "<div>\n",
       "<style scoped>\n",
       "    .dataframe tbody tr th:only-of-type {\n",
       "        vertical-align: middle;\n",
       "    }\n",
       "\n",
       "    .dataframe tbody tr th {\n",
       "        vertical-align: top;\n",
       "    }\n",
       "\n",
       "    .dataframe thead th {\n",
       "        text-align: right;\n",
       "    }\n",
       "</style>\n",
       "<table border=\"1\" class=\"dataframe\">\n",
       "  <thead>\n",
       "    <tr style=\"text-align: right;\">\n",
       "      <th></th>\n",
       "      <th>iso_code</th>\n",
       "      <th>geometry</th>\n",
       "    </tr>\n",
       "  </thead>\n",
       "  <tbody>\n",
       "    <tr>\n",
       "      <th>0</th>\n",
       "      <td>FJI</td>\n",
       "      <td>MULTIPOLYGON (((180.00000 -16.06713, 180.00000...</td>\n",
       "    </tr>\n",
       "    <tr>\n",
       "      <th>1</th>\n",
       "      <td>TZA</td>\n",
       "      <td>POLYGON ((33.90371 -0.95000, 34.07262 -1.05982...</td>\n",
       "    </tr>\n",
       "    <tr>\n",
       "      <th>2</th>\n",
       "      <td>ESH</td>\n",
       "      <td>POLYGON ((-8.66559 27.65643, -8.66512 27.58948...</td>\n",
       "    </tr>\n",
       "    <tr>\n",
       "      <th>3</th>\n",
       "      <td>CAN</td>\n",
       "      <td>MULTIPOLYGON (((-122.84000 49.00000, -122.9742...</td>\n",
       "    </tr>\n",
       "    <tr>\n",
       "      <th>4</th>\n",
       "      <td>USA</td>\n",
       "      <td>MULTIPOLYGON (((-122.84000 49.00000, -120.0000...</td>\n",
       "    </tr>\n",
       "    <tr>\n",
       "      <th>...</th>\n",
       "      <td>...</td>\n",
       "      <td>...</td>\n",
       "    </tr>\n",
       "    <tr>\n",
       "      <th>172</th>\n",
       "      <td>SRB</td>\n",
       "      <td>POLYGON ((18.82982 45.90887, 18.82984 45.90888...</td>\n",
       "    </tr>\n",
       "    <tr>\n",
       "      <th>173</th>\n",
       "      <td>MNE</td>\n",
       "      <td>POLYGON ((20.07070 42.58863, 19.80161 42.50009...</td>\n",
       "    </tr>\n",
       "    <tr>\n",
       "      <th>174</th>\n",
       "      <td>-99</td>\n",
       "      <td>POLYGON ((20.59025 41.85541, 20.52295 42.21787...</td>\n",
       "    </tr>\n",
       "    <tr>\n",
       "      <th>175</th>\n",
       "      <td>TTO</td>\n",
       "      <td>POLYGON ((-61.68000 10.76000, -61.10500 10.890...</td>\n",
       "    </tr>\n",
       "    <tr>\n",
       "      <th>176</th>\n",
       "      <td>SSD</td>\n",
       "      <td>POLYGON ((30.83385 3.50917, 29.95350 4.17370, ...</td>\n",
       "    </tr>\n",
       "  </tbody>\n",
       "</table>\n",
       "<p>177 rows × 2 columns</p>\n",
       "</div>"
      ],
      "text/plain": [
       "    iso_code                                           geometry\n",
       "0        FJI  MULTIPOLYGON (((180.00000 -16.06713, 180.00000...\n",
       "1        TZA  POLYGON ((33.90371 -0.95000, 34.07262 -1.05982...\n",
       "2        ESH  POLYGON ((-8.66559 27.65643, -8.66512 27.58948...\n",
       "3        CAN  MULTIPOLYGON (((-122.84000 49.00000, -122.9742...\n",
       "4        USA  MULTIPOLYGON (((-122.84000 49.00000, -120.0000...\n",
       "..       ...                                                ...\n",
       "172      SRB  POLYGON ((18.82982 45.90887, 18.82984 45.90888...\n",
       "173      MNE  POLYGON ((20.07070 42.58863, 19.80161 42.50009...\n",
       "174      -99  POLYGON ((20.59025 41.85541, 20.52295 42.21787...\n",
       "175      TTO  POLYGON ((-61.68000 10.76000, -61.10500 10.890...\n",
       "176      SSD  POLYGON ((30.83385 3.50917, 29.95350 4.17370, ...\n",
       "\n",
       "[177 rows x 2 columns]"
      ]
     },
     "execution_count": 23,
     "metadata": {},
     "output_type": "execute_result"
    }
   ],
   "source": [
    "world = gpd.read_file(gpd.datasets.get_path('naturalearth_lowres'))\n",
    "world.rename(columns = {'iso_a3':'iso_code'}, inplace = True)\n",
    "keep_cols = ['iso_code', 'geometry']\n",
    "world = world[keep_cols]\n",
    "world"
   ]
  },
  {
   "cell_type": "code",
   "execution_count": 24,
   "metadata": {},
   "outputs": [],
   "source": [
    "df_co2_emissions_2000 = obtener_pais(2000)"
   ]
  },
  {
   "cell_type": "code",
   "execution_count": 25,
   "metadata": {
    "colab": {
     "base_uri": "https://localhost:8080/",
     "height": 424
    },
    "id": "MctqcwllqEU_",
    "outputId": "3bd66d02-de29-4dfa-98c6-dcf2f2f74b04"
   },
   "outputs": [
    {
     "data": {
      "text/html": [
       "<div>\n",
       "<style scoped>\n",
       "    .dataframe tbody tr th:only-of-type {\n",
       "        vertical-align: middle;\n",
       "    }\n",
       "\n",
       "    .dataframe tbody tr th {\n",
       "        vertical-align: top;\n",
       "    }\n",
       "\n",
       "    .dataframe thead th {\n",
       "        text-align: right;\n",
       "    }\n",
       "</style>\n",
       "<table border=\"1\" class=\"dataframe\">\n",
       "  <thead>\n",
       "    <tr style=\"text-align: right;\">\n",
       "      <th></th>\n",
       "      <th>iso_code</th>\n",
       "      <th>geometry</th>\n",
       "      <th>country</th>\n",
       "      <th>year</th>\n",
       "      <th>co2</th>\n",
       "      <th>population</th>\n",
       "    </tr>\n",
       "  </thead>\n",
       "  <tbody>\n",
       "    <tr>\n",
       "      <th>0</th>\n",
       "      <td>FJI</td>\n",
       "      <td>MULTIPOLYGON (((180.00000 -16.06713, 180.00000...</td>\n",
       "      <td>Fiji</td>\n",
       "      <td>2000</td>\n",
       "      <td>0.834</td>\n",
       "      <td>811011.0</td>\n",
       "    </tr>\n",
       "    <tr>\n",
       "      <th>1</th>\n",
       "      <td>TZA</td>\n",
       "      <td>POLYGON ((33.90371 -0.95000, 34.07262 -1.05982...</td>\n",
       "      <td>Tanzania</td>\n",
       "      <td>2000</td>\n",
       "      <td>2.571</td>\n",
       "      <td>33499177.0</td>\n",
       "    </tr>\n",
       "    <tr>\n",
       "      <th>2</th>\n",
       "      <td>CAN</td>\n",
       "      <td>MULTIPOLYGON (((-122.84000 49.00000, -122.9742...</td>\n",
       "      <td>Canada</td>\n",
       "      <td>2000</td>\n",
       "      <td>572.162</td>\n",
       "      <td>30588379.0</td>\n",
       "    </tr>\n",
       "    <tr>\n",
       "      <th>3</th>\n",
       "      <td>USA</td>\n",
       "      <td>MULTIPOLYGON (((-122.84000 49.00000, -120.0000...</td>\n",
       "      <td>United States</td>\n",
       "      <td>2000</td>\n",
       "      <td>5998.070</td>\n",
       "      <td>281710914.0</td>\n",
       "    </tr>\n",
       "    <tr>\n",
       "      <th>4</th>\n",
       "      <td>KAZ</td>\n",
       "      <td>POLYGON ((87.35997 49.21498, 86.59878 48.54918...</td>\n",
       "      <td>Kazakhstan</td>\n",
       "      <td>2000</td>\n",
       "      <td>148.756</td>\n",
       "      <td>14922724.0</td>\n",
       "    </tr>\n",
       "    <tr>\n",
       "      <th>...</th>\n",
       "      <td>...</td>\n",
       "      <td>...</td>\n",
       "      <td>...</td>\n",
       "      <td>...</td>\n",
       "      <td>...</td>\n",
       "      <td>...</td>\n",
       "    </tr>\n",
       "    <tr>\n",
       "      <th>161</th>\n",
       "      <td>MKD</td>\n",
       "      <td>POLYGON ((22.38053 42.32026, 22.88137 41.99930...</td>\n",
       "      <td>North Macedonia</td>\n",
       "      <td>2000</td>\n",
       "      <td>11.996</td>\n",
       "      <td>2034823.0</td>\n",
       "    </tr>\n",
       "    <tr>\n",
       "      <th>162</th>\n",
       "      <td>SRB</td>\n",
       "      <td>POLYGON ((18.82982 45.90887, 18.82984 45.90888...</td>\n",
       "      <td>Serbia</td>\n",
       "      <td>2000</td>\n",
       "      <td>44.950</td>\n",
       "      <td>9487612.0</td>\n",
       "    </tr>\n",
       "    <tr>\n",
       "      <th>163</th>\n",
       "      <td>MNE</td>\n",
       "      <td>POLYGON ((20.07070 42.58863, 19.80161 42.50009...</td>\n",
       "      <td>Montenegro</td>\n",
       "      <td>2000</td>\n",
       "      <td>1.521</td>\n",
       "      <td>613558.0</td>\n",
       "    </tr>\n",
       "    <tr>\n",
       "      <th>164</th>\n",
       "      <td>TTO</td>\n",
       "      <td>POLYGON ((-61.68000 10.76000, -61.10500 10.890...</td>\n",
       "      <td>Trinidad and Tobago</td>\n",
       "      <td>2000</td>\n",
       "      <td>24.191</td>\n",
       "      <td>1267159.0</td>\n",
       "    </tr>\n",
       "    <tr>\n",
       "      <th>165</th>\n",
       "      <td>SSD</td>\n",
       "      <td>POLYGON ((30.83385 3.50917, 29.95350 4.17370, ...</td>\n",
       "      <td>South Sudan</td>\n",
       "      <td>2000</td>\n",
       "      <td>0.460</td>\n",
       "      <td>6199396.0</td>\n",
       "    </tr>\n",
       "  </tbody>\n",
       "</table>\n",
       "<p>166 rows × 6 columns</p>\n",
       "</div>"
      ],
      "text/plain": [
       "    iso_code                                           geometry  \\\n",
       "0        FJI  MULTIPOLYGON (((180.00000 -16.06713, 180.00000...   \n",
       "1        TZA  POLYGON ((33.90371 -0.95000, 34.07262 -1.05982...   \n",
       "2        CAN  MULTIPOLYGON (((-122.84000 49.00000, -122.9742...   \n",
       "3        USA  MULTIPOLYGON (((-122.84000 49.00000, -120.0000...   \n",
       "4        KAZ  POLYGON ((87.35997 49.21498, 86.59878 48.54918...   \n",
       "..       ...                                                ...   \n",
       "161      MKD  POLYGON ((22.38053 42.32026, 22.88137 41.99930...   \n",
       "162      SRB  POLYGON ((18.82982 45.90887, 18.82984 45.90888...   \n",
       "163      MNE  POLYGON ((20.07070 42.58863, 19.80161 42.50009...   \n",
       "164      TTO  POLYGON ((-61.68000 10.76000, -61.10500 10.890...   \n",
       "165      SSD  POLYGON ((30.83385 3.50917, 29.95350 4.17370, ...   \n",
       "\n",
       "                 country  year       co2   population  \n",
       "0                   Fiji  2000     0.834     811011.0  \n",
       "1               Tanzania  2000     2.571   33499177.0  \n",
       "2                 Canada  2000   572.162   30588379.0  \n",
       "3          United States  2000  5998.070  281710914.0  \n",
       "4             Kazakhstan  2000   148.756   14922724.0  \n",
       "..                   ...   ...       ...          ...  \n",
       "161      North Macedonia  2000    11.996    2034823.0  \n",
       "162               Serbia  2000    44.950    9487612.0  \n",
       "163           Montenegro  2000     1.521     613558.0  \n",
       "164  Trinidad and Tobago  2000    24.191    1267159.0  \n",
       "165          South Sudan  2000     0.460    6199396.0  \n",
       "\n",
       "[166 rows x 6 columns]"
      ]
     },
     "execution_count": 25,
     "metadata": {},
     "output_type": "execute_result"
    }
   ],
   "source": [
    "gdf_co2_emissions_2000 = pd.merge(world, df_co2_emissions_2000, on='iso_code')\n",
    "gdf_co2_emissions_2000"
   ]
  },
  {
   "cell_type": "code",
   "execution_count": 26,
   "metadata": {
    "colab": {
     "base_uri": "https://localhost:8080/",
     "height": 391
    },
    "id": "B1UdQ4Fsrkd7",
    "outputId": "be544e90-cd4d-4b85-f883-6e61d152c93d"
   },
   "outputs": [
    {
     "data": {
      "text/plain": [
       "<AxesSubplot:>"
      ]
     },
     "execution_count": 26,
     "metadata": {},
     "output_type": "execute_result"
    },
    {
     "data": {
      "image/png": "[encoded data removed]",
      "text/plain": [
       "<Figure size 1296x432 with 2 Axes>"
      ]
     },
     "metadata": {
      "needs_background": "light"
     },
     "output_type": "display_data"
    }
   ],
   "source": [
    "gdf_co2_emissions_2000.plot(figsize = (18, 6), column='co2', legend=True, cmap = 'Reds')"
   ]
  },
  {
   "cell_type": "code",
   "execution_count": 27,
   "metadata": {},
   "outputs": [],
   "source": [
    "df_co2_emissions_2010 = obtener_pais(2010)"
   ]
  },
  {
   "cell_type": "code",
   "execution_count": 28,
   "metadata": {
    "colab": {
     "base_uri": "https://localhost:8080/",
     "height": 424
    },
    "id": "ZwnOcR24wQii",
    "outputId": "9fb8f1d8-e6bb-4b95-bb71-6ce735001b75"
   },
   "outputs": [
    {
     "data": {
      "text/html": [
       "<div>\n",
       "<style scoped>\n",
       "    .dataframe tbody tr th:only-of-type {\n",
       "        vertical-align: middle;\n",
       "    }\n",
       "\n",
       "    .dataframe tbody tr th {\n",
       "        vertical-align: top;\n",
       "    }\n",
       "\n",
       "    .dataframe thead th {\n",
       "        text-align: right;\n",
       "    }\n",
       "</style>\n",
       "<table border=\"1\" class=\"dataframe\">\n",
       "  <thead>\n",
       "    <tr style=\"text-align: right;\">\n",
       "      <th></th>\n",
       "      <th>iso_code</th>\n",
       "      <th>geometry</th>\n",
       "      <th>country</th>\n",
       "      <th>year</th>\n",
       "      <th>co2</th>\n",
       "      <th>population</th>\n",
       "    </tr>\n",
       "  </thead>\n",
       "  <tbody>\n",
       "    <tr>\n",
       "      <th>0</th>\n",
       "      <td>FJI</td>\n",
       "      <td>MULTIPOLYGON (((180.00000 -16.06713, 180.00000...</td>\n",
       "      <td>Fiji</td>\n",
       "      <td>2010</td>\n",
       "      <td>1.201</td>\n",
       "      <td>859816.0</td>\n",
       "    </tr>\n",
       "    <tr>\n",
       "      <th>1</th>\n",
       "      <td>TZA</td>\n",
       "      <td>POLYGON ((33.90371 -0.95000, 34.07262 -1.05982...</td>\n",
       "      <td>Tanzania</td>\n",
       "      <td>2010</td>\n",
       "      <td>6.925</td>\n",
       "      <td>44346532.0</td>\n",
       "    </tr>\n",
       "    <tr>\n",
       "      <th>2</th>\n",
       "      <td>CAN</td>\n",
       "      <td>MULTIPOLYGON (((-122.84000 49.00000, -122.9742...</td>\n",
       "      <td>Canada</td>\n",
       "      <td>2010</td>\n",
       "      <td>555.550</td>\n",
       "      <td>34147566.0</td>\n",
       "    </tr>\n",
       "    <tr>\n",
       "      <th>3</th>\n",
       "      <td>USA</td>\n",
       "      <td>MULTIPOLYGON (((-122.84000 49.00000, -120.0000...</td>\n",
       "      <td>United States</td>\n",
       "      <td>2010</td>\n",
       "      <td>5698.056</td>\n",
       "      <td>309011469.0</td>\n",
       "    </tr>\n",
       "    <tr>\n",
       "      <th>4</th>\n",
       "      <td>KAZ</td>\n",
       "      <td>POLYGON ((87.35997 49.21498, 86.59878 48.54918...</td>\n",
       "      <td>Kazakhstan</td>\n",
       "      <td>2010</td>\n",
       "      <td>250.897</td>\n",
       "      <td>16252273.0</td>\n",
       "    </tr>\n",
       "    <tr>\n",
       "      <th>...</th>\n",
       "      <td>...</td>\n",
       "      <td>...</td>\n",
       "      <td>...</td>\n",
       "      <td>...</td>\n",
       "      <td>...</td>\n",
       "      <td>...</td>\n",
       "    </tr>\n",
       "    <tr>\n",
       "      <th>162</th>\n",
       "      <td>MKD</td>\n",
       "      <td>POLYGON ((22.38053 42.32026, 22.88137 41.99930...</td>\n",
       "      <td>North Macedonia</td>\n",
       "      <td>2010</td>\n",
       "      <td>8.500</td>\n",
       "      <td>2070737.0</td>\n",
       "    </tr>\n",
       "    <tr>\n",
       "      <th>163</th>\n",
       "      <td>SRB</td>\n",
       "      <td>POLYGON ((18.82982 45.90887, 18.82984 45.90888...</td>\n",
       "      <td>Serbia</td>\n",
       "      <td>2010</td>\n",
       "      <td>45.696</td>\n",
       "      <td>8991258.0</td>\n",
       "    </tr>\n",
       "    <tr>\n",
       "      <th>164</th>\n",
       "      <td>MNE</td>\n",
       "      <td>POLYGON ((20.07070 42.58863, 19.80161 42.50009...</td>\n",
       "      <td>Montenegro</td>\n",
       "      <td>2010</td>\n",
       "      <td>2.422</td>\n",
       "      <td>624279.0</td>\n",
       "    </tr>\n",
       "    <tr>\n",
       "      <th>165</th>\n",
       "      <td>TTO</td>\n",
       "      <td>POLYGON ((-61.68000 10.76000, -61.10500 10.890...</td>\n",
       "      <td>Trinidad and Tobago</td>\n",
       "      <td>2010</td>\n",
       "      <td>46.959</td>\n",
       "      <td>1328144.0</td>\n",
       "    </tr>\n",
       "    <tr>\n",
       "      <th>166</th>\n",
       "      <td>SSD</td>\n",
       "      <td>POLYGON ((30.83385 3.50917, 29.95350 4.17370, ...</td>\n",
       "      <td>South Sudan</td>\n",
       "      <td>2010</td>\n",
       "      <td>1.313</td>\n",
       "      <td>9508372.0</td>\n",
       "    </tr>\n",
       "  </tbody>\n",
       "</table>\n",
       "<p>167 rows × 6 columns</p>\n",
       "</div>"
      ],
      "text/plain": [
       "    iso_code                                           geometry  \\\n",
       "0        FJI  MULTIPOLYGON (((180.00000 -16.06713, 180.00000...   \n",
       "1        TZA  POLYGON ((33.90371 -0.95000, 34.07262 -1.05982...   \n",
       "2        CAN  MULTIPOLYGON (((-122.84000 49.00000, -122.9742...   \n",
       "3        USA  MULTIPOLYGON (((-122.84000 49.00000, -120.0000...   \n",
       "4        KAZ  POLYGON ((87.35997 49.21498, 86.59878 48.54918...   \n",
       "..       ...                                                ...   \n",
       "162      MKD  POLYGON ((22.38053 42.32026, 22.88137 41.99930...   \n",
       "163      SRB  POLYGON ((18.82982 45.90887, 18.82984 45.90888...   \n",
       "164      MNE  POLYGON ((20.07070 42.58863, 19.80161 42.50009...   \n",
       "165      TTO  POLYGON ((-61.68000 10.76000, -61.10500 10.890...   \n",
       "166      SSD  POLYGON ((30.83385 3.50917, 29.95350 4.17370, ...   \n",
       "\n",
       "                 country  year       co2   population  \n",
       "0                   Fiji  2010     1.201     859816.0  \n",
       "1               Tanzania  2010     6.925   44346532.0  \n",
       "2                 Canada  2010   555.550   34147566.0  \n",
       "3          United States  2010  5698.056  309011469.0  \n",
       "4             Kazakhstan  2010   250.897   16252273.0  \n",
       "..                   ...   ...       ...          ...  \n",
       "162      North Macedonia  2010     8.500    2070737.0  \n",
       "163               Serbia  2010    45.696    8991258.0  \n",
       "164           Montenegro  2010     2.422     624279.0  \n",
       "165  Trinidad and Tobago  2010    46.959    1328144.0  \n",
       "166          South Sudan  2010     1.313    9508372.0  \n",
       "\n",
       "[167 rows x 6 columns]"
      ]
     },
     "execution_count": 28,
     "metadata": {},
     "output_type": "execute_result"
    }
   ],
   "source": [
    "gdf_co2_emissions_2010 = pd.merge(world, df_co2_emissions_2010, on='iso_code')\n",
    "gdf_co2_emissions_2010"
   ]
  },
  {
   "cell_type": "code",
   "execution_count": 29,
   "metadata": {
    "colab": {
     "base_uri": "https://localhost:8080/",
     "height": 384
    },
    "id": "PhYNM5ZswVld",
    "outputId": "04aa12ca-681c-4777-9c13-7fb6c03c62cc"
   },
   "outputs": [
    {
     "data": {
      "text/plain": [
       "<AxesSubplot:>"
      ]
     },
     "execution_count": 29,
     "metadata": {},
     "output_type": "execute_result"
    },
    {
     "data": {
      "image/png": "[encoded data removed]",
      "text/plain": [
       "<Figure size 1296x432 with 2 Axes>"
      ]
     },
     "metadata": {
      "needs_background": "light"
     },
     "output_type": "display_data"
    }
   ],
   "source": [
    "gdf_co2_emissions_2010.plot(figsize = (18, 6), column='co2', legend=True, cmap = 'Reds')"
   ]
  },
  {
   "cell_type": "code",
   "execution_count": 30,
   "metadata": {},
   "outputs": [],
   "source": [
    "df_co2_emissions_2019 = obtener_pais(2019)"
   ]
  },
  {
   "cell_type": "code",
   "execution_count": 31,
   "metadata": {
    "colab": {
     "base_uri": "https://localhost:8080/",
     "height": 424
    },
    "id": "akWqkz0lwWn4",
    "outputId": "dc9addd7-c93e-483d-e7f7-5661822403af"
   },
   "outputs": [
    {
     "data": {
      "text/plain": [
       "<AxesSubplot:>"
      ]
     },
     "execution_count": 31,
     "metadata": {},
     "output_type": "execute_result"
    },
    {
     "data": {
      "image/png": "[encoded data removed]",
      "text/plain": [
       "<Figure size 1296x432 with 2 Axes>"
      ]
     },
     "metadata": {
      "needs_background": "light"
     },
     "output_type": "display_data"
    }
   ],
   "source": [
    "gdf_co2_emissions_2019 = pd.merge(world, df_co2_emissions_2019, on='iso_code')\n",
    "gdf_co2_emissions_2019\n",
    "gdf_co2_emissions_2019.plot(figsize = (18, 6), column='co2', legend=True, cmap = 'Reds')"
   ]
  },
  {
   "cell_type": "code",
   "execution_count": 32,
   "metadata": {},
   "outputs": [
    {
     "data": {
      "text/html": [
       "<div>\n",
       "<style scoped>\n",
       "    .dataframe tbody tr th:only-of-type {\n",
       "        vertical-align: middle;\n",
       "    }\n",
       "\n",
       "    .dataframe tbody tr th {\n",
       "        vertical-align: top;\n",
       "    }\n",
       "\n",
       "    .dataframe thead th {\n",
       "        text-align: right;\n",
       "    }\n",
       "</style>\n",
       "<table border=\"1\" class=\"dataframe\">\n",
       "  <thead>\n",
       "    <tr style=\"text-align: right;\">\n",
       "      <th></th>\n",
       "      <th>co2</th>\n",
       "    </tr>\n",
       "    <tr>\n",
       "      <th>country</th>\n",
       "      <th></th>\n",
       "    </tr>\n",
       "  </thead>\n",
       "  <tbody>\n",
       "    <tr>\n",
       "      <th>Afghanistan</th>\n",
       "      <td>5.52250</td>\n",
       "    </tr>\n",
       "    <tr>\n",
       "      <th>Albania</th>\n",
       "      <td>4.44085</td>\n",
       "    </tr>\n",
       "    <tr>\n",
       "      <th>Algeria</th>\n",
       "      <td>120.71660</td>\n",
       "    </tr>\n",
       "    <tr>\n",
       "      <th>Andorra</th>\n",
       "      <td>0.50785</td>\n",
       "    </tr>\n",
       "    <tr>\n",
       "      <th>Angola</th>\n",
       "      <td>26.51720</td>\n",
       "    </tr>\n",
       "    <tr>\n",
       "      <th>...</th>\n",
       "      <td>...</td>\n",
       "    </tr>\n",
       "    <tr>\n",
       "      <th>Venezuela</th>\n",
       "      <td>165.54875</td>\n",
       "    </tr>\n",
       "    <tr>\n",
       "      <th>Vietnam</th>\n",
       "      <td>130.22500</td>\n",
       "    </tr>\n",
       "    <tr>\n",
       "      <th>Yemen</th>\n",
       "      <td>17.70800</td>\n",
       "    </tr>\n",
       "    <tr>\n",
       "      <th>Zambia</th>\n",
       "      <td>3.34065</td>\n",
       "    </tr>\n",
       "    <tr>\n",
       "      <th>Zimbabwe</th>\n",
       "      <td>10.29475</td>\n",
       "    </tr>\n",
       "  </tbody>\n",
       "</table>\n",
       "<p>210 rows × 1 columns</p>\n",
       "</div>"
      ],
      "text/plain": [
       "                   co2\n",
       "country               \n",
       "Afghanistan    5.52250\n",
       "Albania        4.44085\n",
       "Algeria      120.71660\n",
       "Andorra        0.50785\n",
       "Angola        26.51720\n",
       "...                ...\n",
       "Venezuela    165.54875\n",
       "Vietnam      130.22500\n",
       "Yemen         17.70800\n",
       "Zambia         3.34065\n",
       "Zimbabwe      10.29475\n",
       "\n",
       "[210 rows x 1 columns]"
      ]
     },
     "execution_count": 32,
     "metadata": {},
     "output_type": "execute_result"
    }
   ],
   "source": [
    "carbono_XX = df_co2_emissions.loc[df_co2_emissions[\"year\"] >= 2000]\n",
    "carbono_XX = pd.pivot_table(carbono_XX[[\"co2\", \"country\"]], index = \"country\", aggfunc = \"mean\")\n",
    "carbono_XX"
   ]
  },
  {
   "cell_type": "markdown",
   "metadata": {},
   "source": [
    "<iframe width=\"560\" height=\"315\" src=\"https://www.youtube.com/embed/FsX4qHgDlZM\" frameborder=\"0\" allow=\"accelerometer; autoplay; clipboard-write; encrypted-media; gyroscope; picture-in-picture\" allowfullscreen></iframe>"
   ]
  },
  {
   "cell_type": "markdown",
   "metadata": {},
   "source": [
    "2. Metano"
   ]
  },
  {
   "cell_type": "markdown",
   "metadata": {},
   "source": [
    "Ahora analizaremos las emisiones de metano."
   ]
  },
  {
   "cell_type": "code",
   "execution_count": 33,
   "metadata": {},
   "outputs": [
    {
     "name": "stdout",
     "output_type": "stream",
     "text": [
      "<class 'pandas.core.frame.DataFrame'>\n",
      "RangeIndex: 5211 entries, 0 to 5210\n",
      "Data columns (total 4 columns):\n",
      " #   Column                                      Non-Null Count  Dtype  \n",
      "---  ------                                      --------------  -----  \n",
      " 0   Entity                                      5211 non-null   object \n",
      " 1   Code                                        5157 non-null   object \n",
      " 2   Year                                        5211 non-null   int64  \n",
      " 3   Total including LUCF (CH4 emissions, CAIT)  5211 non-null   float64\n",
      "dtypes: float64(1), int64(1), object(2)\n",
      "memory usage: 163.0+ KB\n"
     ]
    }
   ],
   "source": [
    "metano = pd.read_csv('metano.csv')\n",
    "metano.info()\n",
    "metano.rename(columns = {\"Total including LUCF (CH4 emissions, CAIT)\" : \"Emisión de metano\"}, inplace = True)"
   ]
  },
  {
   "cell_type": "code",
   "execution_count": 34,
   "metadata": {},
   "outputs": [
    {
     "data": {
      "text/html": [
       "<div>\n",
       "<style scoped>\n",
       "    .dataframe tbody tr th:only-of-type {\n",
       "        vertical-align: middle;\n",
       "    }\n",
       "\n",
       "    .dataframe tbody tr th {\n",
       "        vertical-align: top;\n",
       "    }\n",
       "\n",
       "    .dataframe thead th {\n",
       "        text-align: right;\n",
       "    }\n",
       "</style>\n",
       "<table border=\"1\" class=\"dataframe\">\n",
       "  <thead>\n",
       "    <tr style=\"text-align: right;\">\n",
       "      <th></th>\n",
       "      <th>Emisión de metano</th>\n",
       "    </tr>\n",
       "    <tr>\n",
       "      <th>Entity</th>\n",
       "      <th></th>\n",
       "    </tr>\n",
       "  </thead>\n",
       "  <tbody>\n",
       "    <tr>\n",
       "      <th>Mexico</th>\n",
       "      <td>1.236553e+08</td>\n",
       "    </tr>\n",
       "    <tr>\n",
       "      <th>Iran</th>\n",
       "      <td>1.286365e+08</td>\n",
       "    </tr>\n",
       "    <tr>\n",
       "      <th>Australia</th>\n",
       "      <td>1.493359e+08</td>\n",
       "    </tr>\n",
       "    <tr>\n",
       "      <th>Indonesia</th>\n",
       "      <td>3.472800e+08</td>\n",
       "    </tr>\n",
       "    <tr>\n",
       "      <th>Brazil</th>\n",
       "      <td>4.095288e+08</td>\n",
       "    </tr>\n",
       "    <tr>\n",
       "      <th>India</th>\n",
       "      <td>6.371382e+08</td>\n",
       "    </tr>\n",
       "    <tr>\n",
       "      <th>United States</th>\n",
       "      <td>6.749612e+08</td>\n",
       "    </tr>\n",
       "    <tr>\n",
       "      <th>Russia</th>\n",
       "      <td>8.133841e+08</td>\n",
       "    </tr>\n",
       "    <tr>\n",
       "      <th>China</th>\n",
       "      <td>1.005464e+09</td>\n",
       "    </tr>\n",
       "  </tbody>\n",
       "</table>\n",
       "</div>"
      ],
      "text/plain": [
       "               Emisión de metano\n",
       "Entity                          \n",
       "Mexico              1.236553e+08\n",
       "Iran                1.286365e+08\n",
       "Australia           1.493359e+08\n",
       "Indonesia           3.472800e+08\n",
       "Brazil              4.095288e+08\n",
       "India               6.371382e+08\n",
       "United States       6.749612e+08\n",
       "Russia              8.133841e+08\n",
       "China               1.005464e+09"
      ]
     },
     "execution_count": 34,
     "metadata": {},
     "output_type": "execute_result"
    }
   ],
   "source": [
    "metano = metano.loc[metano[\"Year\"] >= 2000]\n",
    "metano_promedio_pais = pd.pivot_table(metano[[\"Entity\", \"Emisión de metano\"]], index = \"Entity\", aggfunc = \"mean\")\n",
    "metano_promedio_pais.sort_values(by = \"Emisión de metano\", inplace = True)\n",
    "metano_promedio_pais = metano_promedio_pais.drop(\"European Union (27)\")\n",
    "metano_paises = metano_promedio_pais.iloc[-10: -1]\n",
    "metano_paises"
   ]
  },
  {
   "cell_type": "code",
   "execution_count": 35,
   "metadata": {},
   "outputs": [
    {
     "data": {
      "image/png": "[encoded data removed]",
      "text/plain": [
       "<Figure size 1440x504 with 1 Axes>"
      ]
     },
     "metadata": {
      "needs_background": "light"
     },
     "output_type": "display_data"
    }
   ],
   "source": [
    "fig = plt.subplots(figsize = (20, 7))\n",
    "plt.bar(metano_paises.index, metano_paises[\"Emisión de metano\"])\n",
    "plt.yticks(metano_paises[\"Emisión de metano\"])\n",
    "plt.title(\"Países con mayor emisión de metano en promedio por año\")\n",
    "plt.show()"
   ]
  },
  {
   "cell_type": "markdown",
   "metadata": {},
   "source": [
    "Podemos ver que los paises con mayor emision son Mexico, Iran, Australia, Indonesia, Brazil, Usa, India, Rusia pero denuevo esta China en el top 1."
   ]
  },
  {
   "cell_type": "code",
   "execution_count": 37,
   "metadata": {
    "scrolled": true
   },
   "outputs": [
    {
     "data": {
      "image/png": "[encoded data removed]",
      "text/plain": [
       "<Figure size 1440x504 with 1 Axes>"
      ]
     },
     "metadata": {
      "needs_background": "light"
     },
     "output_type": "display_data"
    }
   ],
   "source": [
    "fig = plt.subplots(figsize = (20, 7))\n",
    "plt.bar(cattle_country_top.index, cattle_country_top[\"Count\"])\n",
    "#plt.yticks(cattle_country[\"Emisión de metano\"])\n",
    "plt.title(\"Promedio de países con más ganado\")\n",
    "plt.show()\n"
   ]
  },
  {
   "cell_type": "markdown",
   "metadata": {},
   "source": [
    "Hicimos este analisis, porque uno de los principales mayores emisiones de gas de carbono despues de las industrias, es la ganaderia. Por eso aqui estamos viendo cuales son los paises que mas se encargan de su ganaderia."
   ]
  },
  {
   "cell_type": "code",
   "execution_count": 38,
   "metadata": {},
   "outputs": [],
   "source": [
    "cattle_country = cattle_country.merge(df_co2_emissions[[\"iso_code\", \"country\"]], left_index = True, right_on = \"country\")\n",
    "cattle_country.drop_duplicates(inplace = True)"
   ]
  },
  {
   "cell_type": "code",
   "execution_count": 39,
   "metadata": {},
   "outputs": [
    {
     "data": {
      "text/plain": [
       "Text(0.5, 1.0, 'Conteo de ganado')"
      ]
     },
     "execution_count": 39,
     "metadata": {},
     "output_type": "execute_result"
    },
    {
     "data": {
      "image/png": "[encoded data removed]",
      "text/plain": [
       "<Figure size 1296x432 with 2 Axes>"
      ]
     },
     "metadata": {
      "needs_background": "light"
     },
     "output_type": "display_data"
    }
   ],
   "source": [
    "gdf_cattle_country = pd.merge(world[[\"iso_code\", \"geometry\"]], cattle_country, on='iso_code')\n",
    "gdf_cattle_country.plot(figsize = (18, 6), column = 'Count', legend=True, cmap = 'Greens')\n",
    "plt.title(\"Conteo de ganado\")"
   ]
  },
  {
   "cell_type": "markdown",
   "metadata": {},
   "source": [
    "    Finalizando con el analisis de gases de metano. Hicimos un grafico de conteo de ganas representado en el mapa, para que sea mas facil de evidenciar cuales son los paises que mas contaminan con ganaderia. Podemos ver que entre esos el mas contaminansre es brazil."
   ]
  },
  {
   "cell_type": "code",
   "execution_count": 113,
   "metadata": {},
   "outputs": [],
   "source": [
    "import datetime as dt\n",
    "temp = pd.read_csv(\"GlobalLandTemperatures_GlobalLandTemperaturesByCountry.csv\")\n",
    "temp = temp.loc[temp[\"Country\"] != \"Ã…land\"]"
   ]
  },
  {
   "cell_type": "code",
   "execution_count": 114,
   "metadata": {},
   "outputs": [],
   "source": [
    "temp_dt =temp.copy()\n",
    "temp_dt[\"dt\"] = pd.to_datetime(temp_dt[\"dt\"])"
   ]
  },
  {
   "cell_type": "code",
   "execution_count": 115,
   "metadata": {},
   "outputs": [],
   "source": [
    "temp_dt[\"dt\"] = temp_dt[\"dt\"].apply(lambda row: row.strftime(\"%Y\"))"
   ]
  },
  {
   "cell_type": "code",
   "execution_count": 116,
   "metadata": {},
   "outputs": [],
   "source": [
    "fecha = dt.datetime(2000, 1, 1)\n",
    "fecha = fecha.strftime(\"%Y\")\n",
    "temp_dt = temp_dt.loc[temp_dt[\"dt\"] >= fecha]\n",
    "rows = temp_dt.index[temp_dt[\"Country\"] == \"Åland\"]\n",
    "temp_dt.drop(rows, inplace = True)"
   ]
  },
  {
   "cell_type": "code",
   "execution_count": 117,
   "metadata": {},
   "outputs": [
    {
     "data": {
      "text/html": [
       "<div>\n",
       "<style scoped>\n",
       "    .dataframe tbody tr th:only-of-type {\n",
       "        vertical-align: middle;\n",
       "    }\n",
       "\n",
       "    .dataframe tbody tr th {\n",
       "        vertical-align: top;\n",
       "    }\n",
       "\n",
       "    .dataframe thead tr th {\n",
       "        text-align: left;\n",
       "    }\n",
       "\n",
       "    .dataframe thead tr:last-of-type th {\n",
       "        text-align: right;\n",
       "    }\n",
       "</style>\n",
       "<table border=\"1\" class=\"dataframe\">\n",
       "  <thead>\n",
       "    <tr>\n",
       "      <th></th>\n",
       "      <th colspan=\"14\" halign=\"left\">AverageTemperature</th>\n",
       "    </tr>\n",
       "    <tr>\n",
       "      <th>dt</th>\n",
       "      <th>2000</th>\n",
       "      <th>2001</th>\n",
       "      <th>2002</th>\n",
       "      <th>2003</th>\n",
       "      <th>2004</th>\n",
       "      <th>2005</th>\n",
       "      <th>2006</th>\n",
       "      <th>2007</th>\n",
       "      <th>2008</th>\n",
       "      <th>2009</th>\n",
       "      <th>2010</th>\n",
       "      <th>2011</th>\n",
       "      <th>2012</th>\n",
       "      <th>2013</th>\n",
       "    </tr>\n",
       "    <tr>\n",
       "      <th>Country</th>\n",
       "      <th></th>\n",
       "      <th></th>\n",
       "      <th></th>\n",
       "      <th></th>\n",
       "      <th></th>\n",
       "      <th></th>\n",
       "      <th></th>\n",
       "      <th></th>\n",
       "      <th></th>\n",
       "      <th></th>\n",
       "      <th></th>\n",
       "      <th></th>\n",
       "      <th></th>\n",
       "      <th></th>\n",
       "    </tr>\n",
       "  </thead>\n",
       "  <tbody>\n",
       "    <tr>\n",
       "      <th>Afghanistan</th>\n",
       "      <td>15.497833</td>\n",
       "      <td>15.778083</td>\n",
       "      <td>15.537667</td>\n",
       "      <td>14.916000</td>\n",
       "      <td>15.770917</td>\n",
       "      <td>14.980000</td>\n",
       "      <td>15.595583</td>\n",
       "      <td>15.106167</td>\n",
       "      <td>15.216500</td>\n",
       "      <td>15.257750</td>\n",
       "      <td>15.828667</td>\n",
       "      <td>15.518000</td>\n",
       "      <td>14.481583</td>\n",
       "      <td>16.533625</td>\n",
       "    </tr>\n",
       "    <tr>\n",
       "      <th>Africa</th>\n",
       "      <td>24.588083</td>\n",
       "      <td>24.841167</td>\n",
       "      <td>24.961333</td>\n",
       "      <td>25.025583</td>\n",
       "      <td>24.895917</td>\n",
       "      <td>25.156167</td>\n",
       "      <td>24.818917</td>\n",
       "      <td>24.851500</td>\n",
       "      <td>24.754667</td>\n",
       "      <td>25.026500</td>\n",
       "      <td>25.472500</td>\n",
       "      <td>24.786500</td>\n",
       "      <td>24.725917</td>\n",
       "      <td>25.208750</td>\n",
       "    </tr>\n",
       "    <tr>\n",
       "      <th>Albania</th>\n",
       "      <td>13.746583</td>\n",
       "      <td>13.690417</td>\n",
       "      <td>13.559917</td>\n",
       "      <td>13.626583</td>\n",
       "      <td>13.258167</td>\n",
       "      <td>12.747083</td>\n",
       "      <td>12.976917</td>\n",
       "      <td>13.890500</td>\n",
       "      <td>13.955167</td>\n",
       "      <td>13.844250</td>\n",
       "      <td>13.775417</td>\n",
       "      <td>13.443250</td>\n",
       "      <td>13.768250</td>\n",
       "      <td>14.993875</td>\n",
       "    </tr>\n",
       "    <tr>\n",
       "      <th>Algeria</th>\n",
       "      <td>24.032250</td>\n",
       "      <td>24.724417</td>\n",
       "      <td>24.263000</td>\n",
       "      <td>24.393667</td>\n",
       "      <td>23.916000</td>\n",
       "      <td>24.222583</td>\n",
       "      <td>24.200833</td>\n",
       "      <td>24.065333</td>\n",
       "      <td>23.950250</td>\n",
       "      <td>24.154333</td>\n",
       "      <td>25.215667</td>\n",
       "      <td>24.144167</td>\n",
       "      <td>23.954833</td>\n",
       "      <td>25.121500</td>\n",
       "    </tr>\n",
       "    <tr>\n",
       "      <th>American Samoa</th>\n",
       "      <td>27.219833</td>\n",
       "      <td>27.227583</td>\n",
       "      <td>27.537917</td>\n",
       "      <td>27.264833</td>\n",
       "      <td>27.281167</td>\n",
       "      <td>27.373500</td>\n",
       "      <td>27.081250</td>\n",
       "      <td>27.452417</td>\n",
       "      <td>26.995083</td>\n",
       "      <td>27.034250</td>\n",
       "      <td>27.453417</td>\n",
       "      <td>27.009500</td>\n",
       "      <td>27.201417</td>\n",
       "      <td>27.517250</td>\n",
       "    </tr>\n",
       "    <tr>\n",
       "      <th>...</th>\n",
       "      <td>...</td>\n",
       "      <td>...</td>\n",
       "      <td>...</td>\n",
       "      <td>...</td>\n",
       "      <td>...</td>\n",
       "      <td>...</td>\n",
       "      <td>...</td>\n",
       "      <td>...</td>\n",
       "      <td>...</td>\n",
       "      <td>...</td>\n",
       "      <td>...</td>\n",
       "      <td>...</td>\n",
       "      <td>...</td>\n",
       "      <td>...</td>\n",
       "    </tr>\n",
       "    <tr>\n",
       "      <th>Virgin Islands</th>\n",
       "      <td>26.730583</td>\n",
       "      <td>27.133167</td>\n",
       "      <td>27.297833</td>\n",
       "      <td>27.376583</td>\n",
       "      <td>27.029250</td>\n",
       "      <td>27.424667</td>\n",
       "      <td>27.374833</td>\n",
       "      <td>27.470000</td>\n",
       "      <td>26.924000</td>\n",
       "      <td>27.238500</td>\n",
       "      <td>27.593667</td>\n",
       "      <td>27.159250</td>\n",
       "      <td>27.360167</td>\n",
       "      <td>27.312333</td>\n",
       "    </tr>\n",
       "    <tr>\n",
       "      <th>Western Sahara</th>\n",
       "      <td>23.020083</td>\n",
       "      <td>23.704917</td>\n",
       "      <td>23.457833</td>\n",
       "      <td>23.408917</td>\n",
       "      <td>23.420667</td>\n",
       "      <td>23.507667</td>\n",
       "      <td>23.441833</td>\n",
       "      <td>23.145417</td>\n",
       "      <td>23.323083</td>\n",
       "      <td>23.381083</td>\n",
       "      <td>24.114250</td>\n",
       "      <td>23.401250</td>\n",
       "      <td>23.303417</td>\n",
       "      <td>23.744250</td>\n",
       "    </tr>\n",
       "    <tr>\n",
       "      <th>Yemen</th>\n",
       "      <td>27.436167</td>\n",
       "      <td>27.068917</td>\n",
       "      <td>27.125167</td>\n",
       "      <td>27.357750</td>\n",
       "      <td>27.334083</td>\n",
       "      <td>27.294667</td>\n",
       "      <td>27.175000</td>\n",
       "      <td>27.310750</td>\n",
       "      <td>26.807500</td>\n",
       "      <td>27.342417</td>\n",
       "      <td>27.302750</td>\n",
       "      <td>27.288250</td>\n",
       "      <td>27.445000</td>\n",
       "      <td>28.129750</td>\n",
       "    </tr>\n",
       "    <tr>\n",
       "      <th>Zambia</th>\n",
       "      <td>21.558750</td>\n",
       "      <td>21.802417</td>\n",
       "      <td>22.292417</td>\n",
       "      <td>22.156750</td>\n",
       "      <td>21.768083</td>\n",
       "      <td>22.813500</td>\n",
       "      <td>21.784250</td>\n",
       "      <td>21.838500</td>\n",
       "      <td>21.535833</td>\n",
       "      <td>21.670250</td>\n",
       "      <td>22.267500</td>\n",
       "      <td>21.771583</td>\n",
       "      <td>21.697750</td>\n",
       "      <td>21.196000</td>\n",
       "    </tr>\n",
       "    <tr>\n",
       "      <th>Zimbabwe</th>\n",
       "      <td>21.149000</td>\n",
       "      <td>21.693667</td>\n",
       "      <td>22.081083</td>\n",
       "      <td>21.891250</td>\n",
       "      <td>21.330917</td>\n",
       "      <td>22.509917</td>\n",
       "      <td>21.618750</td>\n",
       "      <td>21.604250</td>\n",
       "      <td>21.545583</td>\n",
       "      <td>21.377250</td>\n",
       "      <td>21.986250</td>\n",
       "      <td>21.602417</td>\n",
       "      <td>21.521333</td>\n",
       "      <td>20.710750</td>\n",
       "    </tr>\n",
       "  </tbody>\n",
       "</table>\n",
       "<p>241 rows × 14 columns</p>\n",
       "</div>"
      ],
      "text/plain": [
       "               AverageTemperature                                              \\\n",
       "dt                           2000       2001       2002       2003       2004   \n",
       "Country                                                                         \n",
       "Afghanistan             15.497833  15.778083  15.537667  14.916000  15.770917   \n",
       "Africa                  24.588083  24.841167  24.961333  25.025583  24.895917   \n",
       "Albania                 13.746583  13.690417  13.559917  13.626583  13.258167   \n",
       "Algeria                 24.032250  24.724417  24.263000  24.393667  23.916000   \n",
       "American Samoa          27.219833  27.227583  27.537917  27.264833  27.281167   \n",
       "...                           ...        ...        ...        ...        ...   \n",
       "Virgin Islands          26.730583  27.133167  27.297833  27.376583  27.029250   \n",
       "Western Sahara          23.020083  23.704917  23.457833  23.408917  23.420667   \n",
       "Yemen                   27.436167  27.068917  27.125167  27.357750  27.334083   \n",
       "Zambia                  21.558750  21.802417  22.292417  22.156750  21.768083   \n",
       "Zimbabwe                21.149000  21.693667  22.081083  21.891250  21.330917   \n",
       "\n",
       "                                                                       \\\n",
       "dt                   2005       2006       2007       2008       2009   \n",
       "Country                                                                 \n",
       "Afghanistan     14.980000  15.595583  15.106167  15.216500  15.257750   \n",
       "Africa          25.156167  24.818917  24.851500  24.754667  25.026500   \n",
       "Albania         12.747083  12.976917  13.890500  13.955167  13.844250   \n",
       "Algeria         24.222583  24.200833  24.065333  23.950250  24.154333   \n",
       "American Samoa  27.373500  27.081250  27.452417  26.995083  27.034250   \n",
       "...                   ...        ...        ...        ...        ...   \n",
       "Virgin Islands  27.424667  27.374833  27.470000  26.924000  27.238500   \n",
       "Western Sahara  23.507667  23.441833  23.145417  23.323083  23.381083   \n",
       "Yemen           27.294667  27.175000  27.310750  26.807500  27.342417   \n",
       "Zambia          22.813500  21.784250  21.838500  21.535833  21.670250   \n",
       "Zimbabwe        22.509917  21.618750  21.604250  21.545583  21.377250   \n",
       "\n",
       "                                                            \n",
       "dt                   2010       2011       2012       2013  \n",
       "Country                                                     \n",
       "Afghanistan     15.828667  15.518000  14.481583  16.533625  \n",
       "Africa          25.472500  24.786500  24.725917  25.208750  \n",
       "Albania         13.775417  13.443250  13.768250  14.993875  \n",
       "Algeria         25.215667  24.144167  23.954833  25.121500  \n",
       "American Samoa  27.453417  27.009500  27.201417  27.517250  \n",
       "...                   ...        ...        ...        ...  \n",
       "Virgin Islands  27.593667  27.159250  27.360167  27.312333  \n",
       "Western Sahara  24.114250  23.401250  23.303417  23.744250  \n",
       "Yemen           27.302750  27.288250  27.445000  28.129750  \n",
       "Zambia          22.267500  21.771583  21.697750  21.196000  \n",
       "Zimbabwe        21.986250  21.602417  21.521333  20.710750  \n",
       "\n",
       "[241 rows x 14 columns]"
      ]
     },
     "execution_count": 117,
     "metadata": {},
     "output_type": "execute_result"
    }
   ],
   "source": [
    "temp_dt2 = pd.pivot_table(temp_dt[[\"AverageTemperature\", \"dt\", \"Country\"]], index = \"Country\", columns = \"dt\", aggfunc = \"mean\", fill_value = 0)\n",
    "temp_dt2"
   ]
  },
  {
   "cell_type": "code",
   "execution_count": 118,
   "metadata": {},
   "outputs": [
    {
     "data": {
      "text/html": [
       "<div>\n",
       "<style scoped>\n",
       "    .dataframe tbody tr th:only-of-type {\n",
       "        vertical-align: middle;\n",
       "    }\n",
       "\n",
       "    .dataframe tbody tr th {\n",
       "        vertical-align: top;\n",
       "    }\n",
       "\n",
       "    .dataframe thead th {\n",
       "        text-align: right;\n",
       "    }\n",
       "</style>\n",
       "<table border=\"1\" class=\"dataframe\">\n",
       "  <thead>\n",
       "    <tr style=\"text-align: right;\">\n",
       "      <th></th>\n",
       "      <th>(AverageTemperature, 2000)</th>\n",
       "      <th>(AverageTemperature, 2001)</th>\n",
       "      <th>(AverageTemperature, 2002)</th>\n",
       "      <th>(AverageTemperature, 2003)</th>\n",
       "      <th>(AverageTemperature, 2004)</th>\n",
       "      <th>(AverageTemperature, 2005)</th>\n",
       "      <th>(AverageTemperature, 2006)</th>\n",
       "      <th>(AverageTemperature, 2007)</th>\n",
       "      <th>(AverageTemperature, 2008)</th>\n",
       "      <th>(AverageTemperature, 2009)</th>\n",
       "      <th>(AverageTemperature, 2010)</th>\n",
       "      <th>(AverageTemperature, 2011)</th>\n",
       "      <th>(AverageTemperature, 2012)</th>\n",
       "      <th>(AverageTemperature, 2013)</th>\n",
       "      <th>iso_code</th>\n",
       "      <th>country</th>\n",
       "      <th>geometry</th>\n",
       "    </tr>\n",
       "  </thead>\n",
       "  <tbody>\n",
       "    <tr>\n",
       "      <th>0</th>\n",
       "      <td>15.497833</td>\n",
       "      <td>15.778083</td>\n",
       "      <td>15.537667</td>\n",
       "      <td>14.91600</td>\n",
       "      <td>15.770917</td>\n",
       "      <td>14.980000</td>\n",
       "      <td>15.595583</td>\n",
       "      <td>15.106167</td>\n",
       "      <td>15.216500</td>\n",
       "      <td>15.25775</td>\n",
       "      <td>15.828667</td>\n",
       "      <td>15.518000</td>\n",
       "      <td>14.481583</td>\n",
       "      <td>16.533625</td>\n",
       "      <td>AFG</td>\n",
       "      <td>Afghanistan</td>\n",
       "      <td>POLYGON ((66.51861 37.36278, 67.07578 37.35614...</td>\n",
       "    </tr>\n",
       "    <tr>\n",
       "      <th>1</th>\n",
       "      <td>15.497833</td>\n",
       "      <td>15.778083</td>\n",
       "      <td>15.537667</td>\n",
       "      <td>14.91600</td>\n",
       "      <td>15.770917</td>\n",
       "      <td>14.980000</td>\n",
       "      <td>15.595583</td>\n",
       "      <td>15.106167</td>\n",
       "      <td>15.216500</td>\n",
       "      <td>15.25775</td>\n",
       "      <td>15.828667</td>\n",
       "      <td>15.518000</td>\n",
       "      <td>14.481583</td>\n",
       "      <td>16.533625</td>\n",
       "      <td>AFG</td>\n",
       "      <td>Afghanistan</td>\n",
       "      <td>POLYGON ((66.51861 37.36278, 67.07578 37.35614...</td>\n",
       "    </tr>\n",
       "    <tr>\n",
       "      <th>2</th>\n",
       "      <td>15.497833</td>\n",
       "      <td>15.778083</td>\n",
       "      <td>15.537667</td>\n",
       "      <td>14.91600</td>\n",
       "      <td>15.770917</td>\n",
       "      <td>14.980000</td>\n",
       "      <td>15.595583</td>\n",
       "      <td>15.106167</td>\n",
       "      <td>15.216500</td>\n",
       "      <td>15.25775</td>\n",
       "      <td>15.828667</td>\n",
       "      <td>15.518000</td>\n",
       "      <td>14.481583</td>\n",
       "      <td>16.533625</td>\n",
       "      <td>AFG</td>\n",
       "      <td>Afghanistan</td>\n",
       "      <td>POLYGON ((66.51861 37.36278, 67.07578 37.35614...</td>\n",
       "    </tr>\n",
       "    <tr>\n",
       "      <th>3</th>\n",
       "      <td>15.497833</td>\n",
       "      <td>15.778083</td>\n",
       "      <td>15.537667</td>\n",
       "      <td>14.91600</td>\n",
       "      <td>15.770917</td>\n",
       "      <td>14.980000</td>\n",
       "      <td>15.595583</td>\n",
       "      <td>15.106167</td>\n",
       "      <td>15.216500</td>\n",
       "      <td>15.25775</td>\n",
       "      <td>15.828667</td>\n",
       "      <td>15.518000</td>\n",
       "      <td>14.481583</td>\n",
       "      <td>16.533625</td>\n",
       "      <td>AFG</td>\n",
       "      <td>Afghanistan</td>\n",
       "      <td>POLYGON ((66.51861 37.36278, 67.07578 37.35614...</td>\n",
       "    </tr>\n",
       "    <tr>\n",
       "      <th>4</th>\n",
       "      <td>15.497833</td>\n",
       "      <td>15.778083</td>\n",
       "      <td>15.537667</td>\n",
       "      <td>14.91600</td>\n",
       "      <td>15.770917</td>\n",
       "      <td>14.980000</td>\n",
       "      <td>15.595583</td>\n",
       "      <td>15.106167</td>\n",
       "      <td>15.216500</td>\n",
       "      <td>15.25775</td>\n",
       "      <td>15.828667</td>\n",
       "      <td>15.518000</td>\n",
       "      <td>14.481583</td>\n",
       "      <td>16.533625</td>\n",
       "      <td>AFG</td>\n",
       "      <td>Afghanistan</td>\n",
       "      <td>POLYGON ((66.51861 37.36278, 67.07578 37.35614...</td>\n",
       "    </tr>\n",
       "    <tr>\n",
       "      <th>...</th>\n",
       "      <td>...</td>\n",
       "      <td>...</td>\n",
       "      <td>...</td>\n",
       "      <td>...</td>\n",
       "      <td>...</td>\n",
       "      <td>...</td>\n",
       "      <td>...</td>\n",
       "      <td>...</td>\n",
       "      <td>...</td>\n",
       "      <td>...</td>\n",
       "      <td>...</td>\n",
       "      <td>...</td>\n",
       "      <td>...</td>\n",
       "      <td>...</td>\n",
       "      <td>...</td>\n",
       "      <td>...</td>\n",
       "      <td>...</td>\n",
       "    </tr>\n",
       "    <tr>\n",
       "      <th>16140</th>\n",
       "      <td>21.149000</td>\n",
       "      <td>21.693667</td>\n",
       "      <td>22.081083</td>\n",
       "      <td>21.89125</td>\n",
       "      <td>21.330917</td>\n",
       "      <td>22.509917</td>\n",
       "      <td>21.618750</td>\n",
       "      <td>21.604250</td>\n",
       "      <td>21.545583</td>\n",
       "      <td>21.37725</td>\n",
       "      <td>21.986250</td>\n",
       "      <td>21.602417</td>\n",
       "      <td>21.521333</td>\n",
       "      <td>20.710750</td>\n",
       "      <td>ZWE</td>\n",
       "      <td>Zimbabwe</td>\n",
       "      <td>POLYGON ((31.19141 -22.25151, 30.65987 -22.151...</td>\n",
       "    </tr>\n",
       "    <tr>\n",
       "      <th>16141</th>\n",
       "      <td>21.149000</td>\n",
       "      <td>21.693667</td>\n",
       "      <td>22.081083</td>\n",
       "      <td>21.89125</td>\n",
       "      <td>21.330917</td>\n",
       "      <td>22.509917</td>\n",
       "      <td>21.618750</td>\n",
       "      <td>21.604250</td>\n",
       "      <td>21.545583</td>\n",
       "      <td>21.37725</td>\n",
       "      <td>21.986250</td>\n",
       "      <td>21.602417</td>\n",
       "      <td>21.521333</td>\n",
       "      <td>20.710750</td>\n",
       "      <td>ZWE</td>\n",
       "      <td>Zimbabwe</td>\n",
       "      <td>POLYGON ((31.19141 -22.25151, 30.65987 -22.151...</td>\n",
       "    </tr>\n",
       "    <tr>\n",
       "      <th>16142</th>\n",
       "      <td>21.149000</td>\n",
       "      <td>21.693667</td>\n",
       "      <td>22.081083</td>\n",
       "      <td>21.89125</td>\n",
       "      <td>21.330917</td>\n",
       "      <td>22.509917</td>\n",
       "      <td>21.618750</td>\n",
       "      <td>21.604250</td>\n",
       "      <td>21.545583</td>\n",
       "      <td>21.37725</td>\n",
       "      <td>21.986250</td>\n",
       "      <td>21.602417</td>\n",
       "      <td>21.521333</td>\n",
       "      <td>20.710750</td>\n",
       "      <td>ZWE</td>\n",
       "      <td>Zimbabwe</td>\n",
       "      <td>POLYGON ((31.19141 -22.25151, 30.65987 -22.151...</td>\n",
       "    </tr>\n",
       "    <tr>\n",
       "      <th>16143</th>\n",
       "      <td>21.149000</td>\n",
       "      <td>21.693667</td>\n",
       "      <td>22.081083</td>\n",
       "      <td>21.89125</td>\n",
       "      <td>21.330917</td>\n",
       "      <td>22.509917</td>\n",
       "      <td>21.618750</td>\n",
       "      <td>21.604250</td>\n",
       "      <td>21.545583</td>\n",
       "      <td>21.37725</td>\n",
       "      <td>21.986250</td>\n",
       "      <td>21.602417</td>\n",
       "      <td>21.521333</td>\n",
       "      <td>20.710750</td>\n",
       "      <td>ZWE</td>\n",
       "      <td>Zimbabwe</td>\n",
       "      <td>POLYGON ((31.19141 -22.25151, 30.65987 -22.151...</td>\n",
       "    </tr>\n",
       "    <tr>\n",
       "      <th>16144</th>\n",
       "      <td>21.149000</td>\n",
       "      <td>21.693667</td>\n",
       "      <td>22.081083</td>\n",
       "      <td>21.89125</td>\n",
       "      <td>21.330917</td>\n",
       "      <td>22.509917</td>\n",
       "      <td>21.618750</td>\n",
       "      <td>21.604250</td>\n",
       "      <td>21.545583</td>\n",
       "      <td>21.37725</td>\n",
       "      <td>21.986250</td>\n",
       "      <td>21.602417</td>\n",
       "      <td>21.521333</td>\n",
       "      <td>20.710750</td>\n",
       "      <td>ZWE</td>\n",
       "      <td>Zimbabwe</td>\n",
       "      <td>POLYGON ((31.19141 -22.25151, 30.65987 -22.151...</td>\n",
       "    </tr>\n",
       "  </tbody>\n",
       "</table>\n",
       "<p>16145 rows × 17 columns</p>\n",
       "</div>"
      ],
      "text/plain": [
       "       (AverageTemperature, 2000)  (AverageTemperature, 2001)  \\\n",
       "0                       15.497833                   15.778083   \n",
       "1                       15.497833                   15.778083   \n",
       "2                       15.497833                   15.778083   \n",
       "3                       15.497833                   15.778083   \n",
       "4                       15.497833                   15.778083   \n",
       "...                           ...                         ...   \n",
       "16140                   21.149000                   21.693667   \n",
       "16141                   21.149000                   21.693667   \n",
       "16142                   21.149000                   21.693667   \n",
       "16143                   21.149000                   21.693667   \n",
       "16144                   21.149000                   21.693667   \n",
       "\n",
       "       (AverageTemperature, 2002)  (AverageTemperature, 2003)  \\\n",
       "0                       15.537667                    14.91600   \n",
       "1                       15.537667                    14.91600   \n",
       "2                       15.537667                    14.91600   \n",
       "3                       15.537667                    14.91600   \n",
       "4                       15.537667                    14.91600   \n",
       "...                           ...                         ...   \n",
       "16140                   22.081083                    21.89125   \n",
       "16141                   22.081083                    21.89125   \n",
       "16142                   22.081083                    21.89125   \n",
       "16143                   22.081083                    21.89125   \n",
       "16144                   22.081083                    21.89125   \n",
       "\n",
       "       (AverageTemperature, 2004)  (AverageTemperature, 2005)  \\\n",
       "0                       15.770917                   14.980000   \n",
       "1                       15.770917                   14.980000   \n",
       "2                       15.770917                   14.980000   \n",
       "3                       15.770917                   14.980000   \n",
       "4                       15.770917                   14.980000   \n",
       "...                           ...                         ...   \n",
       "16140                   21.330917                   22.509917   \n",
       "16141                   21.330917                   22.509917   \n",
       "16142                   21.330917                   22.509917   \n",
       "16143                   21.330917                   22.509917   \n",
       "16144                   21.330917                   22.509917   \n",
       "\n",
       "       (AverageTemperature, 2006)  (AverageTemperature, 2007)  \\\n",
       "0                       15.595583                   15.106167   \n",
       "1                       15.595583                   15.106167   \n",
       "2                       15.595583                   15.106167   \n",
       "3                       15.595583                   15.106167   \n",
       "4                       15.595583                   15.106167   \n",
       "...                           ...                         ...   \n",
       "16140                   21.618750                   21.604250   \n",
       "16141                   21.618750                   21.604250   \n",
       "16142                   21.618750                   21.604250   \n",
       "16143                   21.618750                   21.604250   \n",
       "16144                   21.618750                   21.604250   \n",
       "\n",
       "       (AverageTemperature, 2008)  (AverageTemperature, 2009)  \\\n",
       "0                       15.216500                    15.25775   \n",
       "1                       15.216500                    15.25775   \n",
       "2                       15.216500                    15.25775   \n",
       "3                       15.216500                    15.25775   \n",
       "4                       15.216500                    15.25775   \n",
       "...                           ...                         ...   \n",
       "16140                   21.545583                    21.37725   \n",
       "16141                   21.545583                    21.37725   \n",
       "16142                   21.545583                    21.37725   \n",
       "16143                   21.545583                    21.37725   \n",
       "16144                   21.545583                    21.37725   \n",
       "\n",
       "       (AverageTemperature, 2010)  (AverageTemperature, 2011)  \\\n",
       "0                       15.828667                   15.518000   \n",
       "1                       15.828667                   15.518000   \n",
       "2                       15.828667                   15.518000   \n",
       "3                       15.828667                   15.518000   \n",
       "4                       15.828667                   15.518000   \n",
       "...                           ...                         ...   \n",
       "16140                   21.986250                   21.602417   \n",
       "16141                   21.986250                   21.602417   \n",
       "16142                   21.986250                   21.602417   \n",
       "16143                   21.986250                   21.602417   \n",
       "16144                   21.986250                   21.602417   \n",
       "\n",
       "       (AverageTemperature, 2012)  (AverageTemperature, 2013) iso_code  \\\n",
       "0                       14.481583                   16.533625      AFG   \n",
       "1                       14.481583                   16.533625      AFG   \n",
       "2                       14.481583                   16.533625      AFG   \n",
       "3                       14.481583                   16.533625      AFG   \n",
       "4                       14.481583                   16.533625      AFG   \n",
       "...                           ...                         ...      ...   \n",
       "16140                   21.521333                   20.710750      ZWE   \n",
       "16141                   21.521333                   20.710750      ZWE   \n",
       "16142                   21.521333                   20.710750      ZWE   \n",
       "16143                   21.521333                   20.710750      ZWE   \n",
       "16144                   21.521333                   20.710750      ZWE   \n",
       "\n",
       "           country                                           geometry  \n",
       "0      Afghanistan  POLYGON ((66.51861 37.36278, 67.07578 37.35614...  \n",
       "1      Afghanistan  POLYGON ((66.51861 37.36278, 67.07578 37.35614...  \n",
       "2      Afghanistan  POLYGON ((66.51861 37.36278, 67.07578 37.35614...  \n",
       "3      Afghanistan  POLYGON ((66.51861 37.36278, 67.07578 37.35614...  \n",
       "4      Afghanistan  POLYGON ((66.51861 37.36278, 67.07578 37.35614...  \n",
       "...            ...                                                ...  \n",
       "16140     Zimbabwe  POLYGON ((31.19141 -22.25151, 30.65987 -22.151...  \n",
       "16141     Zimbabwe  POLYGON ((31.19141 -22.25151, 30.65987 -22.151...  \n",
       "16142     Zimbabwe  POLYGON ((31.19141 -22.25151, 30.65987 -22.151...  \n",
       "16143     Zimbabwe  POLYGON ((31.19141 -22.25151, 30.65987 -22.151...  \n",
       "16144     Zimbabwe  POLYGON ((31.19141 -22.25151, 30.65987 -22.151...  \n",
       "\n",
       "[16145 rows x 17 columns]"
      ]
     },
     "execution_count": 118,
     "metadata": {},
     "output_type": "execute_result"
    }
   ],
   "source": [
    "temp_dt2= temp_dt2.merge(df_co2_emissions[[\"iso_code\", \"country\"]], left_on = \"Country\",right_on = \"country\")  \n",
    "gdf_temp = temp_dt2.merge(world[[\"iso_code\", \"geometry\"]], on='iso_code')\n",
    "gdf_temp"
   ]
  },
  {
   "cell_type": "code",
   "execution_count": 46,
   "metadata": {},
   "outputs": [],
   "source": [
    "gdf_temp = gpd.GeoDataFrame(gdf_temp)"
   ]
  },
  {
   "cell_type": "code",
   "execution_count": 47,
   "metadata": {},
   "outputs": [
    {
     "data": {
      "text/plain": [
       "<AxesSubplot:>"
      ]
     },
     "execution_count": 47,
     "metadata": {},
     "output_type": "execute_result"
    },
    {
     "data": {
      "image/png": "[encoded data removed]",
      "text/plain": [
       "<Figure size 1296x432 with 2 Axes>"
      ]
     },
     "metadata": {
      "needs_background": "light"
     },
     "output_type": "display_data"
    }
   ],
   "source": [
    "gdf_temp.plot(figsize = (18, 6), column = ('AverageTemperature', '2013'), legend=True, cmap = 'Reds')"
   ]
  },
  {
   "cell_type": "code",
   "execution_count": null,
   "metadata": {},
   "outputs": [],
   "source": [
    "Por ultimo analizaremos, la variable temperatura a naviel mundial."
   ]
  },
  {
   "cell_type": "markdown",
   "metadata": {},
   "source": [
    "# Regresion lineal"
   ]
  },
  {
   "cell_type": "code",
   "execution_count": 48,
   "metadata": {},
   "outputs": [
    {
     "name": "stdout",
     "output_type": "stream",
     "text": [
      "Requirement already satisfied: seaborn in c:\\users\\carlota\\anaconda3\\envs\\progra\\lib\\site-packages (0.11.2)\n",
      "Requirement already satisfied: matplotlib>=2.2 in c:\\users\\carlota\\anaconda3\\envs\\progra\\lib\\site-packages (from seaborn) (3.4.2)\n",
      "Requirement already satisfied: numpy>=1.15 in c:\\users\\carlota\\anaconda3\\envs\\progra\\lib\\site-packages (from seaborn) (1.20.3)\n",
      "Requirement already satisfied: pandas>=0.23 in c:\\users\\carlota\\anaconda3\\envs\\progra\\lib\\site-packages (from seaborn) (1.3.2)\n",
      "Requirement already satisfied: scipy>=1.0 in c:\\users\\carlota\\anaconda3\\envs\\progra\\lib\\site-packages (from seaborn) (1.7.1)\n",
      "Requirement already satisfied: kiwisolver>=1.0.1 in c:\\users\\carlota\\anaconda3\\envs\\progra\\lib\\site-packages (from matplotlib>=2.2->seaborn) (1.3.1)\n",
      "Requirement already satisfied: cycler>=0.10 in c:\\users\\carlota\\anaconda3\\envs\\progra\\lib\\site-packages (from matplotlib>=2.2->seaborn) (0.10.0)\n",
      "Requirement already satisfied: pillow>=6.2.0 in c:\\users\\carlota\\anaconda3\\envs\\progra\\lib\\site-packages (from matplotlib>=2.2->seaborn) (8.3.1)\n",
      "Requirement already satisfied: python-dateutil>=2.7 in c:\\users\\carlota\\anaconda3\\envs\\progra\\lib\\site-packages (from matplotlib>=2.2->seaborn) (2.8.2)\n",
      "Requirement already satisfied: pyparsing>=2.2.1 in c:\\users\\carlota\\anaconda3\\envs\\progra\\lib\\site-packages (from matplotlib>=2.2->seaborn) (2.4.7)\n",
      "Requirement already satisfied: six in c:\\users\\carlota\\anaconda3\\envs\\progra\\lib\\site-packages (from cycler>=0.10->matplotlib>=2.2->seaborn) (1.15.0)\n",
      "Requirement already satisfied: pytz>=2017.3 in c:\\users\\carlota\\anaconda3\\envs\\progra\\lib\\site-packages (from pandas>=0.23->seaborn) (2021.1)\n"
     ]
    }
   ],
   "source": [
    "!pip install seaborn"
   ]
  },
  {
   "cell_type": "code",
   "execution_count": 49,
   "metadata": {},
   "outputs": [
    {
     "data": {
      "text/html": [
       "<style>.container { width:100% !important; }</style>"
      ],
      "text/plain": [
       "<IPython.core.display.HTML object>"
      ]
     },
     "metadata": {},
     "output_type": "display_data"
    }
   ],
   "source": [
    "import numpy as np\n",
    "import matplotlib.pyplot as plt\n",
    "import pandas as pd\n",
    "import seaborn as sns\n",
    "import warnings\n",
    "warnings.filterwarnings('ignore')\n",
    "from sklearn.model_selection import train_test_split, cross_val_score\n",
    "from sklearn.preprocessing import StandardScaler\n",
    "from sklearn.linear_model import LinearRegression\n",
    "from sklearn.metrics import mean_squared_error\n",
    "from IPython.core.display import display, HTML\n",
    "display(HTML(\"<style>.container { width:100% !important; }</style>\"))"
   ]
  },
  {
   "cell_type": "code",
   "execution_count": 50,
   "metadata": {},
   "outputs": [],
   "source": [
    "data = df_co2_emissions.drop([\"iso_code\", \"country\"], axis = 1)\n",
    "data = data.fillna(0)"
   ]
  },
  {
   "cell_type": "code",
   "execution_count": 51,
   "metadata": {},
   "outputs": [
    {
     "data": {
      "text/plain": [
       "<seaborn.axisgrid.PairGrid at 0x20476ed0348>"
      ]
     },
     "execution_count": 51,
     "metadata": {},
     "output_type": "execute_result"
    },
    {
     "data": {
      "image/png": "[encoded data removed]",
      "text/plain": [
       "<Figure size 540x180 with 4 Axes>"
      ]
     },
     "metadata": {
      "needs_background": "light"
     },
     "output_type": "display_data"
    }
   ],
   "source": [
    "sns.pairplot(data, y_vars=\"co2\")"
   ]
  },
  {
   "cell_type": "code",
   "execution_count": 52,
   "metadata": {},
   "outputs": [],
   "source": [
    "y = data['co2']\n",
    "X = data.drop('co2',axis = 1)"
   ]
  },
  {
   "cell_type": "code",
   "execution_count": 53,
   "metadata": {},
   "outputs": [],
   "source": [
    "X_train,X_test,y_train,y_test = train_test_split(X,y,test_size = 0.25,random_state = 100)"
   ]
  },
  {
   "cell_type": "code",
   "execution_count": 54,
   "metadata": {},
   "outputs": [],
   "source": [
    "scaler = StandardScaler()\n",
    "X_train = scaler.fit_transform(X_train)\n",
    "X_test = scaler.fit_transform(X_test)"
   ]
  },
  {
   "cell_type": "code",
   "execution_count": 55,
   "metadata": {},
   "outputs": [],
   "source": [
    "lin_reg=LinearRegression()\n",
    "lin_reg.fit(X_train, y_train)\n",
    "\n",
    "y_predict_train=lin_reg.predict(X_train)\n",
    "mse_train=mean_squared_error(y_train, y_predict_train)\n",
    "r2_train=lin_reg.score(X_train, y_train)\n",
    "\n",
    "y_predict_test=lin_reg.predict(X_test)\n",
    "mse_test=mean_squared_error(y_test, y_predict_test)\n",
    "r2_test=lin_reg.score(X_test, y_test)"
   ]
  },
  {
   "cell_type": "code",
   "execution_count": 56,
   "metadata": {},
   "outputs": [
    {
     "name": "stdout",
     "output_type": "stream",
     "text": [
      "R2 train:0.3665105662646706\n",
      "R2 test: 0.3235104461914652\n",
      "Error cuadratico medio: 0.3063016268072595\n"
     ]
    }
   ],
   "source": [
    "print(f\"R2 train:{r2_train}\")\n",
    "print(f\"R2 test: {r2_test}\")\n",
    "\n",
    "mse=cross_val_score(lin_reg, X_test, y_test, cv=5)\n",
    "mean_mse=np.mean(mse)\n",
    "\n",
    "print(f\"Error cuadratico medio: {mean_mse}\")"
   ]
  },
  {
   "cell_type": "code",
   "execution_count": 57,
   "metadata": {},
   "outputs": [
    {
     "name": "stdout",
     "output_type": "stream",
     "text": [
      "Coeficientes: [ 25.69575522 246.82558252]\n"
     ]
    },
    {
     "data": {
      "image/png": "[encoded data removed]",
      "text/plain": [
       "<Figure size 576x360 with 1 Axes>"
      ]
     },
     "metadata": {
      "needs_background": "light"
     },
     "output_type": "display_data"
    }
   ],
   "source": [
    "fig=plt.figure(figsize=(8,5))\n",
    "ax=fig.add_subplot(111)\n",
    "ax.plot(lin_reg.coef_,alpha=0.4,linestyle='none',marker='o',markersize=7,color='green',label='Linear Regression')\n",
    "ax.set_xticks(np.arange(len(X.columns)));\n",
    "ax.set_xticklabels(X.columns, rotation = 45);\n",
    "\n",
    "\n",
    "print('Coeficientes:',lin_reg.coef_)"
   ]
  },
  {
   "cell_type": "code",
   "execution_count": 58,
   "metadata": {},
   "outputs": [],
   "source": [
    "# Se produce overfitting debido a que la cantidad de datos es muy baja, es decir, si quisieramos\n",
    "# predecir de una mejor manera, deberiamos tener mas datos relacionados al co2"
   ]
  },
  {
   "cell_type": "markdown",
   "metadata": {},
   "source": [
    "# Ridge"
   ]
  },
  {
   "cell_type": "code",
   "execution_count": 59,
   "metadata": {},
   "outputs": [
    {
     "name": "stdout",
     "output_type": "stream",
     "text": [
      "R2 train: 0.3665105662645136\n",
      "R2 test: 0.32351044979115307\n"
     ]
    }
   ],
   "source": [
    "from sklearn.linear_model import Ridge\n",
    "\n",
    "rr = Ridge(alpha=0.01) \n",
    "rr.fit(X_train, y_train)\n",
    "\n",
    "Ridge_train_score = rr.score(X_train,y_train)\n",
    "Ridge_test_score = rr.score(X_test, y_test)\n",
    "\n",
    "print(f\"R2 train: {Ridge_train_score}\")\n",
    "print(f\"R2 test: {Ridge_test_score}\")"
   ]
  },
  {
   "cell_type": "code",
   "execution_count": 60,
   "metadata": {},
   "outputs": [
    {
     "name": "stdout",
     "output_type": "stream",
     "text": [
      "Alpha: 0.01\n",
      "R2 train: 0.3665105662645136\n",
      "R2 test: 0.32351044979115307\n",
      "Error cuadratico medio: 0.3063017507670892\n",
      "Alpha: 0.1\n",
      "R2 train: 0.3665105662489677\n",
      "R2 test: 0.32351048217543765\n",
      "Error cuadratico medio: 0.30630286617704894\n",
      "Alpha: 1\n",
      "R2 train: 0.3665105646945739\n",
      "R2 test: 0.3235108047408416\n",
      "Error cuadratico medio: 0.30631399766495626\n",
      "Alpha: 10\n",
      "R2 train: 0.36651040944064295\n",
      "R2 test: 0.32351390281691284\n",
      "Error cuadratico medio: 0.3064230620438786\n",
      "Alpha: 100\n",
      "R2 train: 0.3664950677057006\n",
      "R2 test: 0.32353229045567056\n",
      "Error cuadratico medio: 0.30729893969914823\n"
     ]
    },
    {
     "data": {
      "image/png": "[encoded data removed]",
      "text/plain": [
       "<Figure size 576x360 with 1 Axes>"
      ]
     },
     "metadata": {
      "needs_background": "light"
     },
     "output_type": "display_data"
    }
   ],
   "source": [
    "fig=plt.figure(figsize=(8,5))\n",
    "ax=fig.add_subplot(111)\n",
    "ax.plot(lin_reg.coef_,linestyle='none',marker='o',markersize=10,color='r',lw=4,mfc='None')\n",
    "\n",
    "mk=['x','s','d','*','^']\n",
    "\n",
    "for na,al in enumerate([0.01,0.1,1,10,100]): \n",
    "    print('Alpha:',al)\n",
    "    rr = Ridge(alpha=al) \n",
    "    rr.fit(X_train, y_train)\n",
    "    \n",
    "    Ridge_train_score = rr.score(X_train,y_train)\n",
    "    Ridge_test_score = rr.score(X_test, y_test)\n",
    "    mse=cross_val_score(rr, X_test, y_test, cv=5)\n",
    "    mean_mse=np.mean(mse)\n",
    "\n",
    "    print(f\"R2 train: {Ridge_train_score}\")\n",
    "    print(f\"R2 test: {Ridge_test_score}\")\n",
    "    print(f\"Error cuadratico medio: {mean_mse}\")\n",
    "\n",
    "    ax.plot(rr.coef_,alpha=0.4,linestyle='none',marker=mk[na],markersize=7,label='Ridge, alpha=%.2f'%al)\n",
    "\n",
    "ax.set_xticks(np.arange(len(X.columns)));\n",
    "ax.set_xticklabels(X.columns);\n",
    "ax.legend();"
   ]
  },
  {
   "cell_type": "markdown",
   "metadata": {},
   "source": [
    "# Lasso"
   ]
  },
  {
   "cell_type": "code",
   "execution_count": 61,
   "metadata": {},
   "outputs": [
    {
     "name": "stdout",
     "output_type": "stream",
     "text": [
      "R2 train (Lasso): 0.36651056514982516\n",
      "R2 test (Lasso): 0.3235103421855877\n"
     ]
    }
   ],
   "source": [
    "from sklearn.linear_model import Lasso\n",
    "\n",
    "ll = Lasso(alpha=0.01) \n",
    "ll.fit(X_train, y_train)\n",
    "\n",
    "Lasso_train_score = ll.score(X_train,y_train)\n",
    "Lasso_test_score = ll.score(X_test, y_test)\n",
    "\n",
    "print(f\"R2 train (Lasso): {Lasso_train_score}\")\n",
    "print(f\"R2 test (Lasso): {Lasso_test_score}\")"
   ]
  },
  {
   "cell_type": "code",
   "execution_count": 62,
   "metadata": {},
   "outputs": [
    {
     "name": "stdout",
     "output_type": "stream",
     "text": [
      "Alpha: 0.01\n",
      "R2 train (Lasso): 0.36651056514982516\n",
      "R2 test (Lasso): 0.3235103421855877\n",
      "Error cuadratico medio: 0.3063032908798\n",
      "Alpha: 0.1\n",
      "R2 train (Lasso): 0.3665104547760929\n",
      "R2 test (Lasso): 0.3235093161975311\n",
      "Error cuadratico medio: 0.30631817040591536\n",
      "Alpha: 1\n",
      "R2 train (Lasso): 0.3664994173665682\n",
      "R2 test (Lasso): 0.3234901656728867\n",
      "Error cuadratico medio: 0.30645734721925477\n",
      "Alpha: 10\n",
      "R2 train (Lasso): 0.3653956760511493\n",
      "R2 test (Lasso): 0.32240959601851393\n",
      "Error cuadratico medio: 0.30688727057133464\n",
      "Alpha: 100\n",
      "R2 train (Lasso): 0.30379599867613427\n",
      "R2 test (Lasso): 0.2687789237148347\n",
      "Error cuadratico medio: 0.2597929204137742\n"
     ]
    },
    {
     "data": {
      "image/png": "[encoded data removed]",
      "text/plain": [
       "<Figure size 576x360 with 1 Axes>"
      ]
     },
     "metadata": {
      "needs_background": "light"
     },
     "output_type": "display_data"
    }
   ],
   "source": [
    "fig=plt.figure(figsize=(8,5))\n",
    "ax=fig.add_subplot(111)\n",
    "ax.plot(lin_reg.coef_,linestyle='none',marker='o',markersize=10,color='r',lw=4,mfc='None')\n",
    "\n",
    "mk=['x','s','d','*','^']\n",
    "\n",
    "for na,al in enumerate([0.01,0.1,1,10,100]): \n",
    "    print('Alpha:',al)\n",
    "    ll = Lasso(alpha=al) \n",
    "    ll.fit(X_train, y_train)\n",
    "\n",
    "    Lasso_train_score = ll.score(X_train,y_train)\n",
    "    Lasso_test_score = ll.score(X_test, y_test)\n",
    "    mse=cross_val_score(ll, X_test, y_test, cv=5)\n",
    "    mean_mse=np.mean(mse)\n",
    "\n",
    "\n",
    "    print(f\"R2 train (Lasso): {Lasso_train_score}\")\n",
    "    print(f\"R2 test (Lasso): {Lasso_test_score}\")\n",
    "    print(f\"Error cuadratico medio: {mean_mse}\")\n",
    "    ax.plot(ll.coef_,alpha=0.4,linestyle='none',marker=mk[na],markersize=7,label='Lasso, alpha=%.2f'%al)\n",
    "\n",
    "ax.set_xticks(np.arange(len(X.columns)));\n",
    "ax.set_xticklabels(X.columns);\n",
    "ax.legend();"
   ]
  },
  {
   "cell_type": "markdown",
   "metadata": {},
   "source": [
    "# Metano"
   ]
  },
  {
   "cell_type": "code",
   "execution_count": 63,
   "metadata": {},
   "outputs": [],
   "source": [
    "df_metano = pd.read_csv('Data_limpio_emisiones_de_metano.csv')\n",
    "df_metano = df_metano.drop(\"Unnamed: 0\", axis = 1)"
   ]
  },
  {
   "cell_type": "markdown",
   "metadata": {},
   "source": [
    "# Regresion (Metano)"
   ]
  },
  {
   "cell_type": "code",
   "execution_count": 64,
   "metadata": {},
   "outputs": [],
   "source": [
    "data = df_metano.drop([\"Country Code\" , \"Country Name\"], axis = 1)"
   ]
  },
  {
   "cell_type": "code",
   "execution_count": 65,
   "metadata": {},
   "outputs": [
    {
     "data": {
      "text/html": [
       "<div>\n",
       "<style scoped>\n",
       "    .dataframe tbody tr th:only-of-type {\n",
       "        vertical-align: middle;\n",
       "    }\n",
       "\n",
       "    .dataframe tbody tr th {\n",
       "        vertical-align: top;\n",
       "    }\n",
       "\n",
       "    .dataframe thead th {\n",
       "        text-align: right;\n",
       "    }\n",
       "</style>\n",
       "<table border=\"1\" class=\"dataframe\">\n",
       "  <thead>\n",
       "    <tr style=\"text-align: right;\">\n",
       "      <th></th>\n",
       "      <th>1970.0</th>\n",
       "      <th>1971.0</th>\n",
       "      <th>1972.0</th>\n",
       "      <th>1973.0</th>\n",
       "      <th>1974.0</th>\n",
       "      <th>1975.0</th>\n",
       "      <th>1976.0</th>\n",
       "      <th>1977.0</th>\n",
       "      <th>1978.0</th>\n",
       "      <th>1979.0</th>\n",
       "      <th>...</th>\n",
       "      <th>2009.0</th>\n",
       "      <th>2010.0</th>\n",
       "      <th>2011.0</th>\n",
       "      <th>2012.0</th>\n",
       "      <th>2013.0</th>\n",
       "      <th>2014.0</th>\n",
       "      <th>2015.0</th>\n",
       "      <th>2016.0</th>\n",
       "      <th>2017.0</th>\n",
       "      <th>2018.0</th>\n",
       "    </tr>\n",
       "  </thead>\n",
       "  <tbody>\n",
       "    <tr>\n",
       "      <th>0</th>\n",
       "      <td>10.2469</td>\n",
       "      <td>10.4531</td>\n",
       "      <td>10.6570</td>\n",
       "      <td>10.8551</td>\n",
       "      <td>11.0415</td>\n",
       "      <td>11.2194</td>\n",
       "      <td>11.5069</td>\n",
       "      <td>11.6718</td>\n",
       "      <td>12.2338</td>\n",
       "      <td>12.4857</td>\n",
       "      <td>...</td>\n",
       "      <td>0.0</td>\n",
       "      <td>0.0</td>\n",
       "      <td>0.0</td>\n",
       "      <td>0.0</td>\n",
       "      <td>0.0</td>\n",
       "      <td>0.0</td>\n",
       "      <td>0.0</td>\n",
       "      <td>0.0</td>\n",
       "      <td>0.0</td>\n",
       "      <td>0.0</td>\n",
       "    </tr>\n",
       "    <tr>\n",
       "      <th>1</th>\n",
       "      <td>384746.7182</td>\n",
       "      <td>265076.7091</td>\n",
       "      <td>278192.0872</td>\n",
       "      <td>296153.8053</td>\n",
       "      <td>269903.4576</td>\n",
       "      <td>303388.4675</td>\n",
       "      <td>286699.8136</td>\n",
       "      <td>319345.1963</td>\n",
       "      <td>327883.6744</td>\n",
       "      <td>396278.3059</td>\n",
       "      <td>...</td>\n",
       "      <td>496350.0</td>\n",
       "      <td>515480.0</td>\n",
       "      <td>523850.0</td>\n",
       "      <td>534240.0</td>\n",
       "      <td>538060.0</td>\n",
       "      <td>543720.0</td>\n",
       "      <td>554570.0</td>\n",
       "      <td>563050.0</td>\n",
       "      <td>564380.0</td>\n",
       "      <td>570040.0</td>\n",
       "    </tr>\n",
       "    <tr>\n",
       "      <th>2</th>\n",
       "      <td>10202.0000</td>\n",
       "      <td>10201.5000</td>\n",
       "      <td>9170.5900</td>\n",
       "      <td>9403.5400</td>\n",
       "      <td>9987.9300</td>\n",
       "      <td>10476.6000</td>\n",
       "      <td>10535.6000</td>\n",
       "      <td>10455.9000</td>\n",
       "      <td>10380.1000</td>\n",
       "      <td>10176.2000</td>\n",
       "      <td>...</td>\n",
       "      <td>25430.0</td>\n",
       "      <td>30010.0</td>\n",
       "      <td>39480.0</td>\n",
       "      <td>48780.0</td>\n",
       "      <td>58130.0</td>\n",
       "      <td>67770.0</td>\n",
       "      <td>76590.0</td>\n",
       "      <td>78150.0</td>\n",
       "      <td>79610.0</td>\n",
       "      <td>81510.0</td>\n",
       "    </tr>\n",
       "    <tr>\n",
       "      <th>3</th>\n",
       "      <td>143714.5355</td>\n",
       "      <td>145309.3393</td>\n",
       "      <td>149181.1477</td>\n",
       "      <td>161770.8276</td>\n",
       "      <td>146860.2617</td>\n",
       "      <td>145799.6598</td>\n",
       "      <td>154139.5180</td>\n",
       "      <td>166472.3378</td>\n",
       "      <td>152491.7936</td>\n",
       "      <td>176884.3183</td>\n",
       "      <td>...</td>\n",
       "      <td>305760.0</td>\n",
       "      <td>315610.0</td>\n",
       "      <td>327790.0</td>\n",
       "      <td>336470.0</td>\n",
       "      <td>348150.0</td>\n",
       "      <td>356630.0</td>\n",
       "      <td>368640.0</td>\n",
       "      <td>383250.0</td>\n",
       "      <td>386400.0</td>\n",
       "      <td>392130.0</td>\n",
       "    </tr>\n",
       "    <tr>\n",
       "      <th>4</th>\n",
       "      <td>23376.6000</td>\n",
       "      <td>14500.0000</td>\n",
       "      <td>15590.0000</td>\n",
       "      <td>16651.7000</td>\n",
       "      <td>15008.3000</td>\n",
       "      <td>17061.4000</td>\n",
       "      <td>15036.7000</td>\n",
       "      <td>17437.0000</td>\n",
       "      <td>18279.2000</td>\n",
       "      <td>22903.7000</td>\n",
       "      <td>...</td>\n",
       "      <td>35590.0</td>\n",
       "      <td>37730.0</td>\n",
       "      <td>38100.0</td>\n",
       "      <td>37110.0</td>\n",
       "      <td>37420.0</td>\n",
       "      <td>36700.0</td>\n",
       "      <td>37180.0</td>\n",
       "      <td>37400.0</td>\n",
       "      <td>37450.0</td>\n",
       "      <td>35520.0</td>\n",
       "    </tr>\n",
       "    <tr>\n",
       "      <th>...</th>\n",
       "      <td>...</td>\n",
       "      <td>...</td>\n",
       "      <td>...</td>\n",
       "      <td>...</td>\n",
       "      <td>...</td>\n",
       "      <td>...</td>\n",
       "      <td>...</td>\n",
       "      <td>...</td>\n",
       "      <td>...</td>\n",
       "      <td>...</td>\n",
       "      <td>...</td>\n",
       "      <td>...</td>\n",
       "      <td>...</td>\n",
       "      <td>...</td>\n",
       "      <td>...</td>\n",
       "      <td>...</td>\n",
       "      <td>...</td>\n",
       "      <td>...</td>\n",
       "      <td>...</td>\n",
       "      <td>...</td>\n",
       "      <td>...</td>\n",
       "    </tr>\n",
       "    <tr>\n",
       "      <th>261</th>\n",
       "      <td>0.0000</td>\n",
       "      <td>0.0000</td>\n",
       "      <td>0.0000</td>\n",
       "      <td>0.0000</td>\n",
       "      <td>0.0000</td>\n",
       "      <td>0.0000</td>\n",
       "      <td>0.0000</td>\n",
       "      <td>0.0000</td>\n",
       "      <td>0.0000</td>\n",
       "      <td>0.0000</td>\n",
       "      <td>...</td>\n",
       "      <td>0.0</td>\n",
       "      <td>0.0</td>\n",
       "      <td>0.0</td>\n",
       "      <td>0.0</td>\n",
       "      <td>0.0</td>\n",
       "      <td>0.0</td>\n",
       "      <td>0.0</td>\n",
       "      <td>0.0</td>\n",
       "      <td>0.0</td>\n",
       "      <td>0.0</td>\n",
       "    </tr>\n",
       "    <tr>\n",
       "      <th>262</th>\n",
       "      <td>2204.6700</td>\n",
       "      <td>2350.9700</td>\n",
       "      <td>2338.2200</td>\n",
       "      <td>2275.6300</td>\n",
       "      <td>2397.2700</td>\n",
       "      <td>2456.2800</td>\n",
       "      <td>2353.0100</td>\n",
       "      <td>2379.9500</td>\n",
       "      <td>2404.6000</td>\n",
       "      <td>2427.4400</td>\n",
       "      <td>...</td>\n",
       "      <td>7870.0</td>\n",
       "      <td>8020.0</td>\n",
       "      <td>8120.0</td>\n",
       "      <td>8150.0</td>\n",
       "      <td>8210.0</td>\n",
       "      <td>8270.0</td>\n",
       "      <td>8200.0</td>\n",
       "      <td>8150.0</td>\n",
       "      <td>8210.0</td>\n",
       "      <td>8590.0</td>\n",
       "    </tr>\n",
       "    <tr>\n",
       "      <th>263</th>\n",
       "      <td>32269.9000</td>\n",
       "      <td>31853.4000</td>\n",
       "      <td>32150.2000</td>\n",
       "      <td>33393.0000</td>\n",
       "      <td>34374.5000</td>\n",
       "      <td>35700.4000</td>\n",
       "      <td>36502.3000</td>\n",
       "      <td>37856.4000</td>\n",
       "      <td>38728.0000</td>\n",
       "      <td>41239.3000</td>\n",
       "      <td>...</td>\n",
       "      <td>42490.0</td>\n",
       "      <td>43360.0</td>\n",
       "      <td>43580.0</td>\n",
       "      <td>44220.0</td>\n",
       "      <td>44260.0</td>\n",
       "      <td>44600.0</td>\n",
       "      <td>44560.0</td>\n",
       "      <td>44460.0</td>\n",
       "      <td>44990.0</td>\n",
       "      <td>45140.0</td>\n",
       "    </tr>\n",
       "    <tr>\n",
       "      <th>264</th>\n",
       "      <td>33880.5000</td>\n",
       "      <td>14742.8000</td>\n",
       "      <td>16642.0000</td>\n",
       "      <td>18544.1000</td>\n",
       "      <td>14937.9000</td>\n",
       "      <td>19599.6000</td>\n",
       "      <td>16628.4000</td>\n",
       "      <td>20391.4000</td>\n",
       "      <td>21838.0000</td>\n",
       "      <td>31530.3000</td>\n",
       "      <td>...</td>\n",
       "      <td>14290.0</td>\n",
       "      <td>15340.0</td>\n",
       "      <td>15050.0</td>\n",
       "      <td>16900.0</td>\n",
       "      <td>17420.0</td>\n",
       "      <td>17530.0</td>\n",
       "      <td>18010.0</td>\n",
       "      <td>17850.0</td>\n",
       "      <td>17450.0</td>\n",
       "      <td>17870.0</td>\n",
       "    </tr>\n",
       "    <tr>\n",
       "      <th>265</th>\n",
       "      <td>8496.7100</td>\n",
       "      <td>7493.8000</td>\n",
       "      <td>7472.2800</td>\n",
       "      <td>7730.5800</td>\n",
       "      <td>7572.6000</td>\n",
       "      <td>8194.1400</td>\n",
       "      <td>8152.8300</td>\n",
       "      <td>8572.1300</td>\n",
       "      <td>8133.5600</td>\n",
       "      <td>8330.4900</td>\n",
       "      <td>...</td>\n",
       "      <td>10840.0</td>\n",
       "      <td>11310.0</td>\n",
       "      <td>11820.0</td>\n",
       "      <td>11730.0</td>\n",
       "      <td>11700.0</td>\n",
       "      <td>10820.0</td>\n",
       "      <td>11790.0</td>\n",
       "      <td>11380.0</td>\n",
       "      <td>11560.0</td>\n",
       "      <td>11850.0</td>\n",
       "    </tr>\n",
       "  </tbody>\n",
       "</table>\n",
       "<p>266 rows × 49 columns</p>\n",
       "</div>"
      ],
      "text/plain": [
       "          1970.0       1971.0       1972.0       1973.0       1974.0  \\\n",
       "0        10.2469      10.4531      10.6570      10.8551      11.0415   \n",
       "1    384746.7182  265076.7091  278192.0872  296153.8053  269903.4576   \n",
       "2     10202.0000   10201.5000    9170.5900    9403.5400    9987.9300   \n",
       "3    143714.5355  145309.3393  149181.1477  161770.8276  146860.2617   \n",
       "4     23376.6000   14500.0000   15590.0000   16651.7000   15008.3000   \n",
       "..           ...          ...          ...          ...          ...   \n",
       "261       0.0000       0.0000       0.0000       0.0000       0.0000   \n",
       "262    2204.6700    2350.9700    2338.2200    2275.6300    2397.2700   \n",
       "263   32269.9000   31853.4000   32150.2000   33393.0000   34374.5000   \n",
       "264   33880.5000   14742.8000   16642.0000   18544.1000   14937.9000   \n",
       "265    8496.7100    7493.8000    7472.2800    7730.5800    7572.6000   \n",
       "\n",
       "          1975.0       1976.0       1977.0       1978.0       1979.0  ...  \\\n",
       "0        11.2194      11.5069      11.6718      12.2338      12.4857  ...   \n",
       "1    303388.4675  286699.8136  319345.1963  327883.6744  396278.3059  ...   \n",
       "2     10476.6000   10535.6000   10455.9000   10380.1000   10176.2000  ...   \n",
       "3    145799.6598  154139.5180  166472.3378  152491.7936  176884.3183  ...   \n",
       "4     17061.4000   15036.7000   17437.0000   18279.2000   22903.7000  ...   \n",
       "..           ...          ...          ...          ...          ...  ...   \n",
       "261       0.0000       0.0000       0.0000       0.0000       0.0000  ...   \n",
       "262    2456.2800    2353.0100    2379.9500    2404.6000    2427.4400  ...   \n",
       "263   35700.4000   36502.3000   37856.4000   38728.0000   41239.3000  ...   \n",
       "264   19599.6000   16628.4000   20391.4000   21838.0000   31530.3000  ...   \n",
       "265    8194.1400    8152.8300    8572.1300    8133.5600    8330.4900  ...   \n",
       "\n",
       "       2009.0    2010.0    2011.0    2012.0    2013.0    2014.0    2015.0  \\\n",
       "0         0.0       0.0       0.0       0.0       0.0       0.0       0.0   \n",
       "1    496350.0  515480.0  523850.0  534240.0  538060.0  543720.0  554570.0   \n",
       "2     25430.0   30010.0   39480.0   48780.0   58130.0   67770.0   76590.0   \n",
       "3    305760.0  315610.0  327790.0  336470.0  348150.0  356630.0  368640.0   \n",
       "4     35590.0   37730.0   38100.0   37110.0   37420.0   36700.0   37180.0   \n",
       "..        ...       ...       ...       ...       ...       ...       ...   \n",
       "261       0.0       0.0       0.0       0.0       0.0       0.0       0.0   \n",
       "262    7870.0    8020.0    8120.0    8150.0    8210.0    8270.0    8200.0   \n",
       "263   42490.0   43360.0   43580.0   44220.0   44260.0   44600.0   44560.0   \n",
       "264   14290.0   15340.0   15050.0   16900.0   17420.0   17530.0   18010.0   \n",
       "265   10840.0   11310.0   11820.0   11730.0   11700.0   10820.0   11790.0   \n",
       "\n",
       "       2016.0    2017.0    2018.0  \n",
       "0         0.0       0.0       0.0  \n",
       "1    563050.0  564380.0  570040.0  \n",
       "2     78150.0   79610.0   81510.0  \n",
       "3    383250.0  386400.0  392130.0  \n",
       "4     37400.0   37450.0   35520.0  \n",
       "..        ...       ...       ...  \n",
       "261       0.0       0.0       0.0  \n",
       "262    8150.0    8210.0    8590.0  \n",
       "263   44460.0   44990.0   45140.0  \n",
       "264   17850.0   17450.0   17870.0  \n",
       "265   11380.0   11560.0   11850.0  \n",
       "\n",
       "[266 rows x 49 columns]"
      ]
     },
     "execution_count": 65,
     "metadata": {},
     "output_type": "execute_result"
    }
   ],
   "source": [
    "data"
   ]
  },
  {
   "cell_type": "code",
   "execution_count": 66,
   "metadata": {
    "scrolled": true
   },
   "outputs": [
    {
     "data": {
      "text/plain": [
       "<seaborn.axisgrid.PairGrid at 0x2047563bbc8>"
      ]
     },
     "execution_count": 66,
     "metadata": {},
     "output_type": "execute_result"
    },
    {
     "data": {
      "image/png": "[encoded data removed]",
      "text/plain": [
       "<Figure size 8820x180 with 50 Axes>"
      ]
     },
     "metadata": {
      "needs_background": "light"
     },
     "output_type": "display_data"
    }
   ],
   "source": [
    "sns.pairplot(data, y_vars=\"2018.0\")"
   ]
  },
  {
   "cell_type": "code",
   "execution_count": 67,
   "metadata": {},
   "outputs": [],
   "source": [
    "y = data['2018.0']\n",
    "X = data.drop('2018.0',axis = 1)"
   ]
  },
  {
   "cell_type": "code",
   "execution_count": 68,
   "metadata": {},
   "outputs": [],
   "source": [
    "X_train,X_test,y_train,y_test = train_test_split(X,y,test_size = 0.25,random_state = 100)"
   ]
  },
  {
   "cell_type": "code",
   "execution_count": 69,
   "metadata": {},
   "outputs": [],
   "source": [
    "scaler = StandardScaler()\n",
    "X_train = scaler.fit_transform(X_train)\n",
    "X_test = scaler.fit_transform(X_test)"
   ]
  },
  {
   "cell_type": "code",
   "execution_count": 70,
   "metadata": {},
   "outputs": [],
   "source": [
    "lin_reg=LinearRegression()\n",
    "lin_reg.fit(X_train, y_train)\n",
    "\n",
    "y_predict_train=lin_reg.predict(X_train)\n",
    "mse_train=mean_squared_error(y_train, y_predict_train)\n",
    "r2_train=lin_reg.score(X_train, y_train)\n",
    "\n",
    "y_predict_test=lin_reg.predict(X_test)\n",
    "mse_test=mean_squared_error(y_test, y_predict_test)\n",
    "r2_test=lin_reg.score(X_test, y_test)"
   ]
  },
  {
   "cell_type": "code",
   "execution_count": 71,
   "metadata": {},
   "outputs": [
    {
     "name": "stdout",
     "output_type": "stream",
     "text": [
      "R2 train:0.9999998149284561\n",
      "R2 test: 0.950587914663102\n",
      "Error cuadratico medio: 0.9991765863050455\n"
     ]
    }
   ],
   "source": [
    "print(f\"R2 train:{r2_train}\")\n",
    "print(f\"R2 test: {r2_test}\")\n",
    "\n",
    "mse=cross_val_score(lin_reg, X_test, y_test, cv=5)\n",
    "mean_mse=np.mean(mse)\n",
    "\n",
    "print(f\"Error cuadratico medio: {mean_mse}\")"
   ]
  },
  {
   "cell_type": "code",
   "execution_count": 72,
   "metadata": {},
   "outputs": [
    {
     "name": "stdout",
     "output_type": "stream",
     "text": [
      "Coeficientes: [ 9.35271732e+04 -1.22103960e+05 -3.67979701e+04  9.17815156e+04\n",
      " -5.79900464e+02 -1.31832329e+04  1.18638806e+05 -1.42774576e+05\n",
      "  3.06731662e+03  1.35623790e+04  1.57254821e+04 -1.05052181e+05\n",
      "  9.12044524e+04 -4.72812916e+04  9.30141431e+04 -2.09230586e+04\n",
      "  2.36347032e+04 -1.58195758e+05  1.42439326e+05 -6.16785241e+04\n",
      "  2.72802884e+05 -5.35039377e+05  2.90901961e+05  5.68785599e+04\n",
      " -2.10449325e+05  2.88427328e+04  2.06500201e+05 -6.08955663e+04\n",
      "  4.68696662e+04 -1.53677168e+05  1.69383647e+05 -9.59608972e+03\n",
      " -7.84619934e+04  9.51840002e+04 -1.30797930e+05  7.77391648e+04\n",
      " -1.12121591e+05  1.66004266e+05 -1.81152512e+05  7.14784560e+04\n",
      " -5.60862210e+04  1.36259346e+05 -2.33825273e+05 -1.28968516e+05\n",
      "  6.24138283e+05 -7.96396448e+05  1.18234437e+05  1.29032034e+06]\n"
     ]
    },
    {
     "data": {
      "image/png": "[encoded data removed]",
      "text/plain": [
       "<Figure size 1080x360 with 1 Axes>"
      ]
     },
     "metadata": {
      "needs_background": "light"
     },
     "output_type": "display_data"
    }
   ],
   "source": [
    "fig=plt.figure(figsize=(15,5))\n",
    "ax=fig.add_subplot(111)\n",
    "ax.plot(lin_reg.coef_,alpha=0.4,linestyle='none',marker='o',markersize=7,color='green',label='Linear Regression')\n",
    "ax.set_xticks(np.arange(len(X.columns)));\n",
    "ax.set_xticklabels(X.columns, rotation = 90);\n",
    "\n",
    "\n",
    "print('Coeficientes:',lin_reg.coef_)"
   ]
  },
  {
   "cell_type": "code",
   "execution_count": 73,
   "metadata": {},
   "outputs": [],
   "source": [
    "# Se produce overfitting por la cantidad de datos, hay que eliminar algunos, es decir\n",
    "# hacer un dataframe mas basico"
   ]
  },
  {
   "cell_type": "markdown",
   "metadata": {},
   "source": [
    "# Ridge (Metano)"
   ]
  },
  {
   "cell_type": "code",
   "execution_count": 74,
   "metadata": {},
   "outputs": [
    {
     "name": "stdout",
     "output_type": "stream",
     "text": [
      "R2 train: 0.9999948157499248\n",
      "R2 test: 0.9505196615230013\n"
     ]
    }
   ],
   "source": [
    "from sklearn.linear_model import Ridge\n",
    "\n",
    "rr = Ridge(alpha=0.01) \n",
    "rr.fit(X_train, y_train)\n",
    "\n",
    "Ridge_train_score = rr.score(X_train,y_train)\n",
    "Ridge_test_score = rr.score(X_test, y_test)\n",
    "\n",
    "print(f\"R2 train: {Ridge_train_score}\")\n",
    "print(f\"R2 test: {Ridge_test_score}\")"
   ]
  },
  {
   "cell_type": "code",
   "execution_count": 75,
   "metadata": {},
   "outputs": [
    {
     "name": "stdout",
     "output_type": "stream",
     "text": [
      "Alpha: 0.01\n",
      "R2 train: 0.9999948157499248\n",
      "R2 test: 0.9505196615230013\n",
      "Error cuadratico medio: 0.999318601663246\n",
      "Alpha: 0.1\n",
      "R2 train: 0.9999823289658452\n",
      "R2 test: 0.9504751115890008\n",
      "Error cuadratico medio: 0.9984378434516146\n",
      "Alpha: 1\n",
      "R2 train: 0.9999047992709325\n",
      "R2 test: 0.9502691573910691\n",
      "Error cuadratico medio: 0.9958178627520777\n",
      "Alpha: 10\n",
      "R2 train: 0.9988793464123578\n",
      "R2 test: 0.9487853461700039\n",
      "Error cuadratico medio: 0.9912894136537524\n",
      "Alpha: 100\n",
      "R2 train: 0.9932488937990342\n",
      "R2 test: 0.941850336197281\n",
      "Error cuadratico medio: 0.9845970502477182\n"
     ]
    },
    {
     "data": {
      "image/png": "[encoded data removed]",
      "text/plain": [
       "<Figure size 1080x360 with 1 Axes>"
      ]
     },
     "metadata": {
      "needs_background": "light"
     },
     "output_type": "display_data"
    }
   ],
   "source": [
    "fig=plt.figure(figsize=(15,5))\n",
    "ax=fig.add_subplot(111)\n",
    "ax.plot(lin_reg.coef_,linestyle='none',marker='o',markersize=10,color='r',lw=4,mfc='None')\n",
    "\n",
    "mk=['x','s','d','*','^']\n",
    "\n",
    "for na,al in enumerate([0.01,0.1,1,10,100]): \n",
    "    print('Alpha:',al)\n",
    "    rr = Ridge(alpha=al) \n",
    "    rr.fit(X_train, y_train)\n",
    "    \n",
    "    Ridge_train_score = rr.score(X_train,y_train)\n",
    "    Ridge_test_score = rr.score(X_test, y_test)\n",
    "    mse=cross_val_score(rr, X_test, y_test, cv=5)\n",
    "    mean_mse=np.mean(mse)\n",
    "\n",
    "    print(f\"R2 train: {Ridge_train_score}\")\n",
    "    print(f\"R2 test: {Ridge_test_score}\")\n",
    "    print(f\"Error cuadratico medio: {mean_mse}\")\n",
    "\n",
    "    ax.plot(rr.coef_,alpha=0.4,linestyle='none',marker=mk[na],markersize=7,label='Ridge, alpha=%.2f'%al)\n",
    "\n",
    "ax.set_xticks(np.arange(len(X.columns)));\n",
    "ax.set_xticklabels(X.columns, rotation = 90);\n",
    "ax.legend();"
   ]
  },
  {
   "cell_type": "code",
   "execution_count": 76,
   "metadata": {},
   "outputs": [],
   "source": [
    "# De los mejores alpha es el 100"
   ]
  },
  {
   "cell_type": "code",
   "execution_count": 77,
   "metadata": {},
   "outputs": [
    {
     "name": "stdout",
     "output_type": "stream",
     "text": [
      "R2 train: 0.9932488937990342\n",
      "R2 test: 0.941850336197281\n",
      "Error cuadratico medio: 0.9845970502477182\n"
     ]
    }
   ],
   "source": [
    "rr = Ridge(alpha=100) \n",
    "rr.fit(X_train, y_train)\n",
    "\n",
    "Ridge_train_score = rr.score(X_train,y_train)\n",
    "Ridge_test_score = rr.score(X_test, y_test)\n",
    "\n",
    "mse=cross_val_score(rr, X_test, y_test, cv=5)\n",
    "mean_mse=np.mean(mse)\n",
    "\n",
    "print(f\"R2 train: {Ridge_train_score}\")\n",
    "print(f\"R2 test: {Ridge_test_score}\")\n",
    "print(f\"Error cuadratico medio: {mean_mse}\")"
   ]
  },
  {
   "cell_type": "code",
   "execution_count": 78,
   "metadata": {},
   "outputs": [
    {
     "name": "stdout",
     "output_type": "stream",
     "text": [
      "Coeficientes: [12765.64404943  9542.77729443 11026.38510338 11430.71927192\n",
      "  9389.90807818 10798.56123142 10837.30942773 13016.23503662\n",
      " 13154.82523134 14212.92911728 13806.96334313 12650.19098818\n",
      " 16520.71914184 16046.63341935 13515.19762748 13109.54388238\n",
      " 14444.00546868 17570.00717304 14766.46777471 15632.20458841\n",
      " 11987.09909122 12661.4000312  13382.52240545 14404.82832993\n",
      " 15144.13858116 15960.10278388 16646.82727431 17031.05202681\n",
      " 18402.78694621 19261.32051562 19845.41569621 20411.28600501\n",
      " 21832.00030328 23483.31721787 24216.82163189 25612.41592756\n",
      " 26180.61728549 27440.77064715 28435.77958631 29377.90569515\n",
      " 30452.26949804 30944.77832238 31842.15830883 33008.5354009\n",
      " 33375.00322789 34045.06111738 34907.14732455 34729.82275872]\n"
     ]
    },
    {
     "data": {
      "image/png": "[encoded data removed]",
      "text/plain": [
       "<Figure size 1080x360 with 1 Axes>"
      ]
     },
     "metadata": {
      "needs_background": "light"
     },
     "output_type": "display_data"
    }
   ],
   "source": [
    "fig=plt.figure(figsize=(15,5))\n",
    "ax=fig.add_subplot(111)\n",
    "ax.plot(rr.coef_,alpha=0.4,linestyle='none',marker='o',markersize=7,color='green')\n",
    "ax.set_xticks(np.arange(len(X.columns)));\n",
    "ax.set_xticklabels(X.columns, rotation = 90);\n",
    "\n",
    "\n",
    "print('Coeficientes:',rr.coef_)"
   ]
  },
  {
   "cell_type": "code",
   "execution_count": 79,
   "metadata": {},
   "outputs": [],
   "source": [
    "# Hay overfitting por la complejidad de los datos"
   ]
  },
  {
   "cell_type": "markdown",
   "metadata": {},
   "source": [
    "# Lasso (Metano)"
   ]
  },
  {
   "cell_type": "code",
   "execution_count": 80,
   "metadata": {},
   "outputs": [
    {
     "name": "stdout",
     "output_type": "stream",
     "text": [
      "R2 train (Lasso): 0.9996737204667451\n",
      "R2 test (Lasso): 0.9501704140504877\n"
     ]
    }
   ],
   "source": [
    "from sklearn.linear_model import Lasso\n",
    "\n",
    "ll = Lasso(alpha=0.01) \n",
    "ll.fit(X_train, y_train)\n",
    "\n",
    "Lasso_train_score = ll.score(X_train,y_train)\n",
    "Lasso_test_score = ll.score(X_test, y_test)\n",
    "\n",
    "print(f\"R2 train (Lasso): {Lasso_train_score}\")\n",
    "print(f\"R2 test (Lasso): {Lasso_test_score}\")"
   ]
  },
  {
   "cell_type": "code",
   "execution_count": 81,
   "metadata": {},
   "outputs": [
    {
     "name": "stdout",
     "output_type": "stream",
     "text": [
      "Alpha: 0.01\n",
      "R2 train (Lasso): 0.9996737204667451\n",
      "R2 test (Lasso): 0.9501704140504877\n",
      "Error cuadratico medio: 0.9851296460579633\n",
      "Alpha: 0.1\n",
      "R2 train (Lasso): 0.9996738542376258\n",
      "R2 test (Lasso): 0.9501706730123622\n",
      "Error cuadratico medio: 0.9851340658713899\n",
      "Alpha: 1\n",
      "R2 train (Lasso): 0.9996751948103852\n",
      "R2 test (Lasso): 0.9501732649972816\n",
      "Error cuadratico medio: 0.9851780748885492\n",
      "Alpha: 10\n",
      "R2 train (Lasso): 0.9996887523396979\n",
      "R2 test (Lasso): 0.9501995437560397\n",
      "Error cuadratico medio: 0.9856122422492206\n",
      "Alpha: 100\n",
      "R2 train (Lasso): 0.9997613584108522\n",
      "R2 test (Lasso): 0.9503099129508834\n",
      "Error cuadratico medio: 0.9889411082941821\n"
     ]
    },
    {
     "data": {
      "image/png": "[encoded data removed]",
      "text/plain": [
       "<Figure size 1080x360 with 1 Axes>"
      ]
     },
     "metadata": {
      "needs_background": "light"
     },
     "output_type": "display_data"
    }
   ],
   "source": [
    "fig=plt.figure(figsize=(15,5))\n",
    "ax=fig.add_subplot(111)\n",
    "ax.plot(lin_reg.coef_,linestyle='none',marker='o',markersize=10,color='r',lw=4,mfc='None')\n",
    "\n",
    "mk=['x','s','d','*','^']\n",
    "\n",
    "for na,al in enumerate([0.01,0.1,1,10,100]): \n",
    "    print('Alpha:',al)\n",
    "    ll = Lasso(alpha=al) \n",
    "    ll.fit(X_train, y_train)\n",
    "\n",
    "    Lasso_train_score = ll.score(X_train,y_train)\n",
    "    Lasso_test_score = ll.score(X_test, y_test)\n",
    "    mse=cross_val_score(ll, X_test, y_test, cv=5)\n",
    "    mean_mse=np.mean(mse)\n",
    "\n",
    "\n",
    "    print(f\"R2 train (Lasso): {Lasso_train_score}\")\n",
    "    print(f\"R2 test (Lasso): {Lasso_test_score}\")\n",
    "    print(f\"Error cuadratico medio: {mean_mse}\")\n",
    "    ax.plot(ll.coef_,alpha=0.4,linestyle='none',marker=mk[na],markersize=7,label='Lasso, alpha=%.2f'%al)\n",
    "\n",
    "ax.set_xticks(np.arange(len(X.columns)))\n",
    "ax.set_xticklabels(X.columns, rotation = 90);\n",
    "ax.legend();"
   ]
  },
  {
   "cell_type": "code",
   "execution_count": 82,
   "metadata": {},
   "outputs": [],
   "source": [
    "# Uno de los mejores alpha es el 100"
   ]
  },
  {
   "cell_type": "code",
   "execution_count": 83,
   "metadata": {},
   "outputs": [
    {
     "name": "stdout",
     "output_type": "stream",
     "text": [
      "R2 train (Lasso): 0.9996738542376258\n",
      "R2 test (Lasso): 0.9501706730123622\n",
      "Error cuadratico medio: 0.9851340658713899\n"
     ]
    }
   ],
   "source": [
    "ll = Lasso(alpha=0.1) \n",
    "ll.fit(X_train, y_train)\n",
    "\n",
    "Lasso_train_score = ll.score(X_train,y_train)\n",
    "Lasso_test_score = ll.score(X_test, y_test)\n",
    "\n",
    "mse=cross_val_score(ll, X_test, y_test, cv=5)\n",
    "mean_mse=np.mean(mse)\n",
    "\n",
    "print(f\"R2 train (Lasso): {Lasso_train_score}\")\n",
    "print(f\"R2 test (Lasso): {Lasso_test_score}\")\n",
    "print(f\"Error cuadratico medio: {mean_mse}\")"
   ]
  },
  {
   "cell_type": "code",
   "execution_count": 84,
   "metadata": {},
   "outputs": [
    {
     "name": "stdout",
     "output_type": "stream",
     "text": [
      "Coeficientes: [ -44136.21574901 -200748.58540405  -38308.36841082   46247.0267111\n",
      " -100120.53861747  148918.77253283 -111714.16499282   97419.69776034\n",
      "   73974.72729046  120307.31588233   11996.75014484    4506.60832844\n",
      " -129726.43378664  257369.90521472    5737.25172299  -38682.91746594\n",
      "  -15922.85051014   68118.45622227   43329.09601128   44487.86625278\n",
      "  -80599.24678541  -89783.6613851  -137882.81934202  -60639.89636602\n",
      "  -91835.15423015  -37873.26425233  -15290.60947773  -67554.07514544\n",
      "   23934.9844245     1988.68408215   34096.70175616   30281.96848805\n",
      "   93349.46658923  124756.71145176   50452.24777061   64000.31854237\n",
      "   61250.40667424   77168.27346298   82871.70747092   31362.56872744\n",
      "  112041.88482679   95323.7123824   130314.40214763  106343.99489325\n",
      "   71487.78396597   78830.53568898   41693.94979506  -34605.55254072]\n"
     ]
    },
    {
     "data": {
      "image/png": "[encoded data removed]",
      "text/plain": [
       "<Figure size 1080x360 with 1 Axes>"
      ]
     },
     "metadata": {
      "needs_background": "light"
     },
     "output_type": "display_data"
    }
   ],
   "source": [
    "fig=plt.figure(figsize=(15,5))\n",
    "ax=fig.add_subplot(111)\n",
    "ax.plot(ll.coef_,alpha=0.4,linestyle='none',marker='o',markersize=7,color='green')\n",
    "ax.set_xticks(np.arange(len(X.columns)));\n",
    "ax.set_xticklabels(X.columns, rotation = 90);\n",
    "\n",
    "\n",
    "print('Coeficientes:',ll.coef_)"
   ]
  },
  {
   "cell_type": "code",
   "execution_count": 85,
   "metadata": {},
   "outputs": [],
   "source": [
    "# Lo mismo de antes, se produce overfitting por la complejidad de los datos"
   ]
  },
  {
   "cell_type": "code",
   "execution_count": 86,
   "metadata": {},
   "outputs": [
    {
     "data": {
      "text/html": [
       "<div>\n",
       "<style scoped>\n",
       "    .dataframe tbody tr th:only-of-type {\n",
       "        vertical-align: middle;\n",
       "    }\n",
       "\n",
       "    .dataframe tbody tr th {\n",
       "        vertical-align: top;\n",
       "    }\n",
       "\n",
       "    .dataframe thead th {\n",
       "        text-align: right;\n",
       "    }\n",
       "</style>\n",
       "<table border=\"1\" class=\"dataframe\">\n",
       "  <thead>\n",
       "    <tr style=\"text-align: right;\">\n",
       "      <th></th>\n",
       "      <th>(AverageTemperature, 2000)</th>\n",
       "      <th>(AverageTemperature, 2001)</th>\n",
       "      <th>(AverageTemperature, 2002)</th>\n",
       "      <th>(AverageTemperature, 2003)</th>\n",
       "      <th>(AverageTemperature, 2004)</th>\n",
       "      <th>(AverageTemperature, 2005)</th>\n",
       "      <th>(AverageTemperature, 2006)</th>\n",
       "      <th>(AverageTemperature, 2007)</th>\n",
       "      <th>(AverageTemperature, 2008)</th>\n",
       "      <th>(AverageTemperature, 2009)</th>\n",
       "      <th>(AverageTemperature, 2010)</th>\n",
       "      <th>(AverageTemperature, 2011)</th>\n",
       "      <th>(AverageTemperature, 2012)</th>\n",
       "      <th>(AverageTemperature, 2013)</th>\n",
       "    </tr>\n",
       "  </thead>\n",
       "  <tbody>\n",
       "    <tr>\n",
       "      <th>0</th>\n",
       "      <td>15.497833</td>\n",
       "      <td>15.778083</td>\n",
       "      <td>15.537667</td>\n",
       "      <td>14.91600</td>\n",
       "      <td>15.770917</td>\n",
       "      <td>14.980000</td>\n",
       "      <td>15.595583</td>\n",
       "      <td>15.106167</td>\n",
       "      <td>15.216500</td>\n",
       "      <td>15.25775</td>\n",
       "      <td>15.828667</td>\n",
       "      <td>15.518000</td>\n",
       "      <td>14.481583</td>\n",
       "      <td>16.533625</td>\n",
       "    </tr>\n",
       "    <tr>\n",
       "      <th>1</th>\n",
       "      <td>15.497833</td>\n",
       "      <td>15.778083</td>\n",
       "      <td>15.537667</td>\n",
       "      <td>14.91600</td>\n",
       "      <td>15.770917</td>\n",
       "      <td>14.980000</td>\n",
       "      <td>15.595583</td>\n",
       "      <td>15.106167</td>\n",
       "      <td>15.216500</td>\n",
       "      <td>15.25775</td>\n",
       "      <td>15.828667</td>\n",
       "      <td>15.518000</td>\n",
       "      <td>14.481583</td>\n",
       "      <td>16.533625</td>\n",
       "    </tr>\n",
       "    <tr>\n",
       "      <th>2</th>\n",
       "      <td>15.497833</td>\n",
       "      <td>15.778083</td>\n",
       "      <td>15.537667</td>\n",
       "      <td>14.91600</td>\n",
       "      <td>15.770917</td>\n",
       "      <td>14.980000</td>\n",
       "      <td>15.595583</td>\n",
       "      <td>15.106167</td>\n",
       "      <td>15.216500</td>\n",
       "      <td>15.25775</td>\n",
       "      <td>15.828667</td>\n",
       "      <td>15.518000</td>\n",
       "      <td>14.481583</td>\n",
       "      <td>16.533625</td>\n",
       "    </tr>\n",
       "    <tr>\n",
       "      <th>3</th>\n",
       "      <td>15.497833</td>\n",
       "      <td>15.778083</td>\n",
       "      <td>15.537667</td>\n",
       "      <td>14.91600</td>\n",
       "      <td>15.770917</td>\n",
       "      <td>14.980000</td>\n",
       "      <td>15.595583</td>\n",
       "      <td>15.106167</td>\n",
       "      <td>15.216500</td>\n",
       "      <td>15.25775</td>\n",
       "      <td>15.828667</td>\n",
       "      <td>15.518000</td>\n",
       "      <td>14.481583</td>\n",
       "      <td>16.533625</td>\n",
       "    </tr>\n",
       "    <tr>\n",
       "      <th>4</th>\n",
       "      <td>15.497833</td>\n",
       "      <td>15.778083</td>\n",
       "      <td>15.537667</td>\n",
       "      <td>14.91600</td>\n",
       "      <td>15.770917</td>\n",
       "      <td>14.980000</td>\n",
       "      <td>15.595583</td>\n",
       "      <td>15.106167</td>\n",
       "      <td>15.216500</td>\n",
       "      <td>15.25775</td>\n",
       "      <td>15.828667</td>\n",
       "      <td>15.518000</td>\n",
       "      <td>14.481583</td>\n",
       "      <td>16.533625</td>\n",
       "    </tr>\n",
       "    <tr>\n",
       "      <th>...</th>\n",
       "      <td>...</td>\n",
       "      <td>...</td>\n",
       "      <td>...</td>\n",
       "      <td>...</td>\n",
       "      <td>...</td>\n",
       "      <td>...</td>\n",
       "      <td>...</td>\n",
       "      <td>...</td>\n",
       "      <td>...</td>\n",
       "      <td>...</td>\n",
       "      <td>...</td>\n",
       "      <td>...</td>\n",
       "      <td>...</td>\n",
       "      <td>...</td>\n",
       "    </tr>\n",
       "    <tr>\n",
       "      <th>16140</th>\n",
       "      <td>21.149000</td>\n",
       "      <td>21.693667</td>\n",
       "      <td>22.081083</td>\n",
       "      <td>21.89125</td>\n",
       "      <td>21.330917</td>\n",
       "      <td>22.509917</td>\n",
       "      <td>21.618750</td>\n",
       "      <td>21.604250</td>\n",
       "      <td>21.545583</td>\n",
       "      <td>21.37725</td>\n",
       "      <td>21.986250</td>\n",
       "      <td>21.602417</td>\n",
       "      <td>21.521333</td>\n",
       "      <td>20.710750</td>\n",
       "    </tr>\n",
       "    <tr>\n",
       "      <th>16141</th>\n",
       "      <td>21.149000</td>\n",
       "      <td>21.693667</td>\n",
       "      <td>22.081083</td>\n",
       "      <td>21.89125</td>\n",
       "      <td>21.330917</td>\n",
       "      <td>22.509917</td>\n",
       "      <td>21.618750</td>\n",
       "      <td>21.604250</td>\n",
       "      <td>21.545583</td>\n",
       "      <td>21.37725</td>\n",
       "      <td>21.986250</td>\n",
       "      <td>21.602417</td>\n",
       "      <td>21.521333</td>\n",
       "      <td>20.710750</td>\n",
       "    </tr>\n",
       "    <tr>\n",
       "      <th>16142</th>\n",
       "      <td>21.149000</td>\n",
       "      <td>21.693667</td>\n",
       "      <td>22.081083</td>\n",
       "      <td>21.89125</td>\n",
       "      <td>21.330917</td>\n",
       "      <td>22.509917</td>\n",
       "      <td>21.618750</td>\n",
       "      <td>21.604250</td>\n",
       "      <td>21.545583</td>\n",
       "      <td>21.37725</td>\n",
       "      <td>21.986250</td>\n",
       "      <td>21.602417</td>\n",
       "      <td>21.521333</td>\n",
       "      <td>20.710750</td>\n",
       "    </tr>\n",
       "    <tr>\n",
       "      <th>16143</th>\n",
       "      <td>21.149000</td>\n",
       "      <td>21.693667</td>\n",
       "      <td>22.081083</td>\n",
       "      <td>21.89125</td>\n",
       "      <td>21.330917</td>\n",
       "      <td>22.509917</td>\n",
       "      <td>21.618750</td>\n",
       "      <td>21.604250</td>\n",
       "      <td>21.545583</td>\n",
       "      <td>21.37725</td>\n",
       "      <td>21.986250</td>\n",
       "      <td>21.602417</td>\n",
       "      <td>21.521333</td>\n",
       "      <td>20.710750</td>\n",
       "    </tr>\n",
       "    <tr>\n",
       "      <th>16144</th>\n",
       "      <td>21.149000</td>\n",
       "      <td>21.693667</td>\n",
       "      <td>22.081083</td>\n",
       "      <td>21.89125</td>\n",
       "      <td>21.330917</td>\n",
       "      <td>22.509917</td>\n",
       "      <td>21.618750</td>\n",
       "      <td>21.604250</td>\n",
       "      <td>21.545583</td>\n",
       "      <td>21.37725</td>\n",
       "      <td>21.986250</td>\n",
       "      <td>21.602417</td>\n",
       "      <td>21.521333</td>\n",
       "      <td>20.710750</td>\n",
       "    </tr>\n",
       "  </tbody>\n",
       "</table>\n",
       "<p>16145 rows × 14 columns</p>\n",
       "</div>"
      ],
      "text/plain": [
       "       (AverageTemperature, 2000)  (AverageTemperature, 2001)  \\\n",
       "0                       15.497833                   15.778083   \n",
       "1                       15.497833                   15.778083   \n",
       "2                       15.497833                   15.778083   \n",
       "3                       15.497833                   15.778083   \n",
       "4                       15.497833                   15.778083   \n",
       "...                           ...                         ...   \n",
       "16140                   21.149000                   21.693667   \n",
       "16141                   21.149000                   21.693667   \n",
       "16142                   21.149000                   21.693667   \n",
       "16143                   21.149000                   21.693667   \n",
       "16144                   21.149000                   21.693667   \n",
       "\n",
       "       (AverageTemperature, 2002)  (AverageTemperature, 2003)  \\\n",
       "0                       15.537667                    14.91600   \n",
       "1                       15.537667                    14.91600   \n",
       "2                       15.537667                    14.91600   \n",
       "3                       15.537667                    14.91600   \n",
       "4                       15.537667                    14.91600   \n",
       "...                           ...                         ...   \n",
       "16140                   22.081083                    21.89125   \n",
       "16141                   22.081083                    21.89125   \n",
       "16142                   22.081083                    21.89125   \n",
       "16143                   22.081083                    21.89125   \n",
       "16144                   22.081083                    21.89125   \n",
       "\n",
       "       (AverageTemperature, 2004)  (AverageTemperature, 2005)  \\\n",
       "0                       15.770917                   14.980000   \n",
       "1                       15.770917                   14.980000   \n",
       "2                       15.770917                   14.980000   \n",
       "3                       15.770917                   14.980000   \n",
       "4                       15.770917                   14.980000   \n",
       "...                           ...                         ...   \n",
       "16140                   21.330917                   22.509917   \n",
       "16141                   21.330917                   22.509917   \n",
       "16142                   21.330917                   22.509917   \n",
       "16143                   21.330917                   22.509917   \n",
       "16144                   21.330917                   22.509917   \n",
       "\n",
       "       (AverageTemperature, 2006)  (AverageTemperature, 2007)  \\\n",
       "0                       15.595583                   15.106167   \n",
       "1                       15.595583                   15.106167   \n",
       "2                       15.595583                   15.106167   \n",
       "3                       15.595583                   15.106167   \n",
       "4                       15.595583                   15.106167   \n",
       "...                           ...                         ...   \n",
       "16140                   21.618750                   21.604250   \n",
       "16141                   21.618750                   21.604250   \n",
       "16142                   21.618750                   21.604250   \n",
       "16143                   21.618750                   21.604250   \n",
       "16144                   21.618750                   21.604250   \n",
       "\n",
       "       (AverageTemperature, 2008)  (AverageTemperature, 2009)  \\\n",
       "0                       15.216500                    15.25775   \n",
       "1                       15.216500                    15.25775   \n",
       "2                       15.216500                    15.25775   \n",
       "3                       15.216500                    15.25775   \n",
       "4                       15.216500                    15.25775   \n",
       "...                           ...                         ...   \n",
       "16140                   21.545583                    21.37725   \n",
       "16141                   21.545583                    21.37725   \n",
       "16142                   21.545583                    21.37725   \n",
       "16143                   21.545583                    21.37725   \n",
       "16144                   21.545583                    21.37725   \n",
       "\n",
       "       (AverageTemperature, 2010)  (AverageTemperature, 2011)  \\\n",
       "0                       15.828667                   15.518000   \n",
       "1                       15.828667                   15.518000   \n",
       "2                       15.828667                   15.518000   \n",
       "3                       15.828667                   15.518000   \n",
       "4                       15.828667                   15.518000   \n",
       "...                           ...                         ...   \n",
       "16140                   21.986250                   21.602417   \n",
       "16141                   21.986250                   21.602417   \n",
       "16142                   21.986250                   21.602417   \n",
       "16143                   21.986250                   21.602417   \n",
       "16144                   21.986250                   21.602417   \n",
       "\n",
       "       (AverageTemperature, 2012)  (AverageTemperature, 2013)  \n",
       "0                       14.481583                   16.533625  \n",
       "1                       14.481583                   16.533625  \n",
       "2                       14.481583                   16.533625  \n",
       "3                       14.481583                   16.533625  \n",
       "4                       14.481583                   16.533625  \n",
       "...                           ...                         ...  \n",
       "16140                   21.521333                   20.710750  \n",
       "16141                   21.521333                   20.710750  \n",
       "16142                   21.521333                   20.710750  \n",
       "16143                   21.521333                   20.710750  \n",
       "16144                   21.521333                   20.710750  \n",
       "\n",
       "[16145 rows x 14 columns]"
      ]
     },
     "execution_count": 86,
     "metadata": {},
     "output_type": "execute_result"
    }
   ],
   "source": [
    "col_temp = list(gdf_temp.columns)\n",
    "\n",
    "X = gdf_temp[col_temp[0:-3]]\n",
    "X"
   ]
  },
  {
   "cell_type": "markdown",
   "metadata": {},
   "source": [
    "# CONCLUSIONES"
   ]
  },
  {
   "cell_type": "markdown",
   "metadata": {},
   "source": [
    "Nosotros concluimos que es necesario tomar ya acciones para generar cambios.Gracias a este informe pudimos ver un datos y hechos que el cambio climatico no es un invento y que la emision de gases contaminantes aumentan exponencialmente. Tambien pudimos analizar en el trabajo, que China es un pais contaminante a extremos. Creemos que a paises como China, Estados Unidos y Rusia se le deberian cobrar altas multas por exceder un tope de emisiones de gases. Ya que estamos en el punto decisivo de hacer un cambio. Tristemente si no hay plata de por medio la gente no cumple. Tambien vimos las predicciones de Metano y Dioxido de carbono. Alfinal no realizamos la de la temperatura porque los datos eran muy inexactos y en todas las regresiones de temperaturas que hicimos era overfitting demasiado extremo, por lo que deicidimos sacarla y darle otro enfoque al trabajo. Finalmente queremos trasnmitir alerta y consciencia, pero tambien esperanza y perseverancia que todos juntos podemos cambiar el mundo. Es necesario empezar a ver el cambio climatico como una alerta roja, no como algo sencillo. Una idea que se esta llevando a cabo en varios paises, es prohibir los autos que no sean electricos, o subir el precio de la gasolina."
   ]
  }
 ],
 "metadata": {
  "colab": {
   "name": "Proyecto.ipynb",
   "provenance": []
  },
  "kernelspec": {
   "display_name": "Python 3 (ipykernel)",
   "language": "python",
   "name": "python3"
  },
  "language_info": {
   "codemirror_mode": {
    "name": "ipython",
    "version": 3
   },
   "file_extension": ".py",
   "mimetype": "text/x-python",
   "name": "python",
   "nbconvert_exporter": "python",
   "pygments_lexer": "ipython3",
   "version": "3.7.11"
  }
 },
 "nbformat": 4,
 "nbformat_minor": 1
}
