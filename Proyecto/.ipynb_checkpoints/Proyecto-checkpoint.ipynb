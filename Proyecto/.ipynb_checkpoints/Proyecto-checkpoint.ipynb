{
 "cells": [
  {
   "cell_type": "code",
   "execution_count": 1,
   "metadata": {
    "colab": {
     "base_uri": "https://localhost:8080/"
    },
    "id": "6icQmaE2j8dN",
    "outputId": "bb41826c-ec6f-4ed2-d38d-59dce0fba6cc"
   },
   "outputs": [
    {
     "name": "stdout",
     "output_type": "stream",
     "text": [
      "Requirement already satisfied: geopandas in c:\\users\\joaqu\\anaconda34\\envs\\geo_env\\lib\\site-packages (0.9.0)\n",
      "Requirement already satisfied: shapely>=1.6 in c:\\users\\joaqu\\anaconda34\\envs\\geo_env\\lib\\site-packages (from geopandas) (1.7.1)\n",
      "Requirement already satisfied: pyproj>=2.2.0 in c:\\users\\joaqu\\anaconda34\\envs\\geo_env\\lib\\site-packages (from geopandas) (3.1.0)\n",
      "Requirement already satisfied: pandas>=0.24.0 in c:\\users\\joaqu\\anaconda34\\envs\\geo_env\\lib\\site-packages (from geopandas) (1.3.2)\n",
      "Requirement already satisfied: fiona>=1.8 in c:\\users\\joaqu\\anaconda34\\envs\\geo_env\\lib\\site-packages (from geopandas) (1.8.20)\n",
      "Requirement already satisfied: attrs>=17 in c:\\users\\joaqu\\anaconda34\\envs\\geo_env\\lib\\site-packages (from fiona>=1.8->geopandas) (21.2.0)\n",
      "Requirement already satisfied: certifi in c:\\users\\joaqu\\anaconda34\\envs\\geo_env\\lib\\site-packages (from fiona>=1.8->geopandas) (2021.5.30)\n",
      "Requirement already satisfied: click>=4.0 in c:\\users\\joaqu\\anaconda34\\envs\\geo_env\\lib\\site-packages (from fiona>=1.8->geopandas) (7.1.2)\n",
      "Requirement already satisfied: cligj>=0.5 in c:\\users\\joaqu\\anaconda34\\envs\\geo_env\\lib\\site-packages (from fiona>=1.8->geopandas) (0.7.2)\n",
      "Requirement already satisfied: click-plugins>=1.0 in c:\\users\\joaqu\\anaconda34\\envs\\geo_env\\lib\\site-packages (from fiona>=1.8->geopandas) (1.1.1)\n",
      "Requirement already satisfied: six>=1.7 in c:\\users\\joaqu\\anaconda34\\envs\\geo_env\\lib\\site-packages (from fiona>=1.8->geopandas) (1.16.0)\n",
      "Requirement already satisfied: munch in c:\\users\\joaqu\\anaconda34\\envs\\geo_env\\lib\\site-packages (from fiona>=1.8->geopandas) (2.5.0)\n",
      "Requirement already satisfied: setuptools in c:\\users\\joaqu\\anaconda34\\envs\\geo_env\\lib\\site-packages (from fiona>=1.8->geopandas) (57.4.0)\n",
      "Requirement already satisfied: python-dateutil>=2.7.3 in c:\\users\\joaqu\\anaconda34\\envs\\geo_env\\lib\\site-packages (from pandas>=0.24.0->geopandas) (2.8.2)\n",
      "Requirement already satisfied: numpy>=1.17.3 in c:\\users\\joaqu\\anaconda34\\envs\\geo_env\\lib\\site-packages (from pandas>=0.24.0->geopandas) (1.21.2)\n",
      "Requirement already satisfied: pytz>=2017.3 in c:\\users\\joaqu\\anaconda34\\envs\\geo_env\\lib\\site-packages (from pandas>=0.24.0->geopandas) (2021.1)\n"
     ]
    }
   ],
   "source": [
    "!pip install geopandas"
   ]
  },
  {
   "cell_type": "code",
   "execution_count": null,
   "metadata": {
    "id": "HP0FLmxme3jL"
   },
   "outputs": [],
   "source": [
    "#Importacion de modulos importantes para la Investigacion\n",
    "import pandas as pd\n",
    "import geopandas as gpd\n",
    "import matplotlib.pyplot as plt"
   ]
  },
  {
   "cell_type": "code",
   "execution_count": null,
   "metadata": {
    "colab": {
     "base_uri": "https://localhost:8080/",
     "height": 444
    },
    "id": "ZRHQ94V9gJjN",
    "outputId": "f0cc81d7-27eb-4f09-fb42-bada338371f2"
   },
   "outputs": [],
   "source": [
    "df_co2_emissions = pd.read_csv('Data Emisiones de CO2.csv')\n",
    "df_co2_emissions"
   ]
  },
  {
   "cell_type": "code",
   "execution_count": null,
   "metadata": {
    "colab": {
     "base_uri": "https://localhost:8080/",
     "height": 424
    },
    "id": "NZJ_AbGfg_F7",
    "outputId": "5490674f-5939-497f-d74b-6fdee82a6810"
   },
   "outputs": [],
   "source": [
    "keep_cols = ['iso_code', 'country', 'year', 'co2', 'population' ]\n",
    "df_co2_emissions = df_co2_emissions[keep_cols]\n",
    "df_co2_emissions"
   ]
  },
  {
   "cell_type": "code",
   "execution_count": null,
   "metadata": {
    "colab": {
     "base_uri": "https://localhost:8080/"
    },
    "id": "9M-jnNvfhv0I",
    "outputId": "b8d1aa63-b894-4836-ece3-74e393faedf1"
   },
   "outputs": [],
   "source": [
    "df_co2_emissions.dtypes"
   ]
  },
  {
   "cell_type": "code",
   "execution_count": null,
   "metadata": {
    "colab": {
     "base_uri": "https://localhost:8080/",
     "height": 424
    },
    "id": "HuUhrQyhiM30",
    "outputId": "9b0991d6-4f09-473f-d7e9-a887794c3d89"
   },
   "outputs": [],
   "source": [
    "filtro = df_co2_emissions['year'] == 2000\n",
    "df_co2_emissions_2000 = df_co2_emissions[filtro]\n",
    "df_co2_emissions_2000"
   ]
  },
  {
   "cell_type": "code",
   "execution_count": null,
   "metadata": {
    "colab": {
     "base_uri": "https://localhost:8080/"
    },
    "id": "m-76_jwYxqKJ",
    "outputId": "1edfda74-e58b-4455-8c93-3769796f40c6"
   },
   "outputs": [],
   "source": [
    "df_co2_emissions_2000['co2'].sum()"
   ]
  },
  {
   "cell_type": "code",
   "execution_count": null,
   "metadata": {
    "colab": {
     "base_uri": "https://localhost:8080/"
    },
    "id": "qYd6yHMnyKi_",
    "outputId": "e4fd0597-7c17-4308-f54d-e1873c9c3f83"
   },
   "outputs": [],
   "source": [
    "df_co2_emissions_2000['population'].sum()"
   ]
  },
  {
   "cell_type": "code",
   "execution_count": null,
   "metadata": {
    "colab": {
     "base_uri": "https://localhost:8080/",
     "height": 424
    },
    "id": "J2KF6nKZi2O4",
    "outputId": "6a3ac4b9-62b2-423d-c3ac-8b3d4f11198d"
   },
   "outputs": [],
   "source": [
    "filtro = df_co2_emissions['year'] == 2010\n",
    "df_co2_emissions_2010 = df_co2_emissions[filtro]\n",
    "df_co2_emissions_2010"
   ]
  },
  {
   "cell_type": "code",
   "execution_count": null,
   "metadata": {
    "colab": {
     "base_uri": "https://localhost:8080/"
    },
    "id": "LvLI3aX9xzzL",
    "outputId": "eb1d2b5e-8a76-4c42-8ff6-bc3daa81fa4e"
   },
   "outputs": [],
   "source": [
    "df_co2_emissions_2010['co2'].sum()"
   ]
  },
  {
   "cell_type": "code",
   "execution_count": null,
   "metadata": {
    "colab": {
     "base_uri": "https://localhost:8080/",
     "height": 424
    },
    "id": "JUBuUTpTjDVy",
    "outputId": "58e546fd-cdbb-468a-c850-18c31cf6d9b8"
   },
   "outputs": [],
   "source": [
    "filtro = df_co2_emissions['year'] == 2019\n",
    "df_co2_emissions_2019 = df_co2_emissions[filtro]\n",
    "df_co2_emissions_2019"
   ]
  },
  {
   "cell_type": "code",
   "execution_count": null,
   "metadata": {
    "colab": {
     "base_uri": "https://localhost:8080/"
    },
    "id": "QkF_VJ69x6VM",
    "outputId": "fed74a53-9713-4391-ee11-5e104984a3ec"
   },
   "outputs": [],
   "source": [
    "df_co2_emissions_2019['co2'].sum()"
   ]
  },
  {
   "cell_type": "code",
   "execution_count": null,
   "metadata": {
    "colab": {
     "base_uri": "https://localhost:8080/",
     "height": 424
    },
    "id": "o74fnmiZka7H",
    "outputId": "9687f42e-bc37-4eb7-c861-45e022b03536"
   },
   "outputs": [],
   "source": [
    "world = gpd.read_file(gpd.datasets.get_path('naturalearth_lowres'))\n",
    "world.rename(columns = {'iso_a3':'iso_code'}, inplace = True)\n",
    "keep_cols = ['iso_code', 'geometry']\n",
    "world = world[keep_cols]\n",
    "world"
   ]
  },
  {
   "cell_type": "code",
   "execution_count": null,
   "metadata": {
    "colab": {
     "base_uri": "https://localhost:8080/",
     "height": 424
    },
    "id": "MctqcwllqEU_",
    "outputId": "3bd66d02-de29-4dfa-98c6-dcf2f2f74b04"
   },
   "outputs": [],
   "source": [
    "gdf_co2_emissions_2000 = pd.merge(world, df_co2_emissions_2000, on='iso_code')\n",
    "gdf_co2_emissions_2000"
   ]
  },
  {
   "cell_type": "code",
   "execution_count": null,
   "metadata": {
    "colab": {
     "base_uri": "https://localhost:8080/",
     "height": 391
    },
    "id": "B1UdQ4Fsrkd7",
    "outputId": "be544e90-cd4d-4b85-f883-6e61d152c93d"
   },
   "outputs": [],
   "source": [
    "gdf_co2_emissions_2000.plot(figsize = (18, 6), column='co2', legend=True, cmap = 'Reds')"
   ]
  },
  {
   "cell_type": "code",
   "execution_count": null,
   "metadata": {
    "colab": {
     "base_uri": "https://localhost:8080/",
     "height": 424
    },
    "id": "ZwnOcR24wQii",
    "outputId": "9fb8f1d8-e6bb-4b95-bb71-6ce735001b75"
   },
   "outputs": [],
   "source": [
    "gdf_co2_emissions_2010 = pd.merge(world, df_co2_emissions_2010, on='iso_code')\n",
    "gdf_co2_emissions_2010"
   ]
  },
  {
   "cell_type": "code",
   "execution_count": null,
   "metadata": {
    "colab": {
     "base_uri": "https://localhost:8080/",
     "height": 384
    },
    "id": "PhYNM5ZswVld",
    "outputId": "04aa12ca-681c-4777-9c13-7fb6c03c62cc"
   },
   "outputs": [],
   "source": [
    "gdf_co2_emissions_2010.plot(figsize = (18, 6), column='co2', legend=True, cmap = 'Reds')"
   ]
  },
  {
   "cell_type": "code",
   "execution_count": null,
   "metadata": {
    "colab": {
     "base_uri": "https://localhost:8080/",
     "height": 424
    },
    "id": "akWqkz0lwWn4",
    "outputId": "dc9addd7-c93e-483d-e7f7-5661822403af"
   },
   "outputs": [],
   "source": [
    "gdf_co2_emissions_2019 = pd.merge(world, df_co2_emissions_2019, on='iso_code')\n",
    "gdf_co2_emissions_2019"
   ]
  },
  {
   "cell_type": "code",
   "execution_count": null,
   "metadata": {
    "colab": {
     "base_uri": "https://localhost:8080/",
     "height": 384
    },
    "id": "7WxNjjS1wldb",
    "outputId": "0db1426e-3a3d-4e3b-f57c-a64dfb53de9f"
   },
   "outputs": [],
   "source": [
    "gdf_co2_emissions_2019.plot(figsize = (18, 6), column='co2', legend=True, cmap = 'Reds')"
   ]
  },
  {
   "cell_type": "markdown",
   "metadata": {
    "id": "iUm-1kPBvcBv"
   },
   "source": [
    "# Analisis exploratorio"
   ]
  },
  {
   "cell_type": "code",
   "execution_count": null,
   "metadata": {},
   "outputs": [],
   "source": [
    "df_co2_emissions_2010"
   ]
  },
  {
   "cell_type": "code",
   "execution_count": null,
   "metadata": {},
   "outputs": [],
   "source": []
  }
 ],
 "metadata": {
  "colab": {
   "name": "Proyecto.ipynb",
   "provenance": []
  },
  "kernelspec": {
   "display_name": "Python 3 (ipykernel)",
   "language": "python",
   "name": "python3"
  },
  "language_info": {
   "codemirror_mode": {
    "name": "ipython",
    "version": 3
   },
   "file_extension": ".py",
   "mimetype": "text/x-python",
   "name": "python",
   "nbconvert_exporter": "python",
   "pygments_lexer": "ipython3",
   "version": "3.9.6"
  }
 },
 "nbformat": 4,
 "nbformat_minor": 1
}
